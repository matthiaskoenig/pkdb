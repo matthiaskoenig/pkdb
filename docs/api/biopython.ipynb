{
 "cells": [
  {
   "cell_type": "code",
   "execution_count": 1,
   "metadata": {
    "collapsed": true
   },
   "outputs": [],
   "source": [
    "import os\n",
    "import xml.etree.ElementTree as ET\n",
    "from Bio import Entrez\n"
   ]
  },
  {
   "cell_type": "code",
   "execution_count": 2,
   "metadata": {
    "collapsed": true
   },
   "outputs": [],
   "source": [
    "\n",
    "def load_from_biopython(d):\n",
    "    Entrez.email = 'janekg89@hotmail.de'\n",
    "    handle = Entrez.efetch(db='pubmed', id=d, retmode='xml')\n",
    "    all_info = handle.read()\n",
    "    handle.close()\n",
    "    return {'xml': all_info}"
   ]
  },
  {
   "cell_type": "code",
   "execution_count": 47,
   "metadata": {
    "collapsed": true
   },
   "outputs": [],
   "source": [
    "d =  2853056"
   ]
  },
  {
   "cell_type": "code",
   "execution_count": 4,
   "metadata": {
    "collapsed": true
   },
   "outputs": [],
   "source": [
    "x = ET.fromstring(load_from_biopython(d)[\"xml\"])"
   ]
  },
  {
   "cell_type": "code",
   "execution_count": 5,
   "metadata": {},
   "outputs": [
    {
     "name": "stdout",
     "output_type": "stream",
     "text": [
      "S\n",
      "A H\n",
      "C\n",
      "A\n",
      "W\n",
      "P M\n"
     ]
    }
   ],
   "source": [
    "\n",
    "for author in x.iter(\"Author\"):\n",
    "    print(author.find(\"ForeName\").text)"
   ]
  },
  {
   "cell_type": "code",
   "execution_count": 6,
   "metadata": {},
   "outputs": [
    {
     "name": "stdout",
     "output_type": "stream",
     "text": [
      "The pharmacokinetics of caffeine, including formation of its major metabolite paraxanthine in plasma, has been investigated in 12 healthy males (age 20-40 years) alone and during co-administration of the 4-quinolones ofloxacin, norfloxacin, pipemidic acid, ciprofloxacin, and enoxacin; ciprofloxacin and enoxacin were given in 3 different dose levels. The naphthyridine derivative enoxacin and the pyrido-pyrimidine derivative pipemidic acid had caused marked inhibition of caffeine and paraxanthine metabolism, whereas the genuine quinolone derivatives norfloxacin and ciprofloxacin had little effect, and the pyrido-benzoxacine derivative ofloxacin had no detectable effect. The different molecular and spatial structures of the compounds appear to be responsible for the differences in inhibitory potency.\n"
     ]
    }
   ],
   "source": [
    "for t in x.iter(\"AbstractText\"):\n",
    "    print(t.text)"
   ]
  },
  {
   "cell_type": "code",
   "execution_count": 21,
   "metadata": {},
   "outputs": [
    {
     "name": "stdout",
     "output_type": "stream",
     "text": [
      "1988\n",
      "1\n",
      "1\n",
      "1988\n",
      "1\n",
      "1\n",
      "1988\n",
      "1\n",
      "1\n"
     ]
    }
   ],
   "source": [
    "    for date in x.iter(\"PubMedPubDate\"):\n",
    "\n",
    "        print(date.find('Year').text)\n",
    "        print(date.find('Month').text)\n",
    "        print(date.find('Day').text)"
   ]
  },
  {
   "cell_type": "code",
   "execution_count": 23,
   "metadata": {},
   "outputs": [],
   "source": [
    "import requests"
   ]
  },
  {
   "cell_type": "code",
   "execution_count": 41,
   "metadata": {
    "collapsed": true
   },
   "outputs": [],
   "source": [
    "d1 = 14699080"
   ]
  },
  {
   "cell_type": "code",
   "execution_count": 48,
   "metadata": {},
   "outputs": [],
   "source": [
    "response = requests.get(f'https://www.ncbi.nlm.nih.gov/pmc/utils/idconv/v1.0/?tool=my_tool&email=my_email@example.com&ids={d}')"
   ]
  },
  {
   "cell_type": "code",
   "execution_count": 49,
   "metadata": {},
   "outputs": [],
   "source": [
    "pmcids = ET.fromstring(response.content)"
   ]
  },
  {
   "cell_type": "code",
   "execution_count": 50,
   "metadata": {},
   "outputs": [
    {
     "name": "stdout",
     "output_type": "stream",
     "text": [
      "None\n",
      "{'requested-id': '2853056', 'pmid': '2853056', 'live': 'false', 'status': 'error'}\n"
     ]
    }
   ],
   "source": [
    "for records in pmcids.iter(\"record\"):\n",
    "    #if 'doi' in records.attrib:\n",
    "    print(records.get('doi'))\n",
    "        \n",
    "    print(records.attrib)\n",
    "    "
   ]
  },
  {
   "cell_type": "code",
   "execution_count": 35,
   "metadata": {},
   "outputs": [
    {
     "ename": "AttributeError",
     "evalue": "'NoneType' object has no attribute 'attribs'",
     "output_type": "error",
     "traceback": [
      "\u001b[0;31m---------------------------------------------------------------------------\u001b[0m",
      "\u001b[0;31mAttributeError\u001b[0m                            Traceback (most recent call last)",
      "\u001b[0;32m<ipython-input-35-a0b2bdb9d91b>\u001b[0m in \u001b[0;36m<module>\u001b[0;34m()\u001b[0m\n\u001b[0;32m----> 1\u001b[0;31m \u001b[0mrecord\u001b[0m\u001b[0;34m.\u001b[0m\u001b[0mattribs\u001b[0m\u001b[0;34m\u001b[0m\u001b[0m\n\u001b[0m",
      "\u001b[0;31mAttributeError\u001b[0m: 'NoneType' object has no attribute 'attribs'"
     ]
    }
   ],
   "source": []
  },
  {
   "cell_type": "code",
   "execution_count": null,
   "metadata": {
    "collapsed": true
   },
   "outputs": [],
   "source": []
  }
 ],
 "metadata": {
  "kernelspec": {
   "display_name": "pkdb",
   "language": "python",
   "name": "pkdb"
  },
  "language_info": {
   "codemirror_mode": {
    "name": "ipython",
    "version": 3
   },
   "file_extension": ".py",
   "mimetype": "text/x-python",
   "name": "python",
   "nbconvert_exporter": "python",
   "pygments_lexer": "ipython3",
   "version": "3.6.5"
  }
 },
 "nbformat": 4,
 "nbformat_minor": 2
}
