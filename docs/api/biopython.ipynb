{
 "cells": [
  {
   "cell_type": "code",
   "execution_count": 5,
   "metadata": {
    "collapsed": true
   },
   "outputs": [],
   "source": [
    "import os\n",
    "import xml.etree.ElementTree as ET\n",
    "from Bio import Entrez\n"
   ]
  },
  {
   "cell_type": "code",
   "execution_count": 15,
   "metadata": {
    "collapsed": true
   },
   "outputs": [],
   "source": [
    "\n",
    "def load_from_biopython(d):\n",
    "    Entrez.email = 'janekg89@hotmail.de'\n",
    "    handle = Entrez.efetch(db='pubmed', id=d, retmode='xml')\n",
    "    all_info = handle.read()\n",
    "    handle.close()\n",
    "    return {'xml': all_info}"
   ]
  },
  {
   "cell_type": "code",
   "execution_count": 19,
   "metadata": {
    "collapsed": true
   },
   "outputs": [],
   "source": [
    "d =  2853056"
   ]
  },
  {
   "cell_type": "code",
   "execution_count": 20,
   "metadata": {
    "collapsed": true
   },
   "outputs": [],
   "source": [
    "x = ET.fromstring(load_from_biopython(d)[\"xml\"])"
   ]
  },
  {
   "cell_type": "code",
   "execution_count": 26,
   "metadata": {},
   "outputs": [
    {
     "name": "stdout",
     "output_type": "stream",
     "text": [
      "S\n",
      "A H\n",
      "C\n",
      "A\n",
      "W\n",
      "P M\n"
     ]
    }
   ],
   "source": [
    "\n",
    "for author in x.iter(\"Author\"):\n",
    "    print(author.find(\"ForeName\").text)"
   ]
  },
  {
   "cell_type": "code",
   "execution_count": 36,
   "metadata": {},
   "outputs": [
    {
     "name": "stdout",
     "output_type": "stream",
     "text": [
      "The pharmacokinetics of caffeine, including formation of its major metabolite paraxanthine in plasma, has been investigated in 12 healthy males (age 20-40 years) alone and during co-administration of the 4-quinolones ofloxacin, norfloxacin, pipemidic acid, ciprofloxacin, and enoxacin; ciprofloxacin and enoxacin were given in 3 different dose levels. The naphthyridine derivative enoxacin and the pyrido-pyrimidine derivative pipemidic acid had caused marked inhibition of caffeine and paraxanthine metabolism, whereas the genuine quinolone derivatives norfloxacin and ciprofloxacin had little effect, and the pyrido-benzoxacine derivative ofloxacin had no detectable effect. The different molecular and spatial structures of the compounds appear to be responsible for the differences in inhibitory potency.\n"
     ]
    }
   ],
   "source": [
    "for t in x.iter(\"AbstractText\"):\n",
    "    print(t.text)"
   ]
  },
  {
   "cell_type": "code",
   "execution_count": null,
   "metadata": {
    "collapsed": true
   },
   "outputs": [],
   "source": []
  }
 ],
 "metadata": {
  "kernelspec": {
   "display_name": "pkdb",
   "language": "python",
   "name": "pkdb"
  },
  "language_info": {
   "codemirror_mode": {
    "name": "ipython",
    "version": 3
   },
   "file_extension": ".py",
   "mimetype": "text/x-python",
   "name": "python",
   "nbconvert_exporter": "python",
   "pygments_lexer": "ipython3",
   "version": "3.6.5"
  }
 },
 "nbformat": 4,
 "nbformat_minor": 2
}
