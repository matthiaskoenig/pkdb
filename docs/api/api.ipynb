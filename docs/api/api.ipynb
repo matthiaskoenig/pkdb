{
 "cells": [
  {
   "cell_type": "markdown",
   "metadata": {
    "collapsed": true
   },
   "source": [
    "# Api Client\n",
    "The following tutorial demonstarates how to access the api with python"
   ]
  },
  {
   "cell_type": "code",
   "execution_count": 138,
   "metadata": {
    "collapsed": true
   },
   "outputs": [],
   "source": [
    "#import libraries\n",
    "import coreapi\n",
    "import requests\n",
    "import json\n",
    "from pprint import pprint\n",
    "from requests.auth import HTTPBasicAuth\n"
   ]
  },
  {
   "cell_type": "code",
   "execution_count": 139,
   "metadata": {},
   "outputs": [
    {
     "ename": "ConnectionError",
     "evalue": "('Connection aborted.', ConnectionResetError(104, 'Connection reset by peer'))",
     "output_type": "error",
     "traceback": [
      "\u001b[0;31m---------------------------------------------------------------------------\u001b[0m",
      "\u001b[0;31mConnectionResetError\u001b[0m                      Traceback (most recent call last)",
      "\u001b[0;32m~/Envs/pkdb-test/lib/python3.6/site-packages/urllib3/connectionpool.py\u001b[0m in \u001b[0;36murlopen\u001b[0;34m(self, method, url, body, headers, retries, redirect, assert_same_host, timeout, pool_timeout, release_conn, chunked, body_pos, **response_kw)\u001b[0m\n\u001b[1;32m    599\u001b[0m                                                   \u001b[0mbody\u001b[0m\u001b[0;34m=\u001b[0m\u001b[0mbody\u001b[0m\u001b[0;34m,\u001b[0m \u001b[0mheaders\u001b[0m\u001b[0;34m=\u001b[0m\u001b[0mheaders\u001b[0m\u001b[0;34m,\u001b[0m\u001b[0;34m\u001b[0m\u001b[0m\n\u001b[0;32m--> 600\u001b[0;31m                                                   chunked=chunked)\n\u001b[0m\u001b[1;32m    601\u001b[0m \u001b[0;34m\u001b[0m\u001b[0m\n",
      "\u001b[0;32m~/Envs/pkdb-test/lib/python3.6/site-packages/urllib3/connectionpool.py\u001b[0m in \u001b[0;36m_make_request\u001b[0;34m(self, conn, method, url, timeout, chunked, **httplib_request_kw)\u001b[0m\n\u001b[1;32m    383\u001b[0m                     \u001b[0;31m# otherwise it looks like a programming error was the cause.\u001b[0m\u001b[0;34m\u001b[0m\u001b[0;34m\u001b[0m\u001b[0m\n\u001b[0;32m--> 384\u001b[0;31m                     \u001b[0msix\u001b[0m\u001b[0;34m.\u001b[0m\u001b[0mraise_from\u001b[0m\u001b[0;34m(\u001b[0m\u001b[0me\u001b[0m\u001b[0;34m,\u001b[0m \u001b[0;32mNone\u001b[0m\u001b[0;34m)\u001b[0m\u001b[0;34m\u001b[0m\u001b[0m\n\u001b[0m\u001b[1;32m    385\u001b[0m         \u001b[0;32mexcept\u001b[0m \u001b[0;34m(\u001b[0m\u001b[0mSocketTimeout\u001b[0m\u001b[0;34m,\u001b[0m \u001b[0mBaseSSLError\u001b[0m\u001b[0;34m,\u001b[0m \u001b[0mSocketError\u001b[0m\u001b[0;34m)\u001b[0m \u001b[0;32mas\u001b[0m \u001b[0me\u001b[0m\u001b[0;34m:\u001b[0m\u001b[0;34m\u001b[0m\u001b[0m\n",
      "\u001b[0;32m~/Envs/pkdb-test/lib/python3.6/site-packages/urllib3/packages/six.py\u001b[0m in \u001b[0;36mraise_from\u001b[0;34m(value, from_value)\u001b[0m\n",
      "\u001b[0;32m~/Envs/pkdb-test/lib/python3.6/site-packages/urllib3/connectionpool.py\u001b[0m in \u001b[0;36m_make_request\u001b[0;34m(self, conn, method, url, timeout, chunked, **httplib_request_kw)\u001b[0m\n\u001b[1;32m    379\u001b[0m                 \u001b[0;32mtry\u001b[0m\u001b[0;34m:\u001b[0m\u001b[0;34m\u001b[0m\u001b[0m\n\u001b[0;32m--> 380\u001b[0;31m                     \u001b[0mhttplib_response\u001b[0m \u001b[0;34m=\u001b[0m \u001b[0mconn\u001b[0m\u001b[0;34m.\u001b[0m\u001b[0mgetresponse\u001b[0m\u001b[0;34m(\u001b[0m\u001b[0;34m)\u001b[0m\u001b[0;34m\u001b[0m\u001b[0m\n\u001b[0m\u001b[1;32m    381\u001b[0m                 \u001b[0;32mexcept\u001b[0m \u001b[0mException\u001b[0m \u001b[0;32mas\u001b[0m \u001b[0me\u001b[0m\u001b[0;34m:\u001b[0m\u001b[0;34m\u001b[0m\u001b[0m\n",
      "\u001b[0;32m/usr/lib/python3.6/http/client.py\u001b[0m in \u001b[0;36mgetresponse\u001b[0;34m(self)\u001b[0m\n\u001b[1;32m   1330\u001b[0m             \u001b[0;32mtry\u001b[0m\u001b[0;34m:\u001b[0m\u001b[0;34m\u001b[0m\u001b[0m\n\u001b[0;32m-> 1331\u001b[0;31m                 \u001b[0mresponse\u001b[0m\u001b[0;34m.\u001b[0m\u001b[0mbegin\u001b[0m\u001b[0;34m(\u001b[0m\u001b[0;34m)\u001b[0m\u001b[0;34m\u001b[0m\u001b[0m\n\u001b[0m\u001b[1;32m   1332\u001b[0m             \u001b[0;32mexcept\u001b[0m \u001b[0mConnectionError\u001b[0m\u001b[0;34m:\u001b[0m\u001b[0;34m\u001b[0m\u001b[0m\n",
      "\u001b[0;32m/usr/lib/python3.6/http/client.py\u001b[0m in \u001b[0;36mbegin\u001b[0;34m(self)\u001b[0m\n\u001b[1;32m    296\u001b[0m         \u001b[0;32mwhile\u001b[0m \u001b[0;32mTrue\u001b[0m\u001b[0;34m:\u001b[0m\u001b[0;34m\u001b[0m\u001b[0m\n\u001b[0;32m--> 297\u001b[0;31m             \u001b[0mversion\u001b[0m\u001b[0;34m,\u001b[0m \u001b[0mstatus\u001b[0m\u001b[0;34m,\u001b[0m \u001b[0mreason\u001b[0m \u001b[0;34m=\u001b[0m \u001b[0mself\u001b[0m\u001b[0;34m.\u001b[0m\u001b[0m_read_status\u001b[0m\u001b[0;34m(\u001b[0m\u001b[0;34m)\u001b[0m\u001b[0;34m\u001b[0m\u001b[0m\n\u001b[0m\u001b[1;32m    298\u001b[0m             \u001b[0;32mif\u001b[0m \u001b[0mstatus\u001b[0m \u001b[0;34m!=\u001b[0m \u001b[0mCONTINUE\u001b[0m\u001b[0;34m:\u001b[0m\u001b[0;34m\u001b[0m\u001b[0m\n",
      "\u001b[0;32m/usr/lib/python3.6/http/client.py\u001b[0m in \u001b[0;36m_read_status\u001b[0;34m(self)\u001b[0m\n\u001b[1;32m    257\u001b[0m     \u001b[0;32mdef\u001b[0m \u001b[0m_read_status\u001b[0m\u001b[0;34m(\u001b[0m\u001b[0mself\u001b[0m\u001b[0;34m)\u001b[0m\u001b[0;34m:\u001b[0m\u001b[0;34m\u001b[0m\u001b[0m\n\u001b[0;32m--> 258\u001b[0;31m         \u001b[0mline\u001b[0m \u001b[0;34m=\u001b[0m \u001b[0mstr\u001b[0m\u001b[0;34m(\u001b[0m\u001b[0mself\u001b[0m\u001b[0;34m.\u001b[0m\u001b[0mfp\u001b[0m\u001b[0;34m.\u001b[0m\u001b[0mreadline\u001b[0m\u001b[0;34m(\u001b[0m\u001b[0m_MAXLINE\u001b[0m \u001b[0;34m+\u001b[0m \u001b[0;36m1\u001b[0m\u001b[0;34m)\u001b[0m\u001b[0;34m,\u001b[0m \u001b[0;34m\"iso-8859-1\"\u001b[0m\u001b[0;34m)\u001b[0m\u001b[0;34m\u001b[0m\u001b[0m\n\u001b[0m\u001b[1;32m    259\u001b[0m         \u001b[0;32mif\u001b[0m \u001b[0mlen\u001b[0m\u001b[0;34m(\u001b[0m\u001b[0mline\u001b[0m\u001b[0;34m)\u001b[0m \u001b[0;34m>\u001b[0m \u001b[0m_MAXLINE\u001b[0m\u001b[0;34m:\u001b[0m\u001b[0;34m\u001b[0m\u001b[0m\n",
      "\u001b[0;32m/usr/lib/python3.6/socket.py\u001b[0m in \u001b[0;36mreadinto\u001b[0;34m(self, b)\u001b[0m\n\u001b[1;32m    585\u001b[0m             \u001b[0;32mtry\u001b[0m\u001b[0;34m:\u001b[0m\u001b[0;34m\u001b[0m\u001b[0m\n\u001b[0;32m--> 586\u001b[0;31m                 \u001b[0;32mreturn\u001b[0m \u001b[0mself\u001b[0m\u001b[0;34m.\u001b[0m\u001b[0m_sock\u001b[0m\u001b[0;34m.\u001b[0m\u001b[0mrecv_into\u001b[0m\u001b[0;34m(\u001b[0m\u001b[0mb\u001b[0m\u001b[0;34m)\u001b[0m\u001b[0;34m\u001b[0m\u001b[0m\n\u001b[0m\u001b[1;32m    587\u001b[0m             \u001b[0;32mexcept\u001b[0m \u001b[0mtimeout\u001b[0m\u001b[0;34m:\u001b[0m\u001b[0;34m\u001b[0m\u001b[0m\n",
      "\u001b[0;31mConnectionResetError\u001b[0m: [Errno 104] Connection reset by peer",
      "\nDuring handling of the above exception, another exception occurred:\n",
      "\u001b[0;31mProtocolError\u001b[0m                             Traceback (most recent call last)",
      "\u001b[0;32m~/Envs/pkdb-test/lib/python3.6/site-packages/requests/adapters.py\u001b[0m in \u001b[0;36msend\u001b[0;34m(self, request, stream, timeout, verify, cert, proxies)\u001b[0m\n\u001b[1;32m    444\u001b[0m                     \u001b[0mretries\u001b[0m\u001b[0;34m=\u001b[0m\u001b[0mself\u001b[0m\u001b[0;34m.\u001b[0m\u001b[0mmax_retries\u001b[0m\u001b[0;34m,\u001b[0m\u001b[0;34m\u001b[0m\u001b[0m\n\u001b[0;32m--> 445\u001b[0;31m                     \u001b[0mtimeout\u001b[0m\u001b[0;34m=\u001b[0m\u001b[0mtimeout\u001b[0m\u001b[0;34m\u001b[0m\u001b[0m\n\u001b[0m\u001b[1;32m    446\u001b[0m                 )\n",
      "\u001b[0;32m~/Envs/pkdb-test/lib/python3.6/site-packages/urllib3/connectionpool.py\u001b[0m in \u001b[0;36murlopen\u001b[0;34m(self, method, url, body, headers, retries, redirect, assert_same_host, timeout, pool_timeout, release_conn, chunked, body_pos, **response_kw)\u001b[0m\n\u001b[1;32m    637\u001b[0m             retries = retries.increment(method, url, error=e, _pool=self,\n\u001b[0;32m--> 638\u001b[0;31m                                         _stacktrace=sys.exc_info()[2])\n\u001b[0m\u001b[1;32m    639\u001b[0m             \u001b[0mretries\u001b[0m\u001b[0;34m.\u001b[0m\u001b[0msleep\u001b[0m\u001b[0;34m(\u001b[0m\u001b[0;34m)\u001b[0m\u001b[0;34m\u001b[0m\u001b[0m\n",
      "\u001b[0;32m~/Envs/pkdb-test/lib/python3.6/site-packages/urllib3/util/retry.py\u001b[0m in \u001b[0;36mincrement\u001b[0;34m(self, method, url, response, error, _pool, _stacktrace)\u001b[0m\n\u001b[1;32m    366\u001b[0m             \u001b[0;32mif\u001b[0m \u001b[0mread\u001b[0m \u001b[0;32mis\u001b[0m \u001b[0;32mFalse\u001b[0m \u001b[0;32mor\u001b[0m \u001b[0;32mnot\u001b[0m \u001b[0mself\u001b[0m\u001b[0;34m.\u001b[0m\u001b[0m_is_method_retryable\u001b[0m\u001b[0;34m(\u001b[0m\u001b[0mmethod\u001b[0m\u001b[0;34m)\u001b[0m\u001b[0;34m:\u001b[0m\u001b[0;34m\u001b[0m\u001b[0m\n\u001b[0;32m--> 367\u001b[0;31m                 \u001b[0;32mraise\u001b[0m \u001b[0msix\u001b[0m\u001b[0;34m.\u001b[0m\u001b[0mreraise\u001b[0m\u001b[0;34m(\u001b[0m\u001b[0mtype\u001b[0m\u001b[0;34m(\u001b[0m\u001b[0merror\u001b[0m\u001b[0;34m)\u001b[0m\u001b[0;34m,\u001b[0m \u001b[0merror\u001b[0m\u001b[0;34m,\u001b[0m \u001b[0m_stacktrace\u001b[0m\u001b[0;34m)\u001b[0m\u001b[0;34m\u001b[0m\u001b[0m\n\u001b[0m\u001b[1;32m    368\u001b[0m             \u001b[0;32melif\u001b[0m \u001b[0mread\u001b[0m \u001b[0;32mis\u001b[0m \u001b[0;32mnot\u001b[0m \u001b[0;32mNone\u001b[0m\u001b[0;34m:\u001b[0m\u001b[0;34m\u001b[0m\u001b[0m\n",
      "\u001b[0;32m~/Envs/pkdb-test/lib/python3.6/site-packages/urllib3/packages/six.py\u001b[0m in \u001b[0;36mreraise\u001b[0;34m(tp, value, tb)\u001b[0m\n\u001b[1;32m    684\u001b[0m         \u001b[0;32mif\u001b[0m \u001b[0mvalue\u001b[0m\u001b[0;34m.\u001b[0m\u001b[0m__traceback__\u001b[0m \u001b[0;32mis\u001b[0m \u001b[0;32mnot\u001b[0m \u001b[0mtb\u001b[0m\u001b[0;34m:\u001b[0m\u001b[0;34m\u001b[0m\u001b[0m\n\u001b[0;32m--> 685\u001b[0;31m             \u001b[0;32mraise\u001b[0m \u001b[0mvalue\u001b[0m\u001b[0;34m.\u001b[0m\u001b[0mwith_traceback\u001b[0m\u001b[0;34m(\u001b[0m\u001b[0mtb\u001b[0m\u001b[0;34m)\u001b[0m\u001b[0;34m\u001b[0m\u001b[0m\n\u001b[0m\u001b[1;32m    686\u001b[0m         \u001b[0;32mraise\u001b[0m \u001b[0mvalue\u001b[0m\u001b[0;34m\u001b[0m\u001b[0m\n",
      "\u001b[0;32m~/Envs/pkdb-test/lib/python3.6/site-packages/urllib3/connectionpool.py\u001b[0m in \u001b[0;36murlopen\u001b[0;34m(self, method, url, body, headers, retries, redirect, assert_same_host, timeout, pool_timeout, release_conn, chunked, body_pos, **response_kw)\u001b[0m\n\u001b[1;32m    599\u001b[0m                                                   \u001b[0mbody\u001b[0m\u001b[0;34m=\u001b[0m\u001b[0mbody\u001b[0m\u001b[0;34m,\u001b[0m \u001b[0mheaders\u001b[0m\u001b[0;34m=\u001b[0m\u001b[0mheaders\u001b[0m\u001b[0;34m,\u001b[0m\u001b[0;34m\u001b[0m\u001b[0m\n\u001b[0;32m--> 600\u001b[0;31m                                                   chunked=chunked)\n\u001b[0m\u001b[1;32m    601\u001b[0m \u001b[0;34m\u001b[0m\u001b[0m\n",
      "\u001b[0;32m~/Envs/pkdb-test/lib/python3.6/site-packages/urllib3/connectionpool.py\u001b[0m in \u001b[0;36m_make_request\u001b[0;34m(self, conn, method, url, timeout, chunked, **httplib_request_kw)\u001b[0m\n\u001b[1;32m    383\u001b[0m                     \u001b[0;31m# otherwise it looks like a programming error was the cause.\u001b[0m\u001b[0;34m\u001b[0m\u001b[0;34m\u001b[0m\u001b[0m\n\u001b[0;32m--> 384\u001b[0;31m                     \u001b[0msix\u001b[0m\u001b[0;34m.\u001b[0m\u001b[0mraise_from\u001b[0m\u001b[0;34m(\u001b[0m\u001b[0me\u001b[0m\u001b[0;34m,\u001b[0m \u001b[0;32mNone\u001b[0m\u001b[0;34m)\u001b[0m\u001b[0;34m\u001b[0m\u001b[0m\n\u001b[0m\u001b[1;32m    385\u001b[0m         \u001b[0;32mexcept\u001b[0m \u001b[0;34m(\u001b[0m\u001b[0mSocketTimeout\u001b[0m\u001b[0;34m,\u001b[0m \u001b[0mBaseSSLError\u001b[0m\u001b[0;34m,\u001b[0m \u001b[0mSocketError\u001b[0m\u001b[0;34m)\u001b[0m \u001b[0;32mas\u001b[0m \u001b[0me\u001b[0m\u001b[0;34m:\u001b[0m\u001b[0;34m\u001b[0m\u001b[0m\n",
      "\u001b[0;32m~/Envs/pkdb-test/lib/python3.6/site-packages/urllib3/packages/six.py\u001b[0m in \u001b[0;36mraise_from\u001b[0;34m(value, from_value)\u001b[0m\n",
      "\u001b[0;32m~/Envs/pkdb-test/lib/python3.6/site-packages/urllib3/connectionpool.py\u001b[0m in \u001b[0;36m_make_request\u001b[0;34m(self, conn, method, url, timeout, chunked, **httplib_request_kw)\u001b[0m\n\u001b[1;32m    379\u001b[0m                 \u001b[0;32mtry\u001b[0m\u001b[0;34m:\u001b[0m\u001b[0;34m\u001b[0m\u001b[0m\n\u001b[0;32m--> 380\u001b[0;31m                     \u001b[0mhttplib_response\u001b[0m \u001b[0;34m=\u001b[0m \u001b[0mconn\u001b[0m\u001b[0;34m.\u001b[0m\u001b[0mgetresponse\u001b[0m\u001b[0;34m(\u001b[0m\u001b[0;34m)\u001b[0m\u001b[0;34m\u001b[0m\u001b[0m\n\u001b[0m\u001b[1;32m    381\u001b[0m                 \u001b[0;32mexcept\u001b[0m \u001b[0mException\u001b[0m \u001b[0;32mas\u001b[0m \u001b[0me\u001b[0m\u001b[0;34m:\u001b[0m\u001b[0;34m\u001b[0m\u001b[0m\n",
      "\u001b[0;32m/usr/lib/python3.6/http/client.py\u001b[0m in \u001b[0;36mgetresponse\u001b[0;34m(self)\u001b[0m\n\u001b[1;32m   1330\u001b[0m             \u001b[0;32mtry\u001b[0m\u001b[0;34m:\u001b[0m\u001b[0;34m\u001b[0m\u001b[0m\n\u001b[0;32m-> 1331\u001b[0;31m                 \u001b[0mresponse\u001b[0m\u001b[0;34m.\u001b[0m\u001b[0mbegin\u001b[0m\u001b[0;34m(\u001b[0m\u001b[0;34m)\u001b[0m\u001b[0;34m\u001b[0m\u001b[0m\n\u001b[0m\u001b[1;32m   1332\u001b[0m             \u001b[0;32mexcept\u001b[0m \u001b[0mConnectionError\u001b[0m\u001b[0;34m:\u001b[0m\u001b[0;34m\u001b[0m\u001b[0m\n",
      "\u001b[0;32m/usr/lib/python3.6/http/client.py\u001b[0m in \u001b[0;36mbegin\u001b[0;34m(self)\u001b[0m\n\u001b[1;32m    296\u001b[0m         \u001b[0;32mwhile\u001b[0m \u001b[0;32mTrue\u001b[0m\u001b[0;34m:\u001b[0m\u001b[0;34m\u001b[0m\u001b[0m\n\u001b[0;32m--> 297\u001b[0;31m             \u001b[0mversion\u001b[0m\u001b[0;34m,\u001b[0m \u001b[0mstatus\u001b[0m\u001b[0;34m,\u001b[0m \u001b[0mreason\u001b[0m \u001b[0;34m=\u001b[0m \u001b[0mself\u001b[0m\u001b[0;34m.\u001b[0m\u001b[0m_read_status\u001b[0m\u001b[0;34m(\u001b[0m\u001b[0;34m)\u001b[0m\u001b[0;34m\u001b[0m\u001b[0m\n\u001b[0m\u001b[1;32m    298\u001b[0m             \u001b[0;32mif\u001b[0m \u001b[0mstatus\u001b[0m \u001b[0;34m!=\u001b[0m \u001b[0mCONTINUE\u001b[0m\u001b[0;34m:\u001b[0m\u001b[0;34m\u001b[0m\u001b[0m\n",
      "\u001b[0;32m/usr/lib/python3.6/http/client.py\u001b[0m in \u001b[0;36m_read_status\u001b[0;34m(self)\u001b[0m\n\u001b[1;32m    257\u001b[0m     \u001b[0;32mdef\u001b[0m \u001b[0m_read_status\u001b[0m\u001b[0;34m(\u001b[0m\u001b[0mself\u001b[0m\u001b[0;34m)\u001b[0m\u001b[0;34m:\u001b[0m\u001b[0;34m\u001b[0m\u001b[0m\n\u001b[0;32m--> 258\u001b[0;31m         \u001b[0mline\u001b[0m \u001b[0;34m=\u001b[0m \u001b[0mstr\u001b[0m\u001b[0;34m(\u001b[0m\u001b[0mself\u001b[0m\u001b[0;34m.\u001b[0m\u001b[0mfp\u001b[0m\u001b[0;34m.\u001b[0m\u001b[0mreadline\u001b[0m\u001b[0;34m(\u001b[0m\u001b[0m_MAXLINE\u001b[0m \u001b[0;34m+\u001b[0m \u001b[0;36m1\u001b[0m\u001b[0;34m)\u001b[0m\u001b[0;34m,\u001b[0m \u001b[0;34m\"iso-8859-1\"\u001b[0m\u001b[0;34m)\u001b[0m\u001b[0;34m\u001b[0m\u001b[0m\n\u001b[0m\u001b[1;32m    259\u001b[0m         \u001b[0;32mif\u001b[0m \u001b[0mlen\u001b[0m\u001b[0;34m(\u001b[0m\u001b[0mline\u001b[0m\u001b[0;34m)\u001b[0m \u001b[0;34m>\u001b[0m \u001b[0m_MAXLINE\u001b[0m\u001b[0;34m:\u001b[0m\u001b[0;34m\u001b[0m\u001b[0m\n",
      "\u001b[0;32m/usr/lib/python3.6/socket.py\u001b[0m in \u001b[0;36mreadinto\u001b[0;34m(self, b)\u001b[0m\n\u001b[1;32m    585\u001b[0m             \u001b[0;32mtry\u001b[0m\u001b[0;34m:\u001b[0m\u001b[0;34m\u001b[0m\u001b[0m\n\u001b[0;32m--> 586\u001b[0;31m                 \u001b[0;32mreturn\u001b[0m \u001b[0mself\u001b[0m\u001b[0;34m.\u001b[0m\u001b[0m_sock\u001b[0m\u001b[0;34m.\u001b[0m\u001b[0mrecv_into\u001b[0m\u001b[0;34m(\u001b[0m\u001b[0mb\u001b[0m\u001b[0;34m)\u001b[0m\u001b[0;34m\u001b[0m\u001b[0m\n\u001b[0m\u001b[1;32m    587\u001b[0m             \u001b[0;32mexcept\u001b[0m \u001b[0mtimeout\u001b[0m\u001b[0;34m:\u001b[0m\u001b[0;34m\u001b[0m\u001b[0m\n",
      "\u001b[0;31mProtocolError\u001b[0m: ('Connection aborted.', ConnectionResetError(104, 'Connection reset by peer'))",
      "\nDuring handling of the above exception, another exception occurred:\n",
      "\u001b[0;31mConnectionError\u001b[0m                           Traceback (most recent call last)",
      "\u001b[0;32m<ipython-input-139-d0620de12346>\u001b[0m in \u001b[0;36m<module>\u001b[0;34m()\u001b[0m\n\u001b[0;32m----> 1\u001b[0;31m \u001b[0mresponse\u001b[0m \u001b[0;34m=\u001b[0m \u001b[0mrequests\u001b[0m\u001b[0;34m.\u001b[0m\u001b[0mget\u001b[0m\u001b[0;34m(\u001b[0m\u001b[0;34m'http://0.0.0.0:8000/'\u001b[0m\u001b[0;34m,\u001b[0m \u001b[0mauth\u001b[0m\u001b[0;34m=\u001b[0m\u001b[0mHTTPBasicAuth\u001b[0m\u001b[0;34m(\u001b[0m\u001b[0;34m'janekg89'\u001b[0m\u001b[0;34m,\u001b[0m \u001b[0;34m'aterfall'\u001b[0m\u001b[0;34m)\u001b[0m\u001b[0;34m)\u001b[0m\u001b[0;34m\u001b[0m\u001b[0m\n\u001b[0m",
      "\u001b[0;32m~/Envs/pkdb-test/lib/python3.6/site-packages/requests/api.py\u001b[0m in \u001b[0;36mget\u001b[0;34m(url, params, **kwargs)\u001b[0m\n\u001b[1;32m     70\u001b[0m \u001b[0;34m\u001b[0m\u001b[0m\n\u001b[1;32m     71\u001b[0m     \u001b[0mkwargs\u001b[0m\u001b[0;34m.\u001b[0m\u001b[0msetdefault\u001b[0m\u001b[0;34m(\u001b[0m\u001b[0;34m'allow_redirects'\u001b[0m\u001b[0;34m,\u001b[0m \u001b[0;32mTrue\u001b[0m\u001b[0;34m)\u001b[0m\u001b[0;34m\u001b[0m\u001b[0m\n\u001b[0;32m---> 72\u001b[0;31m     \u001b[0;32mreturn\u001b[0m \u001b[0mrequest\u001b[0m\u001b[0;34m(\u001b[0m\u001b[0;34m'get'\u001b[0m\u001b[0;34m,\u001b[0m \u001b[0murl\u001b[0m\u001b[0;34m,\u001b[0m \u001b[0mparams\u001b[0m\u001b[0;34m=\u001b[0m\u001b[0mparams\u001b[0m\u001b[0;34m,\u001b[0m \u001b[0;34m**\u001b[0m\u001b[0mkwargs\u001b[0m\u001b[0;34m)\u001b[0m\u001b[0;34m\u001b[0m\u001b[0m\n\u001b[0m\u001b[1;32m     73\u001b[0m \u001b[0;34m\u001b[0m\u001b[0m\n\u001b[1;32m     74\u001b[0m \u001b[0;34m\u001b[0m\u001b[0m\n",
      "\u001b[0;32m~/Envs/pkdb-test/lib/python3.6/site-packages/requests/api.py\u001b[0m in \u001b[0;36mrequest\u001b[0;34m(method, url, **kwargs)\u001b[0m\n\u001b[1;32m     56\u001b[0m     \u001b[0;31m# cases, and look like a memory leak in others.\u001b[0m\u001b[0;34m\u001b[0m\u001b[0;34m\u001b[0m\u001b[0m\n\u001b[1;32m     57\u001b[0m     \u001b[0;32mwith\u001b[0m \u001b[0msessions\u001b[0m\u001b[0;34m.\u001b[0m\u001b[0mSession\u001b[0m\u001b[0;34m(\u001b[0m\u001b[0;34m)\u001b[0m \u001b[0;32mas\u001b[0m \u001b[0msession\u001b[0m\u001b[0;34m:\u001b[0m\u001b[0;34m\u001b[0m\u001b[0m\n\u001b[0;32m---> 58\u001b[0;31m         \u001b[0;32mreturn\u001b[0m \u001b[0msession\u001b[0m\u001b[0;34m.\u001b[0m\u001b[0mrequest\u001b[0m\u001b[0;34m(\u001b[0m\u001b[0mmethod\u001b[0m\u001b[0;34m=\u001b[0m\u001b[0mmethod\u001b[0m\u001b[0;34m,\u001b[0m \u001b[0murl\u001b[0m\u001b[0;34m=\u001b[0m\u001b[0murl\u001b[0m\u001b[0;34m,\u001b[0m \u001b[0;34m**\u001b[0m\u001b[0mkwargs\u001b[0m\u001b[0;34m)\u001b[0m\u001b[0;34m\u001b[0m\u001b[0m\n\u001b[0m\u001b[1;32m     59\u001b[0m \u001b[0;34m\u001b[0m\u001b[0m\n\u001b[1;32m     60\u001b[0m \u001b[0;34m\u001b[0m\u001b[0m\n",
      "\u001b[0;32m~/Envs/pkdb-test/lib/python3.6/site-packages/requests/sessions.py\u001b[0m in \u001b[0;36mrequest\u001b[0;34m(self, method, url, params, data, headers, cookies, files, auth, timeout, allow_redirects, proxies, hooks, stream, verify, cert, json)\u001b[0m\n\u001b[1;32m    510\u001b[0m         }\n\u001b[1;32m    511\u001b[0m         \u001b[0msend_kwargs\u001b[0m\u001b[0;34m.\u001b[0m\u001b[0mupdate\u001b[0m\u001b[0;34m(\u001b[0m\u001b[0msettings\u001b[0m\u001b[0;34m)\u001b[0m\u001b[0;34m\u001b[0m\u001b[0m\n\u001b[0;32m--> 512\u001b[0;31m         \u001b[0mresp\u001b[0m \u001b[0;34m=\u001b[0m \u001b[0mself\u001b[0m\u001b[0;34m.\u001b[0m\u001b[0msend\u001b[0m\u001b[0;34m(\u001b[0m\u001b[0mprep\u001b[0m\u001b[0;34m,\u001b[0m \u001b[0;34m**\u001b[0m\u001b[0msend_kwargs\u001b[0m\u001b[0;34m)\u001b[0m\u001b[0;34m\u001b[0m\u001b[0m\n\u001b[0m\u001b[1;32m    513\u001b[0m \u001b[0;34m\u001b[0m\u001b[0m\n\u001b[1;32m    514\u001b[0m         \u001b[0;32mreturn\u001b[0m \u001b[0mresp\u001b[0m\u001b[0;34m\u001b[0m\u001b[0m\n",
      "\u001b[0;32m~/Envs/pkdb-test/lib/python3.6/site-packages/requests/sessions.py\u001b[0m in \u001b[0;36msend\u001b[0;34m(self, request, **kwargs)\u001b[0m\n\u001b[1;32m    620\u001b[0m \u001b[0;34m\u001b[0m\u001b[0m\n\u001b[1;32m    621\u001b[0m         \u001b[0;31m# Send the request\u001b[0m\u001b[0;34m\u001b[0m\u001b[0;34m\u001b[0m\u001b[0m\n\u001b[0;32m--> 622\u001b[0;31m         \u001b[0mr\u001b[0m \u001b[0;34m=\u001b[0m \u001b[0madapter\u001b[0m\u001b[0;34m.\u001b[0m\u001b[0msend\u001b[0m\u001b[0;34m(\u001b[0m\u001b[0mrequest\u001b[0m\u001b[0;34m,\u001b[0m \u001b[0;34m**\u001b[0m\u001b[0mkwargs\u001b[0m\u001b[0;34m)\u001b[0m\u001b[0;34m\u001b[0m\u001b[0m\n\u001b[0m\u001b[1;32m    623\u001b[0m \u001b[0;34m\u001b[0m\u001b[0m\n\u001b[1;32m    624\u001b[0m         \u001b[0;31m# Total elapsed time of the request (approximately)\u001b[0m\u001b[0;34m\u001b[0m\u001b[0;34m\u001b[0m\u001b[0m\n",
      "\u001b[0;32m~/Envs/pkdb-test/lib/python3.6/site-packages/requests/adapters.py\u001b[0m in \u001b[0;36msend\u001b[0;34m(self, request, stream, timeout, verify, cert, proxies)\u001b[0m\n\u001b[1;32m    493\u001b[0m \u001b[0;34m\u001b[0m\u001b[0m\n\u001b[1;32m    494\u001b[0m         \u001b[0;32mexcept\u001b[0m \u001b[0;34m(\u001b[0m\u001b[0mProtocolError\u001b[0m\u001b[0;34m,\u001b[0m \u001b[0msocket\u001b[0m\u001b[0;34m.\u001b[0m\u001b[0merror\u001b[0m\u001b[0;34m)\u001b[0m \u001b[0;32mas\u001b[0m \u001b[0merr\u001b[0m\u001b[0;34m:\u001b[0m\u001b[0;34m\u001b[0m\u001b[0m\n\u001b[0;32m--> 495\u001b[0;31m             \u001b[0;32mraise\u001b[0m \u001b[0mConnectionError\u001b[0m\u001b[0;34m(\u001b[0m\u001b[0merr\u001b[0m\u001b[0;34m,\u001b[0m \u001b[0mrequest\u001b[0m\u001b[0;34m=\u001b[0m\u001b[0mrequest\u001b[0m\u001b[0;34m)\u001b[0m\u001b[0;34m\u001b[0m\u001b[0m\n\u001b[0m\u001b[1;32m    496\u001b[0m \u001b[0;34m\u001b[0m\u001b[0m\n\u001b[1;32m    497\u001b[0m         \u001b[0;32mexcept\u001b[0m \u001b[0mMaxRetryError\u001b[0m \u001b[0;32mas\u001b[0m \u001b[0me\u001b[0m\u001b[0;34m:\u001b[0m\u001b[0;34m\u001b[0m\u001b[0m\n",
      "\u001b[0;31mConnectionError\u001b[0m: ('Connection aborted.', ConnectionResetError(104, 'Connection reset by peer'))"
     ]
    }
   ],
   "source": [
    "response = requests.get('http://0.0.0.0:8000/', auth=HTTPBasicAuth('janekg89', 'aterfall'))"
   ]
  },
  {
   "cell_type": "code",
   "execution_count": 140,
   "metadata": {},
   "outputs": [
    {
     "data": {
      "text/plain": [
       "b'\\n\\n<!DOCTYPE html>\\n<html lang=\"en\">\\n<head>\\n  <meta charset=\"UTF-8\">\\n  <title>Swagger UI</title>\\n  <link href=\"https://fonts.googleapis.com/css?family=Open+Sans:400,700|Source+Code+Pro:300,600|Titillium+Web:400,600,700\" rel=\"stylesheet\">\\n  <link href=\"/static/rest_framework_swagger/bundles/vendors.bundle.css\" rel=\"stylesheet\" type=\"text/css\">\\n  <link href=\"/static/rest_framework_swagger/bundles/app.bundle.css\" rel=\"stylesheet\" type=\"text/css\">\\n  \\n  \\n  \\n</head>\\n\\n<body>\\n  <div class=\"swagger-ui\">\\n    <div class=\"topbar\">\\n      <div class=\"wrapper\">\\n        <div class=\"topbar-wrapper\">\\n          <a href=\"#\" class=\"link\">\\n            <img src=\"/static/rest_framework_swagger/logo_small.png\" alt=\"Swagger Logo\">\\n            <span>swagger</span>\\n          </a>\\n          <div class=\"download-url-wrapper\">\\n          \\n            \\n            <a class=\"download-url-button button\" href=\"/api-auth/login/?next=/\">Session Login</a>\\n            \\n          \\n          </div>\\n        </div>\\n      </div>\\n    </div>\\n    \\n    <div class=\"user-context wrapper\">\\n      \\n        \\n           Viewing as an anoymous user\\n       \\n      \\n    </div>\\n    \\n  </div>\\n\\n  <div id=\"rest-swagger-ui\"></div>\\n  <input type=\\'hidden\\' name=\\'csrfmiddlewaretoken\\' value=\\'ZtDORqiNkB8o0G2BIb4oZ3ZLPkgSXngQyv4kp8k40xwU7orqXE1zkPn3UHueOFiB\\' />\\n\\n  <footer class=\"swagger-ui\">\\n    <div class=\"wrapper\">\\n      Powered by <a href=\"https://github.com/marcgibbons/django-rest-swagger\" target=\"_new\">Django REST Swagger</a>\\n    </div>\\n  </footer>\\n\\n  <script>\\n    window.drsSettings = {\"apisSorter\": \"alpha\", \"docExpansion\": \"list\", \"jsonEditor\": false, \"operationsSorter\": null, \"showRequestHeaders\": false, \"supportedSubmitMethods\": [\"get\", \"post\", \"put\", \"delete\", \"patch\"], \"acceptHeaderVersion\": null, \"customHeaders\": {}};\\n    window.drsSpec = {\"detail\":\"Invalid username/password.\"};\\n  </script>\\n  <script src=\"/static/rest_framework_swagger/bundles/vendors.bundle.js\"></script>\\n  <script src=\"/static/rest_framework_swagger/bundles/app.bundle.js\"></script>\\n  \\n  \\n  \\n</body>\\n\\n</html>\\n'"
      ]
     },
     "execution_count": 140,
     "metadata": {},
     "output_type": "execute_result"
    }
   ],
   "source": [
    "response.content"
   ]
  },
  {
   "cell_type": "code",
   "execution_count": 141,
   "metadata": {},
   "outputs": [
    {
     "name": "stdout",
     "output_type": "stream",
     "text": [
      "403 Forbidden\n"
     ]
    }
   ],
   "source": [
    "r = requests.post(\"http://0.0.0.0:8000/api-auth/login/?next=/api/v1/\", data={'username': 'janekg89', 'password': 'aterfall89'})\n",
    "print(r.status_code, r.reason)"
   ]
  },
  {
   "cell_type": "code",
   "execution_count": 142,
   "metadata": {},
   "outputs": [
    {
     "ename": "JSONDecodeError",
     "evalue": "Expecting value: line 2 column 1 (char 1)",
     "output_type": "error",
     "traceback": [
      "\u001b[0;31m---------------------------------------------------------------------------\u001b[0m",
      "\u001b[0;31mJSONDecodeError\u001b[0m                           Traceback (most recent call last)",
      "\u001b[0;32m<ipython-input-142-c1252c211e11>\u001b[0m in \u001b[0;36m<module>\u001b[0;34m()\u001b[0m\n\u001b[0;32m----> 1\u001b[0;31m \u001b[0mr\u001b[0m\u001b[0;34m.\u001b[0m\u001b[0mjson\u001b[0m\u001b[0;34m(\u001b[0m\u001b[0;34m)\u001b[0m\u001b[0;34m[\u001b[0m\u001b[0;34m\"token\"\u001b[0m\u001b[0;34m]\u001b[0m\u001b[0;34m\u001b[0m\u001b[0m\n\u001b[0m",
      "\u001b[0;32m~/Envs/pkdb-test/lib/python3.6/site-packages/requests/models.py\u001b[0m in \u001b[0;36mjson\u001b[0;34m(self, **kwargs)\u001b[0m\n\u001b[1;32m    894\u001b[0m                     \u001b[0;31m# used.\u001b[0m\u001b[0;34m\u001b[0m\u001b[0;34m\u001b[0m\u001b[0m\n\u001b[1;32m    895\u001b[0m                     \u001b[0;32mpass\u001b[0m\u001b[0;34m\u001b[0m\u001b[0m\n\u001b[0;32m--> 896\u001b[0;31m         \u001b[0;32mreturn\u001b[0m \u001b[0mcomplexjson\u001b[0m\u001b[0;34m.\u001b[0m\u001b[0mloads\u001b[0m\u001b[0;34m(\u001b[0m\u001b[0mself\u001b[0m\u001b[0;34m.\u001b[0m\u001b[0mtext\u001b[0m\u001b[0;34m,\u001b[0m \u001b[0;34m**\u001b[0m\u001b[0mkwargs\u001b[0m\u001b[0;34m)\u001b[0m\u001b[0;34m\u001b[0m\u001b[0m\n\u001b[0m\u001b[1;32m    897\u001b[0m \u001b[0;34m\u001b[0m\u001b[0m\n\u001b[1;32m    898\u001b[0m     \u001b[0;34m@\u001b[0m\u001b[0mproperty\u001b[0m\u001b[0;34m\u001b[0m\u001b[0m\n",
      "\u001b[0;32m~/Envs/pkdb-test/lib/python3.6/site-packages/simplejson/__init__.py\u001b[0m in \u001b[0;36mloads\u001b[0;34m(s, encoding, cls, object_hook, parse_float, parse_int, parse_constant, object_pairs_hook, use_decimal, **kw)\u001b[0m\n\u001b[1;32m    516\u001b[0m             \u001b[0mparse_constant\u001b[0m \u001b[0;32mis\u001b[0m \u001b[0;32mNone\u001b[0m \u001b[0;32mand\u001b[0m \u001b[0mobject_pairs_hook\u001b[0m \u001b[0;32mis\u001b[0m \u001b[0;32mNone\u001b[0m\u001b[0;34m\u001b[0m\u001b[0m\n\u001b[1;32m    517\u001b[0m             and not use_decimal and not kw):\n\u001b[0;32m--> 518\u001b[0;31m         \u001b[0;32mreturn\u001b[0m \u001b[0m_default_decoder\u001b[0m\u001b[0;34m.\u001b[0m\u001b[0mdecode\u001b[0m\u001b[0;34m(\u001b[0m\u001b[0ms\u001b[0m\u001b[0;34m)\u001b[0m\u001b[0;34m\u001b[0m\u001b[0m\n\u001b[0m\u001b[1;32m    519\u001b[0m     \u001b[0;32mif\u001b[0m \u001b[0mcls\u001b[0m \u001b[0;32mis\u001b[0m \u001b[0;32mNone\u001b[0m\u001b[0;34m:\u001b[0m\u001b[0;34m\u001b[0m\u001b[0m\n\u001b[1;32m    520\u001b[0m         \u001b[0mcls\u001b[0m \u001b[0;34m=\u001b[0m \u001b[0mJSONDecoder\u001b[0m\u001b[0;34m\u001b[0m\u001b[0m\n",
      "\u001b[0;32m~/Envs/pkdb-test/lib/python3.6/site-packages/simplejson/decoder.py\u001b[0m in \u001b[0;36mdecode\u001b[0;34m(self, s, _w, _PY3)\u001b[0m\n\u001b[1;32m    368\u001b[0m         \u001b[0;32mif\u001b[0m \u001b[0m_PY3\u001b[0m \u001b[0;32mand\u001b[0m \u001b[0misinstance\u001b[0m\u001b[0;34m(\u001b[0m\u001b[0ms\u001b[0m\u001b[0;34m,\u001b[0m \u001b[0mbytes\u001b[0m\u001b[0;34m)\u001b[0m\u001b[0;34m:\u001b[0m\u001b[0;34m\u001b[0m\u001b[0m\n\u001b[1;32m    369\u001b[0m             \u001b[0ms\u001b[0m \u001b[0;34m=\u001b[0m \u001b[0mstr\u001b[0m\u001b[0;34m(\u001b[0m\u001b[0ms\u001b[0m\u001b[0;34m,\u001b[0m \u001b[0mself\u001b[0m\u001b[0;34m.\u001b[0m\u001b[0mencoding\u001b[0m\u001b[0;34m)\u001b[0m\u001b[0;34m\u001b[0m\u001b[0m\n\u001b[0;32m--> 370\u001b[0;31m         \u001b[0mobj\u001b[0m\u001b[0;34m,\u001b[0m \u001b[0mend\u001b[0m \u001b[0;34m=\u001b[0m \u001b[0mself\u001b[0m\u001b[0;34m.\u001b[0m\u001b[0mraw_decode\u001b[0m\u001b[0;34m(\u001b[0m\u001b[0ms\u001b[0m\u001b[0;34m)\u001b[0m\u001b[0;34m\u001b[0m\u001b[0m\n\u001b[0m\u001b[1;32m    371\u001b[0m         \u001b[0mend\u001b[0m \u001b[0;34m=\u001b[0m \u001b[0m_w\u001b[0m\u001b[0;34m(\u001b[0m\u001b[0ms\u001b[0m\u001b[0;34m,\u001b[0m \u001b[0mend\u001b[0m\u001b[0;34m)\u001b[0m\u001b[0;34m.\u001b[0m\u001b[0mend\u001b[0m\u001b[0;34m(\u001b[0m\u001b[0;34m)\u001b[0m\u001b[0;34m\u001b[0m\u001b[0m\n\u001b[1;32m    372\u001b[0m         \u001b[0;32mif\u001b[0m \u001b[0mend\u001b[0m \u001b[0;34m!=\u001b[0m \u001b[0mlen\u001b[0m\u001b[0;34m(\u001b[0m\u001b[0ms\u001b[0m\u001b[0;34m)\u001b[0m\u001b[0;34m:\u001b[0m\u001b[0;34m\u001b[0m\u001b[0m\n",
      "\u001b[0;32m~/Envs/pkdb-test/lib/python3.6/site-packages/simplejson/decoder.py\u001b[0m in \u001b[0;36mraw_decode\u001b[0;34m(self, s, idx, _w, _PY3)\u001b[0m\n\u001b[1;32m    398\u001b[0m             \u001b[0;32melif\u001b[0m \u001b[0mord0\u001b[0m \u001b[0;34m==\u001b[0m \u001b[0;36m0xef\u001b[0m \u001b[0;32mand\u001b[0m \u001b[0ms\u001b[0m\u001b[0;34m[\u001b[0m\u001b[0midx\u001b[0m\u001b[0;34m:\u001b[0m\u001b[0midx\u001b[0m \u001b[0;34m+\u001b[0m \u001b[0;36m3\u001b[0m\u001b[0;34m]\u001b[0m \u001b[0;34m==\u001b[0m \u001b[0;34m'\\xef\\xbb\\xbf'\u001b[0m\u001b[0;34m:\u001b[0m\u001b[0;34m\u001b[0m\u001b[0m\n\u001b[1;32m    399\u001b[0m                 \u001b[0midx\u001b[0m \u001b[0;34m+=\u001b[0m \u001b[0;36m3\u001b[0m\u001b[0;34m\u001b[0m\u001b[0m\n\u001b[0;32m--> 400\u001b[0;31m         \u001b[0;32mreturn\u001b[0m \u001b[0mself\u001b[0m\u001b[0;34m.\u001b[0m\u001b[0mscan_once\u001b[0m\u001b[0;34m(\u001b[0m\u001b[0ms\u001b[0m\u001b[0;34m,\u001b[0m \u001b[0midx\u001b[0m\u001b[0;34m=\u001b[0m\u001b[0m_w\u001b[0m\u001b[0;34m(\u001b[0m\u001b[0ms\u001b[0m\u001b[0;34m,\u001b[0m \u001b[0midx\u001b[0m\u001b[0;34m)\u001b[0m\u001b[0;34m.\u001b[0m\u001b[0mend\u001b[0m\u001b[0;34m(\u001b[0m\u001b[0;34m)\u001b[0m\u001b[0;34m)\u001b[0m\u001b[0;34m\u001b[0m\u001b[0m\n\u001b[0m",
      "\u001b[0;31mJSONDecodeError\u001b[0m: Expecting value: line 2 column 1 (char 1)"
     ]
    }
   ],
   "source": [
    "r.json()[\"token\"]"
   ]
  },
  {
   "cell_type": "code",
   "execution_count": null,
   "metadata": {},
   "outputs": [],
   "source": []
  },
  {
   "cell_type": "code",
   "execution_count": 170,
   "metadata": {},
   "outputs": [],
   "source": [
    "auth = coreapi.auth.BasicAuthentication(\n",
    "username=\"janekg89\",\n",
    "\n",
    "password=\"aterfall89\", )\n",
    "client = coreapi.Client()"
   ]
  },
  {
   "cell_type": "code",
   "execution_count": 171,
   "metadata": {},
   "outputs": [
    {
     "name": "stdout",
     "output_type": "stream",
     "text": [
      "PkBD API\n",
      "http://0.0.0.0:8000/\n"
     ]
    }
   ],
   "source": [
    "# get the api scema\n",
    "document = client.get(\"http://0.0.0.0:8000/\")\n",
    "print(document.title)\n",
    "print(document.url)"
   ]
  },
  {
   "cell_type": "code",
   "execution_count": 178,
   "metadata": {},
   "outputs": [
    {
     "name": "stdout",
     "output_type": "stream",
     "text": [
      "Document(url='http://0.0.0.0:8000/', title='PkBD API', content={'authors': {'list': Link(url='http://0.0.0.0:8000/api/v1/authors/', action='get', fields=[Field('page', location='query', schema=<coreschema.schemas.Integer object at 0x7f49a4dda208>)]), 'create': Link(url='http://0.0.0.0:8000/api/v1/authors/', action='post', encoding='application/json', fields=[Field('first_name', location='form', schema=<coreschema.schemas.String object at 0x7f49a4dda710>), Field('last_name', location='form', schema=<coreschema.schemas.String object at 0x7f49a4cb3588>)]), 'read': Link(url='http://0.0.0.0:8000/api/v1/authors/{id}/', action='get', fields=[Field('id', required=True, location='path', schema=<coreschema.schemas.Integer object at 0x7f49a4cb3160>)]), 'update': Link(url='http://0.0.0.0:8000/api/v1/authors/{id}/', action='put', encoding='application/json', fields=[Field('id', required=True, location='path', schema=<coreschema.schemas.Integer object at 0x7f49a4cb37b8>), Field('first_name', location='form', schema=<coreschema.schemas.String object at 0x7f49a4cb30f0>), Field('last_name', location='form', schema=<coreschema.schemas.String object at 0x7f49a4cb36d8>)]), 'partial_update': Link(url='http://0.0.0.0:8000/api/v1/authors/{id}/', action='patch', encoding='application/json', fields=[Field('id', required=True, location='path', schema=<coreschema.schemas.Integer object at 0x7f49a4cb3128>), Field('first_name', location='form', schema=<coreschema.schemas.String object at 0x7f49a4cb3080>), Field('last_name', location='form', schema=<coreschema.schemas.String object at 0x7f49a4cb3240>)]), 'delete': Link(url='http://0.0.0.0:8000/api/v1/authors/{id}/', action='delete', fields=[Field('id', required=True, location='path', schema=<coreschema.schemas.Integer object at 0x7f49a4cb3198>)])}, 'intervention': {'list': Link(url='http://0.0.0.0:8000/api/v1/intervention/', action='get', fields=[Field('page', location='query', schema=<coreschema.schemas.Integer object at 0x7f49a4d776a0>)]), 'create': Link(url='http://0.0.0.0:8000/api/v1/intervention/', action='post', encoding='application/json', fields=[Field('sid', required=True, location='form', schema=<coreschema.schemas.String object at 0x7f49a4d546d8>), Field('comment', location='form', schema=<coreschema.schemas.String object at 0x7f49a4d63da0>), Field('description', location='form', schema=<coreschema.schemas.String object at 0x7f49a4d63f60>), Field('type', required=True, location='form', schema=<coreschema.schemas.Enum object at 0x7f49a4d4d898>), Field('study', location='form', schema=<coreschema.schemas.Integer object at 0x7f49a4d96358>)]), 'read': Link(url='http://0.0.0.0:8000/api/v1/intervention/{id}/', action='get', fields=[Field('id', required=True, location='path', schema=<coreschema.schemas.Integer object at 0x7f49a4d87860>)]), 'update': Link(url='http://0.0.0.0:8000/api/v1/intervention/{id}/', action='put', encoding='application/json', fields=[Field('id', required=True, location='path', schema=<coreschema.schemas.Integer object at 0x7f49a4dce7b8>), Field('sid', required=True, location='form', schema=<coreschema.schemas.String object at 0x7f49a4efa198>), Field('comment', location='form', schema=<coreschema.schemas.String object at 0x7f49a4efa128>), Field('description', location='form', schema=<coreschema.schemas.String object at 0x7f49a4cb3710>), Field('type', required=True, location='form', schema=<coreschema.schemas.Enum object at 0x7f49a4d83780>), Field('study', location='form', schema=<coreschema.schemas.Integer object at 0x7f49a4d6eda0>)]), 'partial_update': Link(url='http://0.0.0.0:8000/api/v1/intervention/{id}/', action='patch', encoding='application/json', fields=[Field('id', required=True, location='path', schema=<coreschema.schemas.Integer object at 0x7f49a4d6ec50>), Field('sid', location='form', schema=<coreschema.schemas.String object at 0x7f49a4d6e2e8>), Field('comment', location='form', schema=<coreschema.schemas.String object at 0x7f49a4d6ee80>), Field('description', location='form', schema=<coreschema.schemas.String object at 0x7f49a4caae80>), Field('type', location='form', schema=<coreschema.schemas.Enum object at 0x7f49a4caa160>), Field('study', location='form', schema=<coreschema.schemas.Integer object at 0x7f49a4caa438>)]), 'delete': Link(url='http://0.0.0.0:8000/api/v1/intervention/{id}/', action='delete', fields=[Field('id', required=True, location='path', schema=<coreschema.schemas.Integer object at 0x7f49a4caa128>)])}, 'studies': {'list': Link(url='http://0.0.0.0:8000/api/v1/studies/', action='get', fields=[Field('page', location='query', schema=<coreschema.schemas.Integer object at 0x7f49a4caa240>)]), 'create': Link(url='http://0.0.0.0:8000/api/v1/studies/', action='post', encoding='application/json', fields=[Field('sid', required=True, location='form', schema=<coreschema.schemas.String object at 0x7f49a4caadd8>), Field('comment', location='form', schema=<coreschema.schemas.String object at 0x7f49a4caad30>), Field('description', location='form', schema=<coreschema.schemas.String object at 0x7f49a4caa358>), Field('title', required=True, location='form', schema=<coreschema.schemas.String object at 0x7f49a4caacf8>), Field('pmid', required=True, location='form', schema=<coreschema.schemas.String object at 0x7f49a4caa278>), Field('authors', location='form', schema=<coreschema.schemas.Array object at 0x7f49a4caaa90>), Field('file', location='form', schema=<coreschema.schemas.String object at 0x7f49a4caaa20>)]), 'read': Link(url='http://0.0.0.0:8000/api/v1/studies/{id}/', action='get', fields=[Field('id', required=True, location='path', schema=<coreschema.schemas.Integer object at 0x7f49a4caa940>)]), 'update': Link(url='http://0.0.0.0:8000/api/v1/studies/{id}/', action='put', encoding='application/json', fields=[Field('id', required=True, location='path', schema=<coreschema.schemas.Integer object at 0x7f49a4caa048>), Field('sid', required=True, location='form', schema=<coreschema.schemas.String object at 0x7f49a4caa710>), Field('comment', location='form', schema=<coreschema.schemas.String object at 0x7f49a4caa748>), Field('description', location='form', schema=<coreschema.schemas.String object at 0x7f49a4caac50>), Field('title', required=True, location='form', schema=<coreschema.schemas.String object at 0x7f49a4caaf60>), Field('pmid', required=True, location='form', schema=<coreschema.schemas.String object at 0x7f49a4caae10>), Field('authors', location='form', schema=<coreschema.schemas.Array object at 0x7f49a4caaba8>), Field('file', location='form', schema=<coreschema.schemas.String object at 0x7f49a4caa470>)]), 'partial_update': Link(url='http://0.0.0.0:8000/api/v1/studies/{id}/', action='patch', encoding='application/json', fields=[Field('id', required=True, location='path', schema=<coreschema.schemas.Integer object at 0x7f49a4caa2e8>), Field('sid', location='form', schema=<coreschema.schemas.String object at 0x7f49a4caa0f0>), Field('comment', location='form', schema=<coreschema.schemas.String object at 0x7f49a4caa8d0>), Field('description', location='form', schema=<coreschema.schemas.String object at 0x7f49a4caa780>), Field('title', location='form', schema=<coreschema.schemas.String object at 0x7f49a4caa1d0>), Field('pmid', location='form', schema=<coreschema.schemas.String object at 0x7f49a4caab70>), Field('authors', location='form', schema=<coreschema.schemas.Array object at 0x7f49a4dda518>), Field('file', location='form', schema=<coreschema.schemas.String object at 0x7f49a4ddac50>)]), 'delete': Link(url='http://0.0.0.0:8000/api/v1/studies/{id}/', action='delete', fields=[Field('id', required=True, location='path', schema=<coreschema.schemas.Integer object at 0x7f49a4dda978>)])}})\n"
     ]
    }
   ],
   "source": [
    "pprint(document)"
   ]
  },
  {
   "cell_type": "code",
   "execution_count": 194,
   "metadata": {},
   "outputs": [
    {
     "name": "stdout",
     "output_type": "stream",
     "text": [
      "{\n",
      "    \"count\": 2,\n",
      "    \"next\": null,\n",
      "    \"previous\": null,\n",
      "    \"results\": [\n",
      "        {\n",
      "            \"first_name\": \"janek\",\n",
      "            \"last_name\": \"grzegorzewski\"\n",
      "        },\n",
      "        {\n",
      "            \"first_name\": \"lucek\",\n",
      "            \"last_name\": \"grzegorzewski\"\n",
      "        }\n",
      "    ]\n",
      "}\n"
     ]
    }
   ],
   "source": [
    "data = client.action(document,[\"authors\", \"list\"],params={})\n",
    "print(json.dumps(data,indent=4))"
   ]
  },
  {
   "cell_type": "code",
   "execution_count": 193,
   "metadata": {},
   "outputs": [],
   "source": [
    "data = client.action(document,[\"authors\", \"create\"],params={'first_name':'lucek', 'last_name':'grzegorzewski'})\n",
    "\n",
    "#what can I do with the archvies\n",
    "# keys in [] are optional params"
   ]
  },
  {
   "cell_type": "code",
   "execution_count": 53,
   "metadata": {},
   "outputs": [
    {
     "ename": "KeyError",
     "evalue": "'tags'",
     "output_type": "error",
     "traceback": [
      "\u001b[0;31m---------------------------------------------------------------------------\u001b[0m",
      "\u001b[0;31mKeyError\u001b[0m                                  Traceback (most recent call last)",
      "\u001b[0;32m<ipython-input-53-8261c3caa57d>\u001b[0m in \u001b[0;36m<module>\u001b[0;34m()\u001b[0m\n\u001b[1;32m      1\u001b[0m \u001b[0;31m#what can I do with the tags\u001b[0m\u001b[0;34m\u001b[0m\u001b[0;34m\u001b[0m\u001b[0m\n\u001b[0;32m----> 2\u001b[0;31m \u001b[0mpprint\u001b[0m\u001b[0;34m(\u001b[0m\u001b[0mdocument\u001b[0m\u001b[0;34m[\u001b[0m\u001b[0;34m\"tags\"\u001b[0m\u001b[0;34m]\u001b[0m\u001b[0;34m)\u001b[0m\u001b[0;34m\u001b[0m\u001b[0m\n\u001b[0m\u001b[1;32m      3\u001b[0m \u001b[0;31m# keys in [] are optional params\u001b[0m\u001b[0;34m\u001b[0m\u001b[0;34m\u001b[0m\u001b[0m\n",
      "\u001b[0;32m~/Envs/pkdb-test/lib/python3.6/site-packages/itypes.py\u001b[0m in \u001b[0;36m__getitem__\u001b[0;34m(self, key)\u001b[0m\n\u001b[1;32m    110\u001b[0m \u001b[0;34m\u001b[0m\u001b[0m\n\u001b[1;32m    111\u001b[0m     \u001b[0;32mdef\u001b[0m \u001b[0m__getitem__\u001b[0m\u001b[0;34m(\u001b[0m\u001b[0mself\u001b[0m\u001b[0;34m,\u001b[0m \u001b[0mkey\u001b[0m\u001b[0;34m)\u001b[0m\u001b[0;34m:\u001b[0m\u001b[0;34m\u001b[0m\u001b[0m\n\u001b[0;32m--> 112\u001b[0;31m         \u001b[0;32mreturn\u001b[0m \u001b[0mself\u001b[0m\u001b[0;34m.\u001b[0m\u001b[0m_data\u001b[0m\u001b[0;34m[\u001b[0m\u001b[0mkey\u001b[0m\u001b[0;34m]\u001b[0m\u001b[0;34m\u001b[0m\u001b[0m\n\u001b[0m\u001b[1;32m    113\u001b[0m \u001b[0;34m\u001b[0m\u001b[0m\n\u001b[1;32m    114\u001b[0m     \u001b[0;32mdef\u001b[0m \u001b[0m__iter__\u001b[0m\u001b[0;34m(\u001b[0m\u001b[0mself\u001b[0m\u001b[0;34m)\u001b[0m\u001b[0;34m:\u001b[0m\u001b[0;34m\u001b[0m\u001b[0m\n",
      "\u001b[0;31mKeyError\u001b[0m: 'tags'"
     ]
    }
   ],
   "source": [
    "#what can I do with the tags\n",
    "pprint(document[\"tags\"])\n",
    "# keys in [] are optional params"
   ]
  },
  {
   "cell_type": "code",
   "execution_count": 136,
   "metadata": {},
   "outputs": [
    {
     "name": "stdout",
     "output_type": "stream",
     "text": [
      "{\n",
      "    list([is_staff], [username], [search])\n",
      "    create(username, [email], [is_staff])\n",
      "    read(id, [is_staff], [username], [search])\n",
      "    update(id, username, [email], [is_staff], [is_staff], [username], [search])\n",
      "    partial_update(id, [username], [email], [is_staff], [is_staff], [username], [search])\n",
      "    delete(id, [is_staff], [username], [search])\n",
      "}\n"
     ]
    }
   ],
   "source": [
    "#what can I do with the users\n",
    "print(document[\"users\"])\n",
    "# keys in [] are optional params"
   ]
  },
  {
   "cell_type": "markdown",
   "metadata": {},
   "source": [
    "## Examples of some querys"
   ]
  },
  {
   "cell_type": "code",
   "execution_count": 137,
   "metadata": {},
   "outputs": [
    {
     "name": "stdout",
     "output_type": "stream",
     "text": [
      "[\n",
      "    {\n",
      "        \"name\": \"CombineArchiveShowCase.omex\",\n",
      "        \"file\": \"http://127.0.0.1:8001/media/archives/CombineArchiveShowCase.omex\",\n",
      "        \"created\": \"2017-11-07T14:07:31.105147Z\",\n",
      "        \"md5\": \"feee500260a73f10040b8ba0681936e5\",\n",
      "        \"task_id\": \"\",\n",
      "        \"tags\": [\n",
      "            \"http://127.0.0.1:8001/api/tags/f3f0af48-fa67-44db-861a-9deb9c67c61e/\",\n",
      "            \"http://127.0.0.1:8001/api/tags/59dafcf2-82c0-4f48-bb4d-3954cacc2b47/\",\n",
      "            \"http://127.0.0.1:8001/api/tags/74afbb79-9ba9-4795-9677-0fbfe017ab51/\",\n",
      "            \"http://127.0.0.1:8001/api/tags/8503b4dd-43ce-4cee-a0bd-fbf5df89bf0d/\",\n",
      "            \"http://127.0.0.1:8001/api/tags/36b8842e-b93d-411d-890c-882e9ef7272e/\"\n",
      "        ],\n",
      "        \"uuid\": \"0e602a58-432d-4470-b70d-e26073f4ec49\"\n",
      "    },\n",
      "    {\n",
      "        \"name\": \"L1V3_lorenz-sbml.omex\",\n",
      "        \"file\": \"http://127.0.0.1:8001/media/archives/L1V3_lorenz-sbml.omex\",\n",
      "        \"created\": \"2017-11-07T14:07:31.339715Z\",\n",
      "        \"md5\": \"82333b80536f6a75b0370c3cdd2e75f3\",\n",
      "        \"task_id\": \"\",\n",
      "        \"tags\": [\n",
      "            \"http://127.0.0.1:8001/api/tags/f3f0af48-fa67-44db-861a-9deb9c67c61e/\",\n",
      "            \"http://127.0.0.1:8001/api/tags/8503b4dd-43ce-4cee-a0bd-fbf5df89bf0d/\",\n",
      "            \"http://127.0.0.1:8001/api/tags/29dfeddc-59f3-4df2-b4b7-4962385cd7ad/\"\n",
      "        ],\n",
      "        \"uuid\": \"cace90ca-10c7-4ebc-a5e0-5fff85a618fc\"\n",
      "    },\n",
      "    {\n",
      "        \"name\": \"L1V3_oscli-nested-pulse.omex\",\n",
      "        \"file\": \"http://127.0.0.1:8001/media/archives/L1V3_oscli-nested-pulse.omex\",\n",
      "        \"created\": \"2017-11-07T14:07:31.381868Z\",\n",
      "        \"md5\": \"481583e8587eaf315e20a4209e767326\",\n",
      "        \"task_id\": \"\",\n",
      "        \"tags\": [\n",
      "            \"http://127.0.0.1:8001/api/tags/f3f0af48-fa67-44db-861a-9deb9c67c61e/\",\n",
      "            \"http://127.0.0.1:8001/api/tags/8503b4dd-43ce-4cee-a0bd-fbf5df89bf0d/\",\n",
      "            \"http://127.0.0.1:8001/api/tags/36b8842e-b93d-411d-890c-882e9ef7272e/\"\n",
      "        ],\n",
      "        \"uuid\": \"025de7cc-4234-4bb4-be72-6bc6e4abc8ac\"\n",
      "    },\n",
      "    {\n",
      "        \"name\": \"L1V3_parameter-scan-2d.omex\",\n",
      "        \"file\": \"http://127.0.0.1:8001/media/archives/L1V3_parameter-scan-2d.omex\",\n",
      "        \"created\": \"2017-11-07T14:07:31.415872Z\",\n",
      "        \"md5\": \"bf51abf298c6429ac95b6fccf9baca34\",\n",
      "        \"task_id\": \"\",\n",
      "        \"tags\": [\n",
      "            \"http://127.0.0.1:8001/api/tags/f3f0af48-fa67-44db-861a-9deb9c67c61e/\",\n",
      "            \"http://127.0.0.1:8001/api/tags/8503b4dd-43ce-4cee-a0bd-fbf5df89bf0d/\",\n",
      "            \"http://127.0.0.1:8001/api/tags/36b8842e-b93d-411d-890c-882e9ef7272e/\"\n",
      "        ],\n",
      "        \"uuid\": \"74955e44-58ae-4d27-aa25-5c90d64316f8\"\n",
      "    },\n",
      "    {\n",
      "        \"name\": \"L1V3_plotting-data-csv.omex\",\n",
      "        \"file\": \"http://127.0.0.1:8001/media/archives/L1V3_plotting-data-csv.omex\",\n",
      "        \"created\": \"2017-11-07T14:07:31.449382Z\",\n",
      "        \"md5\": \"070377b5983257f546a098251714407e\",\n",
      "        \"task_id\": \"\",\n",
      "        \"tags\": [\n",
      "            \"http://127.0.0.1:8001/api/tags/f3f0af48-fa67-44db-861a-9deb9c67c61e/\",\n",
      "            \"http://127.0.0.1:8001/api/tags/8503b4dd-43ce-4cee-a0bd-fbf5df89bf0d/\",\n",
      "            \"http://127.0.0.1:8001/api/tags/36b8842e-b93d-411d-890c-882e9ef7272e/\",\n",
      "            \"http://127.0.0.1:8001/api/tags/dcfc26d5-4a65-412b-9988-59066061252a/\"\n",
      "        ],\n",
      "        \"uuid\": \"31eba525-76e0-4e27-9dc1-89bafa1de501\"\n",
      "    },\n",
      "    {\n",
      "        \"name\": \"L1V3_plotting-data-numl.omex\",\n",
      "        \"file\": \"http://127.0.0.1:8001/media/archives/L1V3_plotting-data-numl.omex\",\n",
      "        \"created\": \"2017-11-07T14:07:31.498512Z\",\n",
      "        \"md5\": \"e7001c63fbabd9886dfbe25fcf2f7a58\",\n",
      "        \"task_id\": \"\",\n",
      "        \"tags\": [\n",
      "            \"http://127.0.0.1:8001/api/tags/f3f0af48-fa67-44db-861a-9deb9c67c61e/\",\n",
      "            \"http://127.0.0.1:8001/api/tags/8503b4dd-43ce-4cee-a0bd-fbf5df89bf0d/\",\n",
      "            \"http://127.0.0.1:8001/api/tags/36b8842e-b93d-411d-890c-882e9ef7272e/\",\n",
      "            \"http://127.0.0.1:8001/api/tags/dcfc26d5-4a65-412b-9988-59066061252a/\"\n",
      "        ],\n",
      "        \"uuid\": \"d6db7582-ab94-4e8e-8d16-5fd04186c596\"\n",
      "    },\n",
      "    {\n",
      "        \"name\": \"L1V3_repeated-scan-oscli.omex\",\n",
      "        \"file\": \"http://127.0.0.1:8001/media/archives/L1V3_repeated-scan-oscli.omex\",\n",
      "        \"created\": \"2017-11-07T14:07:31.540164Z\",\n",
      "        \"md5\": \"0443053bf76ff55261fbc00cc969d03a\",\n",
      "        \"task_id\": \"\",\n",
      "        \"tags\": [\n",
      "            \"http://127.0.0.1:8001/api/tags/f3f0af48-fa67-44db-861a-9deb9c67c61e/\",\n",
      "            \"http://127.0.0.1:8001/api/tags/8503b4dd-43ce-4cee-a0bd-fbf5df89bf0d/\",\n",
      "            \"http://127.0.0.1:8001/api/tags/36b8842e-b93d-411d-890c-882e9ef7272e/\"\n",
      "        ],\n",
      "        \"uuid\": \"181da630-96e7-4c4a-9ad0-6fee07c705bf\"\n",
      "    },\n",
      "    {\n",
      "        \"name\": \"L1V3_repeated-steady-scan-oscli.omex\",\n",
      "        \"file\": \"http://127.0.0.1:8001/media/archives/L1V3_repeated-steady-scan-oscli.omex\",\n",
      "        \"created\": \"2017-11-07T14:07:31.572111Z\",\n",
      "        \"md5\": \"f4b5f8e3f443f59f63f0bea0741c03ab\",\n",
      "        \"task_id\": \"\",\n",
      "        \"tags\": [\n",
      "            \"http://127.0.0.1:8001/api/tags/f3f0af48-fa67-44db-861a-9deb9c67c61e/\",\n",
      "            \"http://127.0.0.1:8001/api/tags/8503b4dd-43ce-4cee-a0bd-fbf5df89bf0d/\",\n",
      "            \"http://127.0.0.1:8001/api/tags/36b8842e-b93d-411d-890c-882e9ef7272e/\"\n",
      "        ],\n",
      "        \"uuid\": \"ce0f0f83-abb2-406d-8eca-ac3f348ba121\"\n",
      "    },\n",
      "    {\n",
      "        \"name\": \"L1V3_repeated-stochastic-runs.omex\",\n",
      "        \"file\": \"http://127.0.0.1:8001/media/archives/L1V3_repeated-stochastic-runs.omex\",\n",
      "        \"created\": \"2017-11-07T14:07:31.604577Z\",\n",
      "        \"md5\": \"76cc799746b32a7c6d2367bf76c17fad\",\n",
      "        \"task_id\": \"\",\n",
      "        \"tags\": [\n",
      "            \"http://127.0.0.1:8001/api/tags/f3f0af48-fa67-44db-861a-9deb9c67c61e/\",\n",
      "            \"http://127.0.0.1:8001/api/tags/8503b4dd-43ce-4cee-a0bd-fbf5df89bf0d/\",\n",
      "            \"http://127.0.0.1:8001/api/tags/36b8842e-b93d-411d-890c-882e9ef7272e/\"\n",
      "        ],\n",
      "        \"uuid\": \"fb939cde-5824-4639-a0b9-03a6d7bd92c8\"\n",
      "    },\n",
      "    {\n",
      "        \"name\": \"L1V3_vanderpol-sbml.omex\",\n",
      "        \"file\": \"http://127.0.0.1:8001/media/archives/L1V3_vanderpol-sbml.omex\",\n",
      "        \"created\": \"2017-11-07T14:07:31.716716Z\",\n",
      "        \"md5\": \"57479e2720cf7f1078697920b4100aed\",\n",
      "        \"task_id\": \"\",\n",
      "        \"tags\": [\n",
      "            \"http://127.0.0.1:8001/api/tags/f3f0af48-fa67-44db-861a-9deb9c67c61e/\",\n",
      "            \"http://127.0.0.1:8001/api/tags/8503b4dd-43ce-4cee-a0bd-fbf5df89bf0d/\",\n",
      "            \"http://127.0.0.1:8001/api/tags/36b8842e-b93d-411d-890c-882e9ef7272e/\"\n",
      "        ],\n",
      "        \"uuid\": \"c41bf5a6-21cb-48d6-a00c-cd4a20c8b636\"\n",
      "    }\n",
      "]\n"
     ]
    }
   ],
   "source": [
    "#search so far by id with foreignkey\n",
    "data = client.action(document,[\"archives\", \"list\"], params={\"tags\":1} )\n",
    "print(json.dumps(data,indent=4))"
   ]
  },
  {
   "cell_type": "code",
   "execution_count": 129,
   "metadata": {},
   "outputs": [
    {
     "name": "stdout",
     "output_type": "stream",
     "text": [
      "[\n",
      "    {\n",
      "        \"name\": \"sbml\",\n",
      "        \"type\": \"format\",\n",
      "        \"uuid\": \"f3f0af48-fa67-44db-861a-9deb9c67c61e\"\n",
      "    },\n",
      "    {\n",
      "        \"name\": \"cellml\",\n",
      "        \"type\": \"format\",\n",
      "        \"uuid\": \"59dafcf2-82c0-4f48-bb4d-3954cacc2b47\"\n",
      "    },\n",
      "    {\n",
      "        \"name\": \"sbgn\",\n",
      "        \"type\": \"format\",\n",
      "        \"uuid\": \"74afbb79-9ba9-4795-9677-0fbfe017ab51\"\n",
      "    },\n",
      "    {\n",
      "        \"name\": \"sed-ml\",\n",
      "        \"type\": \"format\",\n",
      "        \"uuid\": \"8503b4dd-43ce-4cee-a0bd-fbf5df89bf0d\"\n",
      "    }\n",
      "]\n"
     ]
    }
   ],
   "source": [
    "data = client.action(document,[\"tags\", \"list\"], params={\"type\":\"format\"} )\n",
    "print(json.dumps(data,indent=4))"
   ]
  },
  {
   "cell_type": "code",
   "execution_count": 141,
   "metadata": {},
   "outputs": [
    {
     "name": "stdout",
     "output_type": "stream",
     "text": [
      "[\n",
      "    {\n",
      "        \"url\": \"http://127.0.0.1:8001/api/users/1/\",\n",
      "        \"username\": \"janek89\",\n",
      "        \"email\": \"janekg89@hotmail.de\",\n",
      "        \"is_staff\": true\n",
      "    }\n",
      "]\n"
     ]
    }
   ],
   "source": [
    "data = client.action(document,[\"users\", \"list\",], params={\"search\":\"ja\"} )\n",
    "print(json.dumps(data,indent=4))"
   ]
  },
  {
   "cell_type": "code",
   "execution_count": null,
   "metadata": {
    "collapsed": true
   },
   "outputs": [],
   "source": []
  }
 ],
 "metadata": {
  "kernelspec": {
   "display_name": "pkdb-test",
   "language": "python",
   "name": "pkdb-test"
  },
  "language_info": {
   "codemirror_mode": {
    "name": "ipython",
    "version": 3
   },
   "file_extension": ".py",
   "mimetype": "text/x-python",
   "name": "python",
   "nbconvert_exporter": "python",
   "pygments_lexer": "ipython3",
   "version": "3.6.5"
  }
 },
 "nbformat": 4,
 "nbformat_minor": 1
}
