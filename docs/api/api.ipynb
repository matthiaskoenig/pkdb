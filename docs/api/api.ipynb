{
 "cells": [
  {
   "cell_type": "markdown",
   "metadata": {},
   "source": [
    "# API Client\n",
    "The following tutorial demonstrates how to access the PKDB API with python.\n",
    "\n",
    "For more information and installation information see:  \n",
    "https://github.com/matthiaskoenig/pkdb"
   ]
  },
  {
   "cell_type": "code",
   "execution_count": 1,
   "metadata": {
    "collapsed": true
   },
   "outputs": [],
   "source": [
    "URL_PKDB = \"http://0.0.0.0:8000/\""
   ]
  },
  {
   "cell_type": "code",
   "execution_count": 2,
   "metadata": {
    "collapsed": true
   },
   "outputs": [],
   "source": [
    "# import libraries\n",
    "import coreapi\n",
    "import requests\n",
    "import json\n",
    "from pprint import pprint\n",
    "from requests.auth import HTTPBasicAuth"
   ]
  },
  {
   "cell_type": "code",
   "execution_count": 3,
   "metadata": {
    "collapsed": true
   },
   "outputs": [],
   "source": [
    "#response = requests.get('http://0.0.0.0:8000/', auth=HTTPBasicAuth('janek', 'test'))"
   ]
  },
  {
   "cell_type": "code",
   "execution_count": 4,
   "metadata": {
    "collapsed": true
   },
   "outputs": [],
   "source": [
    "#r = requests.post(\"http://0.0.0.0:8000/api-auth/login/?next=/api/v1/\", data={'username': 'janek', 'password': 'test'})\n",
    "#print(r.status_code, r.reason)\n",
    "#r.json()[\"token\"]"
   ]
  },
  {
   "cell_type": "markdown",
   "metadata": {},
   "source": [
    "## Create client & API endpoint"
   ]
  },
  {
   "cell_type": "code",
   "execution_count": 16,
   "metadata": {
    "collapsed": true
   },
   "outputs": [],
   "source": [
    "#auth = coreapi.auth.BasicAuthentication(\n",
    "#username=\"janek\",\n",
    "#password=\"test\", )\n",
    "client = coreapi.Client()"
   ]
  },
  {
   "cell_type": "code",
   "execution_count": 17,
   "metadata": {},
   "outputs": [
    {
     "name": "stdout",
     "output_type": "stream",
     "text": [
      "PkBD API\n",
      "http://0.0.0.0:8000/\n"
     ]
    }
   ],
   "source": [
    "# get the api scema\n",
    "document = client.get(URL_PKDB)\n",
    "print(document.title)\n",
    "print(document.url)"
   ]
  },
  {
   "cell_type": "code",
   "execution_count": 18,
   "metadata": {},
   "outputs": [
    {
     "name": "stdout",
     "output_type": "stream",
     "text": [
      "<PkBD API \"http://0.0.0.0:8000/\">\n",
      "    authors: {\n",
      "        list([page], [first_name], [last_name], [search])\n",
      "        create([first_name], [last_name])\n",
      "        read(id, [first_name], [last_name], [search])\n",
      "        update(id, [first_name], [last_name], [first_name], [last_name], [search])\n",
      "        partial_update(id, [first_name], [last_name], [first_name], [last_name], [search])\n",
      "        delete(id, [first_name], [last_name], [search])\n",
      "    }\n",
      "    references: {\n",
      "        list([page], [pmid], [doi], [title], [abstract], [journal], [date], [authors], [search])\n",
      "        create(sid, title, date, authors, [pmid], [doi], [abstract], [journal], [pdf])\n",
      "        read(id, [pmid], [doi], [title], [abstract], [journal], [date], [authors], [search])\n",
      "        update(id, sid, title, date, authors, [pmid], [doi], [abstract], [journal], [pdf], [pmid], [doi], [title], [abstract], [journal], [date], [authors], [search])\n",
      "        partial_update(id, [sid], [pmid], [doi], [title], [abstract], [journal], [date], [authors], [pdf], [pmid], [doi], [title], [abstract], [journal], [date], [authors], [search])\n",
      "        delete(id, [pmid], [doi], [title], [abstract], [journal], [date], [authors], [search])\n",
      "    }\n"
     ]
    }
   ],
   "source": [
    "# overview available methods\n",
    "print(document)"
   ]
  },
  {
   "cell_type": "markdown",
   "metadata": {},
   "source": [
    "## Example queries\n",
    "Show all authors"
   ]
  },
  {
   "cell_type": "code",
   "execution_count": 19,
   "metadata": {},
   "outputs": [
    {
     "name": "stdout",
     "output_type": "stream",
     "text": [
      "{\n",
      "  \"count\": 1,\n",
      "  \"next\": null,\n",
      "  \"previous\": null,\n",
      "  \"results\": [\n",
      "    {\n",
      "      \"id\": 1,\n",
      "      \"first_name\": \"Lucek\",\n",
      "      \"last_name\": \"Grzegorzewski\"\n",
      "    }\n",
      "  ]\n",
      "}\n"
     ]
    }
   ],
   "source": [
    "data = client.action(document,[\"authors\", \"list\"])\n",
    "print(json.dumps(data, indent=2))"
   ]
  },
  {
   "cell_type": "markdown",
   "metadata": {},
   "source": [
    "Create author"
   ]
  },
  {
   "cell_type": "code",
   "execution_count": 20,
   "metadata": {},
   "outputs": [
    {
     "name": "stdout",
     "output_type": "stream",
     "text": [
      "OrderedDict([('id', 1), ('first_name', 'Lucek'), ('last_name', 'Grzegorzewski')])\n"
     ]
    }
   ],
   "source": [
    "data = client.action(document,[\"authors\", \"create\"], params={'first_name':'Lucek', 'last_name':'Grzegorzewski'})\n",
    "print(data)"
   ]
  },
  {
   "cell_type": "code",
   "execution_count": 21,
   "metadata": {},
   "outputs": [
    {
     "name": "stdout",
     "output_type": "stream",
     "text": [
      "{\n",
      "  \"count\": 1,\n",
      "  \"next\": null,\n",
      "  \"previous\": null,\n",
      "  \"results\": [\n",
      "    {\n",
      "      \"id\": 1,\n",
      "      \"first_name\": \"Lucek\",\n",
      "      \"last_name\": \"Grzegorzewski\"\n",
      "    }\n",
      "  ]\n",
      "}\n"
     ]
    }
   ],
   "source": [
    "# Filter for authors first name = Lucek\n",
    "data = client.action(document, [\"authors\", \"list\"], params={\"first_name\": \"Lucek\"} )\n",
    "print(json.dumps(data, indent=2))"
   ]
  },
  {
   "cell_type": "code",
   "execution_count": 22,
   "metadata": {},
   "outputs": [
    {
     "name": "stdout",
     "output_type": "stream",
     "text": [
      "{\n",
      "  \"count\": 1,\n",
      "  \"next\": null,\n",
      "  \"previous\": null,\n",
      "  \"results\": [\n",
      "    {\n",
      "      \"id\": 1,\n",
      "      \"first_name\": \"Lucek\",\n",
      "      \"last_name\": \"Grzegorzewski\"\n",
      "    }\n",
      "  ]\n",
      "}\n"
     ]
    }
   ],
   "source": [
    "# Search for author\n",
    "data = client.action(document, [\"authors\", \"list\"], params={\"search\": \"Gr\"} )\n",
    "print(json.dumps(data, indent=2))"
   ]
  },
  {
   "cell_type": "code",
   "execution_count": 31,
   "metadata": {},
   "outputs": [
    {
     "ename": "ParameterError",
     "evalue": "{'groups': 'Unknown parameter.'}",
     "output_type": "error",
     "traceback": [
      "\u001b[0;31m---------------------------------------------------------------------------\u001b[0m",
      "\u001b[0;31mParameterError\u001b[0m                            Traceback (most recent call last)",
      "\u001b[0;32m<ipython-input-31-90df44ccf8e4>\u001b[0m in \u001b[0;36m<module>\u001b[0;34m()\u001b[0m\n\u001b[1;32m     28\u001b[0m     \u001b[0;34m\"doi\"\u001b[0m\u001b[0;34m:\u001b[0m \u001b[0;34m\"\"\u001b[0m\u001b[0;34m\u001b[0m\u001b[0m\n\u001b[1;32m     29\u001b[0m }\n\u001b[0;32m---> 30\u001b[0;31m \u001b[0mclient\u001b[0m\u001b[0;34m.\u001b[0m\u001b[0maction\u001b[0m\u001b[0;34m(\u001b[0m\u001b[0mdocument\u001b[0m\u001b[0;34m,\u001b[0m\u001b[0;34m[\u001b[0m\u001b[0;34m\"references\"\u001b[0m\u001b[0;34m,\u001b[0m \u001b[0;34m\"create\"\u001b[0m\u001b[0;34m]\u001b[0m\u001b[0;34m,\u001b[0m \u001b[0mparams\u001b[0m\u001b[0;34m=\u001b[0m\u001b[0mstudy_dict\u001b[0m\u001b[0;34m)\u001b[0m\u001b[0;34m\u001b[0m\u001b[0m\n\u001b[0m",
      "\u001b[0;32m~/Envs/pkdb/lib/python3.6/site-packages/coreapi/client.py\u001b[0m in \u001b[0;36maction\u001b[0;34m(self, document, keys, params, validate, overrides, action, encoding, transform)\u001b[0m\n\u001b[1;32m    163\u001b[0m         \u001b[0mlink\u001b[0m\u001b[0;34m,\u001b[0m \u001b[0mlink_ancestors\u001b[0m \u001b[0;34m=\u001b[0m \u001b[0m_lookup_link\u001b[0m\u001b[0;34m(\u001b[0m\u001b[0mdocument\u001b[0m\u001b[0;34m,\u001b[0m \u001b[0mkeys\u001b[0m\u001b[0;34m)\u001b[0m\u001b[0;34m\u001b[0m\u001b[0m\n\u001b[1;32m    164\u001b[0m         \u001b[0;32mif\u001b[0m \u001b[0mvalidate\u001b[0m\u001b[0;34m:\u001b[0m\u001b[0;34m\u001b[0m\u001b[0m\n\u001b[0;32m--> 165\u001b[0;31m             \u001b[0m_validate_parameters\u001b[0m\u001b[0;34m(\u001b[0m\u001b[0mlink\u001b[0m\u001b[0;34m,\u001b[0m \u001b[0mparams\u001b[0m\u001b[0;34m)\u001b[0m\u001b[0;34m\u001b[0m\u001b[0m\n\u001b[0m\u001b[1;32m    166\u001b[0m \u001b[0;34m\u001b[0m\u001b[0m\n\u001b[1;32m    167\u001b[0m         \u001b[0;32mif\u001b[0m \u001b[0moverrides\u001b[0m\u001b[0;34m:\u001b[0m\u001b[0;34m\u001b[0m\u001b[0m\n",
      "\u001b[0;32m~/Envs/pkdb/lib/python3.6/site-packages/coreapi/client.py\u001b[0m in \u001b[0;36m_validate_parameters\u001b[0;34m(link, parameters)\u001b[0m\n\u001b[1;32m     78\u001b[0m \u001b[0;34m\u001b[0m\u001b[0m\n\u001b[1;32m     79\u001b[0m     \u001b[0;32mif\u001b[0m \u001b[0merrors\u001b[0m\u001b[0;34m:\u001b[0m\u001b[0;34m\u001b[0m\u001b[0m\n\u001b[0;32m---> 80\u001b[0;31m         \u001b[0;32mraise\u001b[0m \u001b[0mexceptions\u001b[0m\u001b[0;34m.\u001b[0m\u001b[0mParameterError\u001b[0m\u001b[0;34m(\u001b[0m\u001b[0merrors\u001b[0m\u001b[0;34m)\u001b[0m\u001b[0;34m\u001b[0m\u001b[0m\n\u001b[0m\u001b[1;32m     81\u001b[0m \u001b[0;34m\u001b[0m\u001b[0m\n\u001b[1;32m     82\u001b[0m \u001b[0;34m\u001b[0m\u001b[0m\n",
      "\u001b[0;31mParameterError\u001b[0m: {'groups': 'Unknown parameter.'}"
     ]
    }
   ],
   "source": [
    "# Create study\n",
    "study_dict = {\n",
    "    \"pmid\": 16198659,\n",
    "    \"sid\": \"Granfors2005\",\n",
    "    \"date\": \"2005-11-02\",\n",
    "    \"journal\": \"Clinical pharmacology and therapeutics\",\n",
    "    \"title\": \"Oral contraceptives containing ethinyl estradiol and gestodene markedly increase plasma concentrations and effects of tizanidine by inhibiting cytochrome P450 1A2.\",\n",
    "    \"abstract\": \"OCs containing ethinyl estradiol and gestodene increase, to a clinically significant extent, the plasma concentrations and effects of tizanidine, probably mainly by inhibiting its CYP1A2-mediated presystemic metabolism. Care should be exercised when tizanidine is prescribed to OC users.\",\n",
    "    \"groups\":,\n",
    "    \"authors\": [\n",
    "        {\n",
    "            \"first_name\": \"Marika T\",\n",
    "            \"last_name\": \"Granfors\"\n",
    "        },\n",
    "        {\n",
    "            \"first_name\": \"Janne T\",\n",
    "            \"last_name\": \"Backman\"\n",
    "        },\n",
    "        {\n",
    "            \"first_name\": \"Jouko\",\n",
    "            \"last_name\": \"Laitila\"\n",
    "        },\n",
    "        {\n",
    "            \"first_name\": \"Pertti J\",\n",
    "            \"last_name\": \"Neuvonen\"\n",
    "        }\n",
    "    ],\n",
    "    \"doi\": \"\"\n",
    "}\n",
    "client.action(document,[\"references\", \"create\"], params=study_dict)"
   ]
  },
  {
   "cell_type": "code",
   "execution_count": 32,
   "metadata": {
    "collapsed": true
   },
   "outputs": [],
   "source": [
    "import pandas as pd"
   ]
  },
  {
   "cell_type": "code",
   "execution_count": null,
   "metadata": {
    "collapsed": true
   },
   "outputs": [],
   "source": []
  },
  {
   "cell_type": "code",
   "execution_count": 48,
   "metadata": {
    "collapsed": true
   },
   "outputs": [],
   "source": [
    "path =\"/home/janekg89/Develop/Pycharm_Projects/pkdb/pkdb_app/data/caffeine/Subjects.tsv\""
   ]
  },
  {
   "cell_type": "code",
   "execution_count": 53,
   "metadata": {
    "collapsed": true
   },
   "outputs": [],
   "source": [
    "def subjects_load(json_reference):\n",
    "    data_pd = pd.read_csv(path,delimiter='\\t')\n",
    "    this_data = data_pd[data_pd[\"study\"] == json_reference[\"json\"][\"sid\"]]\n",
    "    json = {**json_reference[\"json\"]}\n",
    "    json[\"groups\"] = []\n",
    "    print(len(this_data))\n",
    "    for name, row in this_data.iterrows():\n",
    "        yield {\"json\": json, \"group\": row.to_dict()}# \"reference_path\": json_reference[\"reference_path\"]}"
   ]
  },
  {
   "cell_type": "code",
   "execution_count": 54,
   "metadata": {},
   "outputs": [],
   "source": [
    "data = {\"json\" : study_dict }\n",
    "this = subjects_load(data)"
   ]
  },
  {
   "cell_type": "code",
   "execution_count": 55,
   "metadata": {},
   "outputs": [
    {
     "name": "stdout",
     "output_type": "stream",
     "text": [
      "2\n"
     ]
    },
    {
     "data": {
      "text/plain": [
       "{'json': {'pmid': 16198659,\n",
       "  'sid': 'Granfors2005',\n",
       "  'date': '2005-11-02',\n",
       "  'journal': 'Clinical pharmacology and therapeutics',\n",
       "  'title': 'Oral contraceptives containing ethinyl estradiol and gestodene markedly increase plasma concentrations and effects of tizanidine by inhibiting cytochrome P450 1A2.',\n",
       "  'abstract': 'OCs containing ethinyl estradiol and gestodene increase, to a clinically significant extent, the plasma concentrations and effects of tizanidine, probably mainly by inhibiting its CYP1A2-mediated presystemic metabolism. Care should be exercised when tizanidine is prescribed to OC users.',\n",
       "  'groups': [],\n",
       "  'authors': [{'first_name': 'Marika T', 'last_name': 'Granfors'},\n",
       "   {'first_name': 'Janne T', 'last_name': 'Backman'},\n",
       "   {'first_name': 'Jouko', 'last_name': 'Laitila'},\n",
       "   {'first_name': 'Pertti J', 'last_name': 'Neuvonen'}],\n",
       "  'doi': ''},\n",
       " 'group': {'study': 'Granfors2005',\n",
       "  'subjects': 'S1',\n",
       "  'keywords': 'control',\n",
       "  'species': 'homo sapiens',\n",
       "  'strain': '-',\n",
       "  'ethnicity': nan,\n",
       "  'count': 15,\n",
       "  'gender': 'female',\n",
       "  'healthy': 'yes',\n",
       "  'condition': 'healthy',\n",
       "  'alcohol': nan,\n",
       "  'caffeine ': nan,\n",
       "  'smoking': 'no',\n",
       "  'smoking_amount': nan,\n",
       "  'oc': 'no',\n",
       "  'age': 22.0,\n",
       "  'age_sd': 2.0,\n",
       "  'age_sem': nan,\n",
       "  'age_min': 19.0,\n",
       "  'age_max': 26.0,\n",
       "  'age_unit': 'yr',\n",
       "  'bw': 62.0,\n",
       "  'bw_sd': 10.0,\n",
       "  'bw_sem': nan,\n",
       "  'bw_min': 52.0,\n",
       "  'bw_max': 74.0,\n",
       "  'bw_unit': 'kg',\n",
       "  'height': nan,\n",
       "  'height_sd': nan,\n",
       "  'height_se': nan,\n",
       "  'height_min': nan,\n",
       "  'height_max': nan,\n",
       "  'height_unit': nan,\n",
       "  'subjects_details': 'This was an open, parallel-group study with 15 healthy female volunteers (mean age, 22+-2 years [range, 18-25 years]; mean weight, 57+-6 kg [range, 48-63 kg]) using Ocs and 15 healthy female volunteers (mean age, 22+-2 years [range, 19-26 years]; mean weight, 62+-10 kg [range, 52-74 kg]) without any concomitant medication.\\nThere were no statistically significant differences in age or weight between the groups. The combined OCs used by the women in this study contained 75 g gestodene and either 20 g ethinyl estradiol (Harmonet tablet [Wyeth, Newbridge, Ireland], 7 subjects; Meliane tablet [Schering, Berlin, Germany], 5 subjects) or 30 g ethinyl estradiol (Femoden tablet [Schering], 2 subjects; Minulet tablet [Wyeth], 1 subject). The OC users had been using these OC preparations for at least 1 menstrual cycle before the study. Before entering the study, all subjects provided written informed consent and were ascertained to be healthy by medical history, physical examination, and routine laboratory tests. For safety reasons, subjects with a systolic blood pressure lower than 110 mm Hg were excluded from the study. None of the subjects were tobacco smokers, and none used any continuous medication except OCs.'}}"
      ]
     },
     "execution_count": 55,
     "metadata": {},
     "output_type": "execute_result"
    }
   ],
   "source": [
    "next(this)"
   ]
  },
  {
   "cell_type": "code",
   "execution_count": null,
   "metadata": {
    "collapsed": true
   },
   "outputs": [],
   "source": []
  }
 ],
 "metadata": {
  "kernelspec": {
   "display_name": "pkdb",
   "language": "python",
   "name": "pkdb"
  },
  "language_info": {
   "codemirror_mode": {
    "name": "ipython",
    "version": 3
   },
   "file_extension": ".py",
   "mimetype": "text/x-python",
   "name": "python",
   "nbconvert_exporter": "python",
   "pygments_lexer": "ipython3",
   "version": "3.6.5"
  }
 },
 "nbformat": 4,
 "nbformat_minor": 2
}
