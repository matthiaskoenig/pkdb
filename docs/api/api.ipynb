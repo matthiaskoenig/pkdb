{
 "cells": [
  {
   "cell_type": "markdown",
   "metadata": {
    "collapsed": true
   },
   "source": [
    "# Api Client\n",
    "The following tutorial demonstarates how to access the api with python"
   ]
  },
  {
   "cell_type": "code",
   "execution_count": 1,
   "metadata": {
    "collapsed": true
   },
   "outputs": [],
   "source": [
    "#import libraries\n",
    "import coreapi\n",
    "import requests\n",
    "import json\n",
    "from pprint import pprint\n",
    "from requests.auth import HTTPBasicAuth\n"
   ]
  },
  {
   "cell_type": "code",
   "execution_count": 4,
   "metadata": {},
   "outputs": [],
   "source": [
    "#response = requests.get('http://0.0.0.0:8000/', auth=HTTPBasicAuth('janekg89', 'aterfall'))"
   ]
  },
  {
   "cell_type": "code",
   "execution_count": null,
   "metadata": {},
   "outputs": [],
   "source": []
  },
  {
   "cell_type": "code",
   "execution_count": 5,
   "metadata": {},
   "outputs": [
    {
     "name": "stdout",
     "output_type": "stream",
     "text": [
      "403 Forbidden\n"
     ]
    }
   ],
   "source": [
    "r = requests.post(\"http://0.0.0.0:8000/api-auth/login/?next=/api/v1/\", data={'username': 'janekg89', 'password': 'aterfall89'})\n",
    "print(r.status_code, r.reason)\n",
    "#r.json()[\"token\"]"
   ]
  },
  {
   "cell_type": "code",
   "execution_count": null,
   "metadata": {},
   "outputs": [],
   "source": []
  },
  {
   "cell_type": "code",
   "execution_count": null,
   "metadata": {
    "collapsed": true
   },
   "outputs": [],
   "source": []
  },
  {
   "cell_type": "code",
   "execution_count": 8,
   "metadata": {
    "collapsed": true
   },
   "outputs": [],
   "source": [
    "auth = coreapi.auth.BasicAuthentication(\n",
    "username=\"janekg89\",\n",
    "\n",
    "password=\"aterfall89\", )\n",
    "client = coreapi.Client()"
   ]
  },
  {
   "cell_type": "code",
   "execution_count": 9,
   "metadata": {},
   "outputs": [
    {
     "name": "stdout",
     "output_type": "stream",
     "text": [
      "PkBD API\n",
      "http://0.0.0.0:8000/\n"
     ]
    }
   ],
   "source": [
    "# get the api scema\n",
    "document = client.get(\"http://0.0.0.0:8000/\")\n",
    "print(document.title)\n",
    "print(document.url)"
   ]
  },
  {
   "cell_type": "code",
   "execution_count": 13,
   "metadata": {},
   "outputs": [
    {
     "name": "stdout",
     "output_type": "stream",
     "text": [
      "{\n",
      "    \"count\": 1,\n",
      "    \"next\": null,\n",
      "    \"previous\": null,\n",
      "    \"results\": [\n",
      "        {\n",
      "            \"first_name\": \"lucek\",\n",
      "            \"last_name\": \"grzegorzewski\"\n",
      "        }\n",
      "    ]\n",
      "}\n"
     ]
    }
   ],
   "source": [
    "#show all authors\n",
    "data = client.action(document,[\"authors\", \"list\"],params={})\n",
    "print(json.dumps(data,indent=4))"
   ]
  },
  {
   "cell_type": "code",
   "execution_count": 12,
   "metadata": {
    "collapsed": true
   },
   "outputs": [],
   "source": [
    "# create author\n",
    "data = client.action(document,[\"authors\", \"create\"],params={'first_name':'lucek', 'last_name':'grzegorzewski'})\n",
    "\n"
   ]
  },
  {
   "cell_type": "code",
   "execution_count": null,
   "metadata": {},
   "outputs": [],
   "source": []
  },
  {
   "cell_type": "code",
   "execution_count": 24,
   "metadata": {},
   "outputs": [
    {
     "ename": "AttributeError",
     "evalue": "'Document' object has no attribute 'text'",
     "traceback": [
      "\u001b[0;31m---------------------------------------------------------------------------\u001b[0m",
      "\u001b[0;31mAttributeError\u001b[0m                            Traceback (most recent call last)",
      "\u001b[0;32m<ipython-input-24-44a01c6c1006>\u001b[0m in \u001b[0;36m<module>\u001b[0;34m()\u001b[0m\n\u001b[1;32m      1\u001b[0m \u001b[0;31m#what can I do with the users\u001b[0m\u001b[0;34m\u001b[0m\u001b[0;34m\u001b[0m\u001b[0m\n\u001b[0;32m----> 2\u001b[0;31m \u001b[0mpprint\u001b[0m\u001b[0;34m(\u001b[0m\u001b[0mdocument\u001b[0m\u001b[0;34m.\u001b[0m\u001b[0mtext\u001b[0m\u001b[0;34m)\u001b[0m\u001b[0;31m#[\"user\"])\u001b[0m\u001b[0;34m\u001b[0m\u001b[0m\n\u001b[0m\u001b[1;32m      3\u001b[0m \u001b[0;31m# keys in [] are optional params\u001b[0m\u001b[0;34m\u001b[0m\u001b[0;34m\u001b[0m\u001b[0m\n",
      "\u001b[0;31mAttributeError\u001b[0m: 'Document' object has no attribute 'text'"
     ],
     "output_type": "error"
    }
   ],
   "source": [
    "#what can I do with the users\n",
    "pprint(document.text)#[\"user\"])\n",
    "# keys in [] are optional params"
   ]
  },
  {
   "cell_type": "markdown",
   "metadata": {},
   "source": [
    "## Examples of some querys"
   ]
  },
  {
   "cell_type": "code",
   "execution_count": 137,
   "metadata": {},
   "outputs": [
    {
     "name": "stdout",
     "output_type": "stream",
     "text": [
      "[\n",
      "    {\n",
      "        \"name\": \"CombineArchiveShowCase.omex\",\n",
      "        \"file\": \"http://127.0.0.1:8001/media/archives/CombineArchiveShowCase.omex\",\n",
      "        \"created\": \"2017-11-07T14:07:31.105147Z\",\n",
      "        \"md5\": \"feee500260a73f10040b8ba0681936e5\",\n",
      "        \"task_id\": \"\",\n",
      "        \"tags\": [\n",
      "            \"http://127.0.0.1:8001/api/tags/f3f0af48-fa67-44db-861a-9deb9c67c61e/\",\n",
      "            \"http://127.0.0.1:8001/api/tags/59dafcf2-82c0-4f48-bb4d-3954cacc2b47/\",\n",
      "            \"http://127.0.0.1:8001/api/tags/74afbb79-9ba9-4795-9677-0fbfe017ab51/\",\n",
      "            \"http://127.0.0.1:8001/api/tags/8503b4dd-43ce-4cee-a0bd-fbf5df89bf0d/\",\n",
      "            \"http://127.0.0.1:8001/api/tags/36b8842e-b93d-411d-890c-882e9ef7272e/\"\n",
      "        ],\n",
      "        \"uuid\": \"0e602a58-432d-4470-b70d-e26073f4ec49\"\n",
      "    },\n",
      "    {\n",
      "        \"name\": \"L1V3_lorenz-sbml.omex\",\n",
      "        \"file\": \"http://127.0.0.1:8001/media/archives/L1V3_lorenz-sbml.omex\",\n",
      "        \"created\": \"2017-11-07T14:07:31.339715Z\",\n",
      "        \"md5\": \"82333b80536f6a75b0370c3cdd2e75f3\",\n",
      "        \"task_id\": \"\",\n",
      "        \"tags\": [\n",
      "            \"http://127.0.0.1:8001/api/tags/f3f0af48-fa67-44db-861a-9deb9c67c61e/\",\n",
      "            \"http://127.0.0.1:8001/api/tags/8503b4dd-43ce-4cee-a0bd-fbf5df89bf0d/\",\n",
      "            \"http://127.0.0.1:8001/api/tags/29dfeddc-59f3-4df2-b4b7-4962385cd7ad/\"\n",
      "        ],\n",
      "        \"uuid\": \"cace90ca-10c7-4ebc-a5e0-5fff85a618fc\"\n",
      "    },\n",
      "    {\n",
      "        \"name\": \"L1V3_oscli-nested-pulse.omex\",\n",
      "        \"file\": \"http://127.0.0.1:8001/media/archives/L1V3_oscli-nested-pulse.omex\",\n",
      "        \"created\": \"2017-11-07T14:07:31.381868Z\",\n",
      "        \"md5\": \"481583e8587eaf315e20a4209e767326\",\n",
      "        \"task_id\": \"\",\n",
      "        \"tags\": [\n",
      "            \"http://127.0.0.1:8001/api/tags/f3f0af48-fa67-44db-861a-9deb9c67c61e/\",\n",
      "            \"http://127.0.0.1:8001/api/tags/8503b4dd-43ce-4cee-a0bd-fbf5df89bf0d/\",\n",
      "            \"http://127.0.0.1:8001/api/tags/36b8842e-b93d-411d-890c-882e9ef7272e/\"\n",
      "        ],\n",
      "        \"uuid\": \"025de7cc-4234-4bb4-be72-6bc6e4abc8ac\"\n",
      "    },\n",
      "    {\n",
      "        \"name\": \"L1V3_parameter-scan-2d.omex\",\n",
      "        \"file\": \"http://127.0.0.1:8001/media/archives/L1V3_parameter-scan-2d.omex\",\n",
      "        \"created\": \"2017-11-07T14:07:31.415872Z\",\n",
      "        \"md5\": \"bf51abf298c6429ac95b6fccf9baca34\",\n",
      "        \"task_id\": \"\",\n",
      "        \"tags\": [\n",
      "            \"http://127.0.0.1:8001/api/tags/f3f0af48-fa67-44db-861a-9deb9c67c61e/\",\n",
      "            \"http://127.0.0.1:8001/api/tags/8503b4dd-43ce-4cee-a0bd-fbf5df89bf0d/\",\n",
      "            \"http://127.0.0.1:8001/api/tags/36b8842e-b93d-411d-890c-882e9ef7272e/\"\n",
      "        ],\n",
      "        \"uuid\": \"74955e44-58ae-4d27-aa25-5c90d64316f8\"\n",
      "    },\n",
      "    {\n",
      "        \"name\": \"L1V3_plotting-data-csv.omex\",\n",
      "        \"file\": \"http://127.0.0.1:8001/media/archives/L1V3_plotting-data-csv.omex\",\n",
      "        \"created\": \"2017-11-07T14:07:31.449382Z\",\n",
      "        \"md5\": \"070377b5983257f546a098251714407e\",\n",
      "        \"task_id\": \"\",\n",
      "        \"tags\": [\n",
      "            \"http://127.0.0.1:8001/api/tags/f3f0af48-fa67-44db-861a-9deb9c67c61e/\",\n",
      "            \"http://127.0.0.1:8001/api/tags/8503b4dd-43ce-4cee-a0bd-fbf5df89bf0d/\",\n",
      "            \"http://127.0.0.1:8001/api/tags/36b8842e-b93d-411d-890c-882e9ef7272e/\",\n",
      "            \"http://127.0.0.1:8001/api/tags/dcfc26d5-4a65-412b-9988-59066061252a/\"\n",
      "        ],\n",
      "        \"uuid\": \"31eba525-76e0-4e27-9dc1-89bafa1de501\"\n",
      "    },\n",
      "    {\n",
      "        \"name\": \"L1V3_plotting-data-numl.omex\",\n",
      "        \"file\": \"http://127.0.0.1:8001/media/archives/L1V3_plotting-data-numl.omex\",\n",
      "        \"created\": \"2017-11-07T14:07:31.498512Z\",\n",
      "        \"md5\": \"e7001c63fbabd9886dfbe25fcf2f7a58\",\n",
      "        \"task_id\": \"\",\n",
      "        \"tags\": [\n",
      "            \"http://127.0.0.1:8001/api/tags/f3f0af48-fa67-44db-861a-9deb9c67c61e/\",\n",
      "            \"http://127.0.0.1:8001/api/tags/8503b4dd-43ce-4cee-a0bd-fbf5df89bf0d/\",\n",
      "            \"http://127.0.0.1:8001/api/tags/36b8842e-b93d-411d-890c-882e9ef7272e/\",\n",
      "            \"http://127.0.0.1:8001/api/tags/dcfc26d5-4a65-412b-9988-59066061252a/\"\n",
      "        ],\n",
      "        \"uuid\": \"d6db7582-ab94-4e8e-8d16-5fd04186c596\"\n",
      "    },\n",
      "    {\n",
      "        \"name\": \"L1V3_repeated-scan-oscli.omex\",\n",
      "        \"file\": \"http://127.0.0.1:8001/media/archives/L1V3_repeated-scan-oscli.omex\",\n",
      "        \"created\": \"2017-11-07T14:07:31.540164Z\",\n",
      "        \"md5\": \"0443053bf76ff55261fbc00cc969d03a\",\n",
      "        \"task_id\": \"\",\n",
      "        \"tags\": [\n",
      "            \"http://127.0.0.1:8001/api/tags/f3f0af48-fa67-44db-861a-9deb9c67c61e/\",\n",
      "            \"http://127.0.0.1:8001/api/tags/8503b4dd-43ce-4cee-a0bd-fbf5df89bf0d/\",\n",
      "            \"http://127.0.0.1:8001/api/tags/36b8842e-b93d-411d-890c-882e9ef7272e/\"\n",
      "        ],\n",
      "        \"uuid\": \"181da630-96e7-4c4a-9ad0-6fee07c705bf\"\n",
      "    },\n",
      "    {\n",
      "        \"name\": \"L1V3_repeated-steady-scan-oscli.omex\",\n",
      "        \"file\": \"http://127.0.0.1:8001/media/archives/L1V3_repeated-steady-scan-oscli.omex\",\n",
      "        \"created\": \"2017-11-07T14:07:31.572111Z\",\n",
      "        \"md5\": \"f4b5f8e3f443f59f63f0bea0741c03ab\",\n",
      "        \"task_id\": \"\",\n",
      "        \"tags\": [\n",
      "            \"http://127.0.0.1:8001/api/tags/f3f0af48-fa67-44db-861a-9deb9c67c61e/\",\n",
      "            \"http://127.0.0.1:8001/api/tags/8503b4dd-43ce-4cee-a0bd-fbf5df89bf0d/\",\n",
      "            \"http://127.0.0.1:8001/api/tags/36b8842e-b93d-411d-890c-882e9ef7272e/\"\n",
      "        ],\n",
      "        \"uuid\": \"ce0f0f83-abb2-406d-8eca-ac3f348ba121\"\n",
      "    },\n",
      "    {\n",
      "        \"name\": \"L1V3_repeated-stochastic-runs.omex\",\n",
      "        \"file\": \"http://127.0.0.1:8001/media/archives/L1V3_repeated-stochastic-runs.omex\",\n",
      "        \"created\": \"2017-11-07T14:07:31.604577Z\",\n",
      "        \"md5\": \"76cc799746b32a7c6d2367bf76c17fad\",\n",
      "        \"task_id\": \"\",\n",
      "        \"tags\": [\n",
      "            \"http://127.0.0.1:8001/api/tags/f3f0af48-fa67-44db-861a-9deb9c67c61e/\",\n",
      "            \"http://127.0.0.1:8001/api/tags/8503b4dd-43ce-4cee-a0bd-fbf5df89bf0d/\",\n",
      "            \"http://127.0.0.1:8001/api/tags/36b8842e-b93d-411d-890c-882e9ef7272e/\"\n",
      "        ],\n",
      "        \"uuid\": \"fb939cde-5824-4639-a0b9-03a6d7bd92c8\"\n",
      "    },\n",
      "    {\n",
      "        \"name\": \"L1V3_vanderpol-sbml.omex\",\n",
      "        \"file\": \"http://127.0.0.1:8001/media/archives/L1V3_vanderpol-sbml.omex\",\n",
      "        \"created\": \"2017-11-07T14:07:31.716716Z\",\n",
      "        \"md5\": \"57479e2720cf7f1078697920b4100aed\",\n",
      "        \"task_id\": \"\",\n",
      "        \"tags\": [\n",
      "            \"http://127.0.0.1:8001/api/tags/f3f0af48-fa67-44db-861a-9deb9c67c61e/\",\n",
      "            \"http://127.0.0.1:8001/api/tags/8503b4dd-43ce-4cee-a0bd-fbf5df89bf0d/\",\n",
      "            \"http://127.0.0.1:8001/api/tags/36b8842e-b93d-411d-890c-882e9ef7272e/\"\n",
      "        ],\n",
      "        \"uuid\": \"c41bf5a6-21cb-48d6-a00c-cd4a20c8b636\"\n",
      "    }\n",
      "]\n"
     ]
    }
   ],
   "source": [
    "#search so far by id with foreignkey\n",
    "data = client.action(document,[\"archives\", \"list\"], params={\"tags\":1} )\n",
    "print(json.dumps(data,indent=4))"
   ]
  },
  {
   "cell_type": "code",
   "execution_count": 129,
   "metadata": {},
   "outputs": [
    {
     "name": "stdout",
     "output_type": "stream",
     "text": [
      "[\n",
      "    {\n",
      "        \"name\": \"sbml\",\n",
      "        \"type\": \"format\",\n",
      "        \"uuid\": \"f3f0af48-fa67-44db-861a-9deb9c67c61e\"\n",
      "    },\n",
      "    {\n",
      "        \"name\": \"cellml\",\n",
      "        \"type\": \"format\",\n",
      "        \"uuid\": \"59dafcf2-82c0-4f48-bb4d-3954cacc2b47\"\n",
      "    },\n",
      "    {\n",
      "        \"name\": \"sbgn\",\n",
      "        \"type\": \"format\",\n",
      "        \"uuid\": \"74afbb79-9ba9-4795-9677-0fbfe017ab51\"\n",
      "    },\n",
      "    {\n",
      "        \"name\": \"sed-ml\",\n",
      "        \"type\": \"format\",\n",
      "        \"uuid\": \"8503b4dd-43ce-4cee-a0bd-fbf5df89bf0d\"\n",
      "    }\n",
      "]\n"
     ]
    }
   ],
   "source": [
    "data = client.action(document,[\"tags\", \"list\"], params={\"type\":\"format\"} )\n",
    "print(json.dumps(data,indent=4))"
   ]
  },
  {
   "cell_type": "code",
   "execution_count": 141,
   "metadata": {},
   "outputs": [
    {
     "name": "stdout",
     "output_type": "stream",
     "text": [
      "[\n",
      "    {\n",
      "        \"url\": \"http://127.0.0.1:8001/api/users/1/\",\n",
      "        \"username\": \"janek89\",\n",
      "        \"email\": \"janekg89@hotmail.de\",\n",
      "        \"is_staff\": true\n",
      "    }\n",
      "]\n"
     ]
    }
   ],
   "source": [
    "data = client.action(document,[\"users\", \"list\",], params={\"search\":\"ja\"} )\n",
    "print(json.dumps(data,indent=4))"
   ]
  },
  {
   "cell_type": "code",
   "execution_count": null,
   "metadata": {
    "collapsed": true
   },
   "outputs": [],
   "source": []
  }
 ],
 "metadata": {
  "kernelspec": {
   "display_name": "pkdb",
   "language": "python",
   "name": "pkdb"
  },
  "language_info": {
   "codemirror_mode": {
    "name": "ipython",
    "version": 3
   },
   "file_extension": ".py",
   "mimetype": "text/x-python",
   "name": "python",
   "nbconvert_exporter": "python",
   "pygments_lexer": "ipython3",
   "version": "3.6.5"
  }
 },
 "nbformat": 4,
 "nbformat_minor": 1
}
