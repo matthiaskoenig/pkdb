{
 "cells": [
  {
   "cell_type": "markdown",
   "metadata": {
    "collapsed": true
   },
   "source": [
    "# Api Client\n",
    "The following tutorial demonstarates how to access the api with python"
   ]
  },
  {
   "cell_type": "code",
   "execution_count": 133,
   "metadata": {
    "collapsed": true
   },
   "outputs": [],
   "source": [
    "#import libraries\n",
    "import coreapi\n",
    "import requests\n",
    "import json\n",
    "from pprint import pprint\n",
    "from requests.auth import HTTPBasicAuth\n"
   ]
  },
  {
   "cell_type": "code",
   "execution_count": 134,
   "metadata": {
    "collapsed": true
   },
   "outputs": [],
   "source": [
    "#response = requests.get('http://0.0.0.0:8000/', auth=HTTPBasicAuth('janek', 'test'))"
   ]
  },
  {
   "cell_type": "code",
   "execution_count": 135,
   "metadata": {},
   "outputs": [],
   "source": [
    "#r = requests.post(\"http://0.0.0.0:8000/api-auth/login/?next=/api/v1/\", data={'username': 'janek', 'password': 'test'})\n",
    "#print(r.status_code, r.reason)\n",
    "#r.json()[\"token\"]"
   ]
  },
  {
   "cell_type": "code",
   "execution_count": 136,
   "metadata": {
    "collapsed": true
   },
   "outputs": [],
   "source": [
    "#auth = coreapi.auth.BasicAuthentication(\n",
    "#username=\"janek\",\n",
    "#password=\"test\", )\n",
    "client = coreapi.Client()"
   ]
  },
  {
   "cell_type": "code",
   "execution_count": 137,
   "metadata": {},
   "outputs": [
    {
     "name": "stdout",
     "output_type": "stream",
     "text": [
      "PkBD API\n",
      "http://0.0.0.0:8000/\n"
     ]
    }
   ],
   "source": [
    "# get the api scema\n",
    "document = client.get(\"http://0.0.0.0:8000/\")\n",
    "print(document.title)\n",
    "print(document.url)"
   ]
  },
  {
   "cell_type": "code",
   "execution_count": 138,
   "metadata": {},
   "outputs": [
    {
     "name": "stdout",
     "output_type": "stream",
     "text": [
      "<PkBD API \"http://0.0.0.0:8000/\">\n",
      "    authors: {\n",
      "        list([page], [first_name], [last_name], [search])\n",
      "        create([first_name], [last_name])\n",
      "        read(id, [first_name], [last_name], [search])\n",
      "        update(id, [first_name], [last_name], [first_name], [last_name], [search])\n",
      "        partial_update(id, [first_name], [last_name], [first_name], [last_name], [search])\n",
      "        delete(id, [first_name], [last_name], [search])\n",
      "    }\n",
      "    intervention: {\n",
      "        list([page], [comment], [description], [type], [search])\n",
      "        create(type, [comment], [description], [study])\n",
      "        read(id, [comment], [description], [type], [search])\n",
      "        update(id, type, [comment], [description], [study], [comment], [description], [type], [search])\n",
      "        partial_update(id, [comment], [description], [type], [study], [comment], [description], [type], [search])\n",
      "        delete(id, [comment], [description], [type], [search])\n",
      "    }\n",
      "    studies: {\n",
      "        list([page], [comment], [description], [title], [pmid], [search])\n",
      "        create(title, pmid, authors, [comment], [description], [file])\n",
      "        read(id, [comment], [description], [title], [pmid], [search])\n",
      "        update(id, title, pmid, authors, [comment], [description], [file], [comment], [description], [title], [pmid], [search])\n",
      "        partial_update(id, [comment], [description], [title], [pmid], [authors], [file], [comment], [description], [title], [pmid], [search])\n",
      "        delete(id, [comment], [description], [title], [pmid], [search])\n",
      "    }\n"
     ]
    }
   ],
   "source": [
    "#all options\n",
    "print(document)"
   ]
  },
  {
   "cell_type": "code",
   "execution_count": 139,
   "metadata": {},
   "outputs": [
    {
     "name": "stdout",
     "output_type": "stream",
     "text": [
      "{\n",
      "    \"count\": 44,\n",
      "    \"next\": \"http://0.0.0.0:8000/api/v1/authors/?page=2\",\n",
      "    \"previous\": null,\n",
      "    \"results\": [\n",
      "        {\n",
      "            \"id\": 1,\n",
      "            \"first_name\": \"lucek\",\n",
      "            \"last_name\": \"grzegorzewski\"\n",
      "        },\n",
      "        {\n",
      "            \"id\": 44,\n",
      "            \"first_name\": \"hi\",\n",
      "            \"last_name\": \"test\"\n",
      "        },\n",
      "        {\n",
      "            \"id\": 5,\n",
      "            \"first_name\": \"E\",\n",
      "            \"last_name\": \"Zylber-Katz\"\n",
      "        },\n",
      "        {\n",
      "            \"id\": 6,\n",
      "            \"first_name\": \"L\",\n",
      "            \"last_name\": \"Granit\"\n",
      "        },\n",
      "        {\n",
      "            \"id\": 7,\n",
      "            \"first_name\": \"M\",\n",
      "            \"last_name\": \"Levy\"\n",
      "        },\n",
      "        {\n",
      "            \"id\": 22,\n",
      "            \"first_name\": \"Christine A\",\n",
      "            \"last_name\": \"Haller\"\n",
      "        },\n",
      "        {\n",
      "            \"id\": 23,\n",
      "            \"first_name\": \"Peyton\",\n",
      "            \"last_name\": \"Jacob\"\n",
      "        },\n",
      "        {\n",
      "            \"id\": 24,\n",
      "            \"first_name\": \"Neal L\",\n",
      "            \"last_name\": \"Benowitz\"\n",
      "        },\n",
      "        {\n",
      "            \"id\": 18,\n",
      "            \"first_name\": \"Marika T\",\n",
      "            \"last_name\": \"Granfors\"\n",
      "        },\n",
      "        {\n",
      "            \"id\": 19,\n",
      "            \"first_name\": \"Janne T\",\n",
      "            \"last_name\": \"Backman\"\n",
      "        }\n",
      "    ]\n",
      "}\n"
     ]
    }
   ],
   "source": [
    "#show all authors\n",
    "data = client.action(document,[\"authors\", \"list\"])\n",
    "print(json.dumps(data,indent=4))"
   ]
  },
  {
   "cell_type": "code",
   "execution_count": 140,
   "metadata": {},
   "outputs": [
    {
     "name": "stdout",
     "output_type": "stream",
     "text": [
      "OrderedDict([('id', 1), ('first_name', 'lucek'), ('last_name', 'grzegorzewski')])\n"
     ]
    }
   ],
   "source": [
    "# create author\n",
    "data = client.action(document,[\"authors\", \"create\"], params={'first_name':'lucek', 'last_name':'grzegorzewski'})\n",
    "print(data)"
   ]
  },
  {
   "cell_type": "markdown",
   "metadata": {},
   "source": [
    "## Examples of some querys"
   ]
  },
  {
   "cell_type": "code",
   "execution_count": 141,
   "metadata": {},
   "outputs": [
    {
     "name": "stdout",
     "output_type": "stream",
     "text": [
      "{\n",
      "    \"count\": 1,\n",
      "    \"next\": null,\n",
      "    \"previous\": null,\n",
      "    \"results\": [\n",
      "        {\n",
      "            \"id\": 1,\n",
      "            \"first_name\": \"lucek\",\n",
      "            \"last_name\": \"grzegorzewski\"\n",
      "        }\n",
      "    ]\n",
      "}\n"
     ]
    }
   ],
   "source": [
    "#filter for authors first name = lucek\n",
    "data = client.action(document,[\"authors\", \"list\"], params={\"first_name\":\"lucek\"} )\n",
    "print(json.dumps(data,indent=4))"
   ]
  },
  {
   "cell_type": "code",
   "execution_count": null,
   "metadata": {},
   "outputs": [],
   "source": []
  },
  {
   "cell_type": "code",
   "execution_count": 142,
   "metadata": {},
   "outputs": [
    {
     "name": "stdout",
     "output_type": "stream",
     "text": [
      "{\n",
      "    \"count\": 3,\n",
      "    \"next\": null,\n",
      "    \"previous\": null,\n",
      "    \"results\": [\n",
      "        {\n",
      "            \"id\": 1,\n",
      "            \"first_name\": \"lucek\",\n",
      "            \"last_name\": \"grzegorzewski\"\n",
      "        },\n",
      "        {\n",
      "            \"id\": 6,\n",
      "            \"first_name\": \"L\",\n",
      "            \"last_name\": \"Granit\"\n",
      "        },\n",
      "        {\n",
      "            \"id\": 18,\n",
      "            \"first_name\": \"Marika T\",\n",
      "            \"last_name\": \"Granfors\"\n",
      "        }\n",
      "    ]\n",
      "}\n"
     ]
    }
   ],
   "source": [
    "data = client.action(document,[\"authors\", \"list\",], params={\"search\":\"Gr\"} )\n",
    "print(json.dumps(data,indent=4))"
   ]
  },
  {
   "cell_type": "code",
   "execution_count": 149,
   "metadata": {
    "collapsed": true
   },
   "outputs": [],
   "source": [
    "study_dict = {'title': \"4-quinolones inhibit joiijojiojioijojioji of caffeine.\", \n",
    "              'pmid': '19125908', \n",
    "              'authors':[  \n",
    "                          {'first_name': 'C-Y', 'last_name': 'Fun'}, \n",
    "                          {'first_name': 'Y-L', 'last_name': 'Law'}, \n",
    "                          {'first_name': 'W-M', 'last_name': 'Lim'},\n",
    "                          {'first_name': 'W', 'last_name': 'Fan'}, \n",
    "                          {'first_name': 'C-L', 'last_name': 'Lim'}\n",
    "              ]\n",
    "             }\n",
    "\n"
   ]
  },
  {
   "cell_type": "code",
   "execution_count": 147,
   "metadata": {},
   "outputs": [],
   "source": [
    "for i in range(100):\n",
    "    try: \n",
    "        client.action(document,[\"studies\", \"delete\"], params={'id':i})\n",
    "    except:\n",
    "        pass\n",
    "        "
   ]
  },
  {
   "cell_type": "code",
   "execution_count": 150,
   "metadata": {},
   "outputs": [
    {
     "data": {
      "text/plain": [
       "OrderedDict([('comment', None),\n",
       "             ('description', None),\n",
       "             ('title',\n",
       "              '4-quinolones inhibit joiijojiojioijojioji of caffeine.'),\n",
       "             ('pmid', '19125908'),\n",
       "             ('authors',\n",
       "              [OrderedDict([('id', 39),\n",
       "                            ('first_name', 'C-Y'),\n",
       "                            ('last_name', 'Fun')]),\n",
       "               OrderedDict([('id', 40),\n",
       "                            ('first_name', 'Y-L'),\n",
       "                            ('last_name', 'Law')]),\n",
       "               OrderedDict([('id', 41),\n",
       "                            ('first_name', 'W-M'),\n",
       "                            ('last_name', 'Lim')]),\n",
       "               OrderedDict([('id', 42),\n",
       "                            ('first_name', 'W'),\n",
       "                            ('last_name', 'Fan')]),\n",
       "               OrderedDict([('id', 43),\n",
       "                            ('first_name', 'C-L'),\n",
       "                            ('last_name', 'Lim')])]),\n",
       "             ('file', None)])"
      ]
     },
     "execution_count": 150,
     "metadata": {},
     "output_type": "execute_result"
    }
   ],
   "source": [
    "client.action(document,[\"studies\", \"create\"], params=study_dict)\n"
   ]
  },
  {
   "cell_type": "code",
   "execution_count": null,
   "metadata": {
    "collapsed": true
   },
   "outputs": [],
   "source": []
  }
 ],
 "metadata": {
  "kernelspec": {
   "display_name": "pkdb",
   "language": "python",
   "name": "pkdb"
  },
  "language_info": {
   "codemirror_mode": {
    "name": "ipython",
    "version": 3
   },
   "file_extension": ".py",
   "mimetype": "text/x-python",
   "name": "python",
   "nbconvert_exporter": "python",
   "pygments_lexer": "ipython3",
   "version": "3.6.5"
  }
 },
 "nbformat": 4,
 "nbformat_minor": 1
}
