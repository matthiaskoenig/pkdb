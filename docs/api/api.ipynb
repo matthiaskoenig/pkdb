{
 "cells": [
  {
   "cell_type": "markdown",
   "metadata": {},
   "source": [
    "# API Client\n",
    "The following tutorial demonstrates how to access the PKDB API with python.\n",
    "\n",
    "For more information and installation information see:  \n",
    "https://github.com/matthiaskoenig/pkdb"
   ]
  },
  {
   "cell_type": "code",
   "execution_count": 1,
   "metadata": {},
   "outputs": [],
   "source": [
    "URL_PKDB = \"http://0.0.0.0:8000/\""
   ]
  },
  {
   "cell_type": "code",
   "execution_count": 2,
   "metadata": {
    "collapsed": true
   },
   "outputs": [],
   "source": [
    "# import libraries\n",
    "import coreapi\n",
    "import requests\n",
    "import json\n",
    "from pprint import pprint\n",
    "from requests.auth import HTTPBasicAuth"
   ]
  },
  {
   "cell_type": "code",
   "execution_count": 3,
   "metadata": {
    "collapsed": true
   },
   "outputs": [],
   "source": [
    "#response = requests.get('http://0.0.0.0:8000/', auth=HTTPBasicAuth('janek', 'test'))"
   ]
  },
  {
   "cell_type": "code",
   "execution_count": 4,
   "metadata": {},
   "outputs": [],
   "source": [
    "#r = requests.post(\"http://0.0.0.0:8000/api-auth/login/?next=/api/v1/\", data={'username': 'janek', 'password': 'test'})\n",
    "#print(r.status_code, r.reason)\n",
    "#r.json()[\"token\"]"
   ]
  },
  {
   "cell_type": "markdown",
   "metadata": {},
   "source": [
    "## Create client & API endpoint"
   ]
  },
  {
   "cell_type": "code",
   "execution_count": 5,
   "metadata": {
    "collapsed": true
   },
   "outputs": [],
   "source": [
    "#auth = coreapi.auth.BasicAuthentication(\n",
    "#username=\"janek\",\n",
    "#password=\"test\", )\n",
    "client = coreapi.Client()"
   ]
  },
  {
   "cell_type": "code",
   "execution_count": 6,
   "metadata": {},
   "outputs": [
    {
     "name": "stdout",
     "output_type": "stream",
     "text": [
      "PKDB API\n",
      "http://0.0.0.0:8000/\n"
     ]
    }
   ],
   "source": [
    "# get the api scema\n",
    "document = client.get(URL_PKDB)\n",
    "print(document.title)\n",
    "print(document.url)"
   ]
  },
  {
   "cell_type": "code",
   "execution_count": 7,
   "metadata": {},
   "outputs": [
    {
     "name": "stdout",
     "output_type": "stream",
     "text": [
      "<PKDB API \"http://0.0.0.0:8000/\">\n",
      "    authors: {\n",
      "        list([page], [first_name], [last_name], [search])\n",
      "        create([first_name], [last_name])\n",
      "        read(id, [first_name], [last_name], [search])\n",
      "        update(id, [first_name], [last_name], [first_name], [last_name], [search])\n",
      "        partial_update(id, [first_name], [last_name], [first_name], [last_name], [search])\n",
      "        delete(id, [first_name], [last_name], [search])\n",
      "    }\n",
      "    intervention: {\n",
      "        list([page], [comment], [description], [type], [search])\n",
      "        create(type, [comment], [description], [study])\n",
      "        read(id, [comment], [description], [type], [search])\n",
      "        update(id, type, [comment], [description], [study], [comment], [description], [type], [search])\n",
      "        partial_update(id, [comment], [description], [type], [study], [comment], [description], [type], [search])\n",
      "        delete(id, [comment], [description], [type], [search])\n",
      "    }\n",
      "    studies: {\n",
      "        list([page], [comment], [description], [title], [pmid], [search])\n",
      "        create(title, pmid, authors, [comment], [description], [abstract], [file])\n",
      "        read(id, [comment], [description], [title], [pmid], [search])\n",
      "        update(id, title, pmid, authors, [comment], [description], [abstract], [file], [comment], [description], [title], [pmid], [search])\n",
      "        partial_update(id, [comment], [description], [title], [pmid], [authors], [abstract], [file], [comment], [description], [title], [pmid], [search])\n",
      "        delete(id, [comment], [description], [title], [pmid], [search])\n",
      "    }\n"
     ]
    }
   ],
   "source": [
    "# overview available methods\n",
    "print(document)"
   ]
  },
  {
   "cell_type": "markdown",
   "metadata": {},
   "source": [
    "## Example queries\n",
    "Show all authors"
   ]
  },
  {
   "cell_type": "code",
   "execution_count": 8,
   "metadata": {},
   "outputs": [
    {
     "name": "stdout",
     "output_type": "stream",
     "text": [
      "{\n",
      "  \"count\": 1,\n",
      "  \"next\": null,\n",
      "  \"previous\": null,\n",
      "  \"results\": [\n",
      "    {\n",
      "      \"id\": 1,\n",
      "      \"first_name\": \"Lucek\",\n",
      "      \"last_name\": \"Grzegorzewski\"\n",
      "    }\n",
      "  ]\n",
      "}\n"
     ]
    }
   ],
   "source": [
    "data = client.action(document,[\"authors\", \"list\"])\n",
    "print(json.dumps(data, indent=2))"
   ]
  },
  {
   "cell_type": "markdown",
   "metadata": {},
   "source": [
    "Create author"
   ]
  },
  {
   "cell_type": "code",
   "execution_count": 9,
   "metadata": {},
   "outputs": [
    {
     "name": "stdout",
     "output_type": "stream",
     "text": [
      "OrderedDict([('id', 1), ('first_name', 'Lucek'), ('last_name', 'Grzegorzewski')])\n"
     ]
    }
   ],
   "source": [
    "data = client.action(document,[\"authors\", \"create\"], params={'first_name':'Lucek', 'last_name':'Grzegorzewski'})\n",
    "print(data)"
   ]
  },
  {
   "cell_type": "code",
   "execution_count": 13,
   "metadata": {},
   "outputs": [
    {
     "name": "stdout",
     "output_type": "stream",
     "text": [
      "{\n",
      "  \"count\": 1,\n",
      "  \"next\": null,\n",
      "  \"previous\": null,\n",
      "  \"results\": [\n",
      "    {\n",
      "      \"id\": 1,\n",
      "      \"first_name\": \"Lucek\",\n",
      "      \"last_name\": \"Grzegorzewski\"\n",
      "    }\n",
      "  ]\n",
      "}\n"
     ]
    }
   ],
   "source": [
    "# Filter for authors first name = Lucek\n",
    "data = client.action(document, [\"authors\", \"list\"], params={\"first_name\": \"Lucek\"} )\n",
    "print(json.dumps(data, indent=2))"
   ]
  },
  {
   "cell_type": "code",
   "execution_count": 14,
   "metadata": {},
   "outputs": [
    {
     "name": "stdout",
     "output_type": "stream",
     "text": [
      "{\n",
      "  \"count\": 3,\n",
      "  \"next\": null,\n",
      "  \"previous\": null,\n",
      "  \"results\": [\n",
      "    {\n",
      "      \"id\": 1,\n",
      "      \"first_name\": \"Lucek\",\n",
      "      \"last_name\": \"Grzegorzewski\"\n",
      "    },\n",
      "    {\n",
      "      \"id\": 16,\n",
      "      \"first_name\": \"Marika T\",\n",
      "      \"last_name\": \"Granfors\"\n",
      "    },\n",
      "    {\n",
      "      \"id\": 42,\n",
      "      \"first_name\": \"L\",\n",
      "      \"last_name\": \"Granit\"\n",
      "    }\n",
      "  ]\n",
      "}\n"
     ]
    }
   ],
   "source": [
    "# Search for author\n",
    "data = client.action(document, [\"authors\", \"list\"], params={\"search\": \"Gr\"} )\n",
    "print(json.dumps(data, indent=2))"
   ]
  },
  {
   "cell_type": "code",
   "execution_count": 12,
   "metadata": {
    "collapsed": true
   },
   "outputs": [
    {
     "data": {
      "text/plain": [
       "OrderedDict([('comment', None),\n",
       "             ('description', None),\n",
       "             ('title',\n",
       "              '4-quinolones inhibit joiijojiojioijojioji of caffeine.'),\n",
       "             ('pmid', '19125908'),\n",
       "             ('authors',\n",
       "              [OrderedDict([('id', 2),\n",
       "                            ('first_name', 'C-Y'),\n",
       "                            ('last_name', 'Fun')]),\n",
       "               OrderedDict([('id', 3),\n",
       "                            ('first_name', 'Y-L'),\n",
       "                            ('last_name', 'Law')]),\n",
       "               OrderedDict([('id', 4),\n",
       "                            ('first_name', 'W-M'),\n",
       "                            ('last_name', 'Lim')]),\n",
       "               OrderedDict([('id', 5),\n",
       "                            ('first_name', 'W'),\n",
       "                            ('last_name', 'Fan')]),\n",
       "               OrderedDict([('id', 6),\n",
       "                            ('first_name', 'C-L'),\n",
       "                            ('last_name', 'Lim')])]),\n",
       "             ('abstract', None),\n",
       "             ('file', None)])"
      ]
     },
     "execution_count": 12,
     "metadata": {},
     "output_type": "execute_result"
    }
   ],
   "source": [
    "# Create study\n",
    "study_dict = {\n",
    "    'title': \"4-quinolones inhibit joiijojiojioijojioji of caffeine.\", \n",
    "    'pmid': '19125908', \n",
    "    'authors':[  \n",
    "      {'first_name': 'C-Y', 'last_name': 'Fun'}, \n",
    "      {'first_name': 'Y-L', 'last_name': 'Law'}, \n",
    "      {'first_name': 'W-M', 'last_name': 'Lim'},\n",
    "      {'first_name': 'W', 'last_name': 'Fan'}, \n",
    "      {'first_name': 'C-L', 'last_name': 'Lim'}\n",
    "        \n",
    "    ]\n",
    "}\n",
    "client.action(document,[\"studies\", \"create\"], params=study_dict)"
   ]
  },
  {
   "cell_type": "code",
   "execution_count": null,
   "metadata": {},
   "outputs": [],
   "source": []
  }
 ],
 "metadata": {
  "kernelspec": {
   "display_name": "pkdb",
   "language": "python",
   "name": "pkdb"
  },
  "language_info": {
   "codemirror_mode": {
    "name": "ipython",
    "version": 3
   },
   "file_extension": ".py",
   "mimetype": "text/x-python",
   "name": "python",
   "nbconvert_exporter": "python",
   "pygments_lexer": "ipython3",
   "version": "3.6.5"
  }
 },
 "nbformat": 4,
 "nbformat_minor": 2
}
