{
 "cells": [
  {
   "cell_type": "markdown",
   "metadata": {},
   "source": [
    "# API Client\n",
    "The following tutorial demonstrates how to access the PKDB API with python.\n",
    "\n",
    "For more information and installation information see:  \n",
    "https://github.com/matthiaskoenig/pkdb"
   ]
  },
  {
   "cell_type": "code",
   "execution_count": 1,
   "metadata": {
    "collapsed": true
   },
   "outputs": [],
   "source": [
    "URL_PKDB = \"http://0.0.0.0:8000/\""
   ]
  },
  {
   "cell_type": "code",
   "execution_count": 2,
   "metadata": {
    "collapsed": true
   },
   "outputs": [],
   "source": [
    "# import libraries\n",
    "import coreapi\n",
    "import requests\n",
    "import json\n",
    "from pprint import pprint\n",
    "from requests.auth import HTTPBasicAuth"
   ]
  },
  {
   "cell_type": "code",
   "execution_count": 3,
   "metadata": {
    "collapsed": true
   },
   "outputs": [],
   "source": [
    "#response = requests.get('http://0.0.0.0:8000/', auth=HTTPBasicAuth('janek', 'test'))"
   ]
  },
  {
   "cell_type": "code",
   "execution_count": 4,
   "metadata": {
    "collapsed": true
   },
   "outputs": [],
   "source": [
    "#r = requests.post(\"http://0.0.0.0:8000/api-auth/login/?next=/api/v1/\", data={'username': 'janek', 'password': 'test'})\n",
    "#print(r.status_code, r.reason)\n",
    "#r.json()[\"token\"]"
   ]
  },
  {
   "cell_type": "markdown",
   "metadata": {},
   "source": [
    "## Create client & API endpoint"
   ]
  },
  {
   "cell_type": "code",
   "execution_count": 5,
   "metadata": {
    "collapsed": true
   },
   "outputs": [],
   "source": [
    "#auth = coreapi.auth.BasicAuthentication(\n",
    "#username=\"janek\",\n",
    "#password=\"test\", )\n",
    "client = coreapi.Client()"
   ]
  },
  {
   "cell_type": "code",
   "execution_count": 66,
   "metadata": {},
   "outputs": [
    {
     "name": "stdout",
     "output_type": "stream",
     "text": [
      "PkBD API\n",
      "http://0.0.0.0:8000/\n"
     ]
    }
   ],
   "source": [
    "# get the api scema\n",
    "document = client.get(URL_PKDB)\n",
    "print(document.title)\n",
    "print(document.url)"
   ]
  },
  {
   "cell_type": "code",
   "execution_count": 67,
   "metadata": {},
   "outputs": [
    {
     "name": "stdout",
     "output_type": "stream",
     "text": [
      "<PkBD API \"http://0.0.0.0:8000/\">\n",
      "    authors: {\n",
      "        list([page], [first_name], [last_name], [search])\n",
      "        create([first_name], [last_name])\n",
      "        read(id, [first_name], [last_name], [search])\n",
      "        update(id, [first_name], [last_name], [first_name], [last_name], [search])\n",
      "        partial_update(id, [first_name], [last_name], [first_name], [last_name], [search])\n",
      "        delete(id, [first_name], [last_name], [search])\n",
      "    }\n",
      "    characteristic_values: {\n",
      "        list([page], [choice], [count], [category], [search])\n",
      "        create(count, category, [choice], [value], [mean], [median], [min], [max], [sd], [se], [cv], [unit], [group])\n",
      "        read(id, [choice], [count], [category], [search])\n",
      "        update(id, count, category, [choice], [value], [mean], [median], [min], [max], [sd], [se], [cv], [unit], [group], [choice], [count], [category], [search])\n",
      "        partial_update(id, [choice], [count], [value], [mean], [median], [min], [max], [sd], [se], [cv], [unit], [category], [group], [choice], [count], [category], [search])\n",
      "        delete(id, [choice], [count], [category], [search])\n",
      "    }\n",
      "    groups: {\n",
      "        list([page], [description], [sid], [search])\n",
      "        create(characteristic_values, sid, count, [description])\n",
      "        read(id, [description], [sid], [search])\n",
      "        update(id, characteristic_values, sid, count, [description], [description], [sid], [search])\n",
      "        partial_update(id, [characteristic_values], [sid], [description], [count], [description], [sid], [search])\n",
      "        delete(id, [description], [sid], [search])\n",
      "    }\n",
      "    references: {\n",
      "        list([page], [pmid], [doi], [title], [abstract], [journal], [date], [authors], [search])\n",
      "        create(title, date, authors, [pmid], [sid], [doi], [abstract], [journal], [pdf])\n",
      "        read(id, [pmid], [doi], [title], [abstract], [journal], [date], [authors], [search])\n",
      "        update(id, title, date, authors, [pmid], [sid], [doi], [abstract], [journal], [pdf], [pmid], [doi], [title], [abstract], [journal], [date], [authors], [search])\n",
      "        partial_update(id, [pmid], [sid], [doi], [title], [abstract], [journal], [date], [authors], [pdf], [pmid], [doi], [title], [abstract], [journal], [date], [authors], [search])\n",
      "        delete(id, [pmid], [doi], [title], [abstract], [journal], [date], [authors], [search])\n",
      "    }\n",
      "    studies: {\n",
      "        list([page], [sid], [search])\n",
      "        create(sid, groups, reference, [comment], [description])\n",
      "        read(id, [sid], [search])\n",
      "        update(id, sid, groups, reference, [comment], [description], [sid], [search])\n",
      "        partial_update(id, [sid], [comment], [description], [groups], [reference], [sid], [search])\n",
      "        delete(id, [sid], [search])\n",
      "    }\n"
     ]
    }
   ],
   "source": [
    "# overview available methods\n",
    "print(document)"
   ]
  },
  {
   "cell_type": "markdown",
   "metadata": {},
   "source": [
    "## Example queries\n",
    "Show all authors"
   ]
  },
  {
   "cell_type": "code",
   "execution_count": 8,
   "metadata": {},
   "outputs": [
    {
     "name": "stdout",
     "output_type": "stream",
     "text": [
      "{\n",
      "  \"count\": 0,\n",
      "  \"next\": null,\n",
      "  \"previous\": null,\n",
      "  \"results\": []\n",
      "}\n"
     ]
    }
   ],
   "source": [
    "data = client.action(document,[\"authors\", \"list\"])\n",
    "print(json.dumps(data, indent=2))"
   ]
  },
  {
   "cell_type": "markdown",
   "metadata": {},
   "source": [
    "Create author"
   ]
  },
  {
   "cell_type": "code",
   "execution_count": 32,
   "metadata": {},
   "outputs": [
    {
     "name": "stdout",
     "output_type": "stream",
     "text": [
      "OrderedDict([('id', 1), ('first_name', 'Lucek'), ('last_name', 'Grzegorzewski')])\n"
     ]
    }
   ],
   "source": [
    "data = client.action(document,[\"authors\", \"create\"], params={'first_name':'Lucek', 'last_name':'Grzegorzewski'})\n",
    "print(data)"
   ]
  },
  {
   "cell_type": "code",
   "execution_count": 10,
   "metadata": {},
   "outputs": [
    {
     "name": "stdout",
     "output_type": "stream",
     "text": [
      "{\n",
      "  \"count\": 1,\n",
      "  \"next\": null,\n",
      "  \"previous\": null,\n",
      "  \"results\": [\n",
      "    {\n",
      "      \"id\": 1,\n",
      "      \"first_name\": \"Lucek\",\n",
      "      \"last_name\": \"Grzegorzewski\"\n",
      "    }\n",
      "  ]\n",
      "}\n"
     ]
    }
   ],
   "source": [
    "# Filter for authors first name = Lucek\n",
    "data = client.action(document, [\"authors\", \"list\"], params={\"first_name\": \"Lucek\"} )\n",
    "print(json.dumps(data, indent=2))"
   ]
  },
  {
   "cell_type": "code",
   "execution_count": 26,
   "metadata": {},
   "outputs": [
    {
     "name": "stdout",
     "output_type": "stream",
     "text": [
      "{\n",
      "  \"count\": 1,\n",
      "  \"next\": null,\n",
      "  \"previous\": null,\n",
      "  \"results\": [\n",
      "    {\n",
      "      \"id\": 1,\n",
      "      \"first_name\": \"Lucek\",\n",
      "      \"last_name\": \"Grzegorzewski\"\n",
      "    }\n",
      "  ]\n",
      "}\n"
     ]
    }
   ],
   "source": [
    "# Search for author\n",
    "data = client.action(document, [\"authors\", \"list\"], params={\"search\": \"Gr\"} )\n",
    "print(json.dumps(data, indent=2))\n",
    "import numpy as np"
   ]
  },
  {
   "cell_type": "code",
   "execution_count": 51,
   "metadata": {},
   "outputs": [
    {
     "ename": "ErrorMessage",
     "evalue": "<Error: 400 Bad Request>\n    authors: [\n        {\n            first_name: [\n                \"Ensure this field has no more than 30 characters.\"\n            ]\n        },\n        {},\n        {}\n    ]",
     "output_type": "error",
     "traceback": [
      "\u001b[0;31m---------------------------------------------------------------------------\u001b[0m",
      "\u001b[0;31mErrorMessage\u001b[0m                              Traceback (most recent call last)",
      "\u001b[0;32m<ipython-input-51-05e380c5ea37>\u001b[0m in \u001b[0;36m<module>\u001b[0;34m()\u001b[0m\n\u001b[1;32m     27\u001b[0m \u001b[0;34m\u001b[0m\u001b[0m\n\u001b[1;32m     28\u001b[0m \u001b[0;34m\u001b[0m\u001b[0m\n\u001b[0;32m---> 29\u001b[0;31m \u001b[0mclient\u001b[0m\u001b[0;34m.\u001b[0m\u001b[0maction\u001b[0m\u001b[0;34m(\u001b[0m\u001b[0mdocument\u001b[0m\u001b[0;34m,\u001b[0m \u001b[0;34m[\u001b[0m\u001b[0;34m\"references\"\u001b[0m\u001b[0;34m,\u001b[0m \u001b[0;34m\"create\"\u001b[0m\u001b[0;34m]\u001b[0m\u001b[0;34m,\u001b[0m \u001b[0mparams\u001b[0m\u001b[0;34m=\u001b[0m\u001b[0mreference_dict\u001b[0m\u001b[0;34m)\u001b[0m\u001b[0;34m\u001b[0m\u001b[0m\n\u001b[0m",
      "\u001b[0;32m~/Envs/pkdb/lib/python3.6/site-packages/coreapi/client.py\u001b[0m in \u001b[0;36maction\u001b[0;34m(self, document, keys, params, validate, overrides, action, encoding, transform)\u001b[0m\n\u001b[1;32m    176\u001b[0m         \u001b[0;31m# Perform the action, and return a new document.\u001b[0m\u001b[0;34m\u001b[0m\u001b[0;34m\u001b[0m\u001b[0m\n\u001b[1;32m    177\u001b[0m         \u001b[0mtransport\u001b[0m \u001b[0;34m=\u001b[0m \u001b[0mdetermine_transport\u001b[0m\u001b[0;34m(\u001b[0m\u001b[0mself\u001b[0m\u001b[0;34m.\u001b[0m\u001b[0mtransports\u001b[0m\u001b[0;34m,\u001b[0m \u001b[0mlink\u001b[0m\u001b[0;34m.\u001b[0m\u001b[0murl\u001b[0m\u001b[0;34m)\u001b[0m\u001b[0;34m\u001b[0m\u001b[0m\n\u001b[0;32m--> 178\u001b[0;31m         \u001b[0;32mreturn\u001b[0m \u001b[0mtransport\u001b[0m\u001b[0;34m.\u001b[0m\u001b[0mtransition\u001b[0m\u001b[0;34m(\u001b[0m\u001b[0mlink\u001b[0m\u001b[0;34m,\u001b[0m \u001b[0mself\u001b[0m\u001b[0;34m.\u001b[0m\u001b[0mdecoders\u001b[0m\u001b[0;34m,\u001b[0m \u001b[0mparams\u001b[0m\u001b[0;34m=\u001b[0m\u001b[0mparams\u001b[0m\u001b[0;34m,\u001b[0m \u001b[0mlink_ancestors\u001b[0m\u001b[0;34m=\u001b[0m\u001b[0mlink_ancestors\u001b[0m\u001b[0;34m)\u001b[0m\u001b[0;34m\u001b[0m\u001b[0m\n\u001b[0m",
      "\u001b[0;32m~/Envs/pkdb/lib/python3.6/site-packages/coreapi/transports/http.py\u001b[0m in \u001b[0;36mtransition\u001b[0;34m(self, link, decoders, params, link_ancestors, force_codec)\u001b[0m\n\u001b[1;32m    384\u001b[0m \u001b[0;34m\u001b[0m\u001b[0m\n\u001b[1;32m    385\u001b[0m         \u001b[0;32mif\u001b[0m \u001b[0misinstance\u001b[0m\u001b[0;34m(\u001b[0m\u001b[0mresult\u001b[0m\u001b[0;34m,\u001b[0m \u001b[0mError\u001b[0m\u001b[0;34m)\u001b[0m\u001b[0;34m:\u001b[0m\u001b[0;34m\u001b[0m\u001b[0m\n\u001b[0;32m--> 386\u001b[0;31m             \u001b[0;32mraise\u001b[0m \u001b[0mexceptions\u001b[0m\u001b[0;34m.\u001b[0m\u001b[0mErrorMessage\u001b[0m\u001b[0;34m(\u001b[0m\u001b[0mresult\u001b[0m\u001b[0;34m)\u001b[0m\u001b[0;34m\u001b[0m\u001b[0m\n\u001b[0m\u001b[1;32m    387\u001b[0m \u001b[0;34m\u001b[0m\u001b[0m\n\u001b[1;32m    388\u001b[0m         \u001b[0;32mreturn\u001b[0m \u001b[0mresult\u001b[0m\u001b[0;34m\u001b[0m\u001b[0m\n",
      "\u001b[0;31mErrorMessage\u001b[0m: <Error: 400 Bad Request>\n    authors: [\n        {\n            first_name: [\n                \"Ensure this field has no more than 30 characters.\"\n            ]\n        },\n        {},\n        {}\n    ]"
     ]
    }
   ],
   "source": [
    "# Create study\n",
    "reference_dict = {\n",
    "    \"pmid\": 12087345,\n",
    "    #\"sid\": \"Haller2002\",\n",
    "    \"date\": \"2002-07-16\",\n",
    "    \"journal\": \"Clinical pharmacology and therapeutics\",\n",
    "    \"title\": \"Pharmacology of ephedra alkaloids and caffeine after single-dose dietary supplement use.\",\n",
    "    \"abstract\": \"Botanical stimgle dose.\",\n",
    "    \"authors\": [\n",
    "        {\n",
    "            \"first_name\": \"Christine A Bansakodsfjkopasdfkpodfkanodi asdin\",\n",
    "            \"last_name\": \"Haller\"\n",
    "        },\n",
    "        {\n",
    "            \"first_name\": \"Peyton\",\n",
    "            \"last_name\": \"Jacob\"\n",
    "        },\n",
    "        {\n",
    "            \"first_name\": \"Neal L\",\n",
    "            \"last_name\": \"Benowitz\"\n",
    "        }\n",
    "    ],\n",
    "    \"doi\": \"\",\n",
    "        \n",
    "        }\n",
    "    \n",
    "\n",
    "\n",
    "client.action(document, [\"references\", \"create\"], params=reference_dict)"
   ]
  },
  {
   "cell_type": "code",
   "execution_count": 79,
   "metadata": {},
   "outputs": [],
   "source": [
    "# Create study\n",
    "study_dict = {\n",
    "    \"sid\":\"test\",\n",
    "    \"reference\":12087345,\n",
    "    \"groups\": [\n",
    "        {\n",
    "            \"count\": 14,\n",
    "            \"sid\": \"Seng2009-S_NCNS\",\n",
    "            \"description\": \"59 healthy adult Asian volunteers were included. In what follows, a non-caffeine consumer (NCCS) refers to an individual who consumed beverages\\n(coffee or tea) containing <=200 mg of caffeine per day, and a regular caffeine consumer to one who consumed more >200 mg. A cup (150 mL) of coffee or tea is equivalent to approximately a caffeine dose of 70 and 25 mg respectively (9). Additionally, a non-smoker refers to an individual who did not smoke for at least 6 months prior to dosing. The study population consisted of 14 non-caffeine consumers, non-smokers (NCNS) [age (mean \\u00b1 SD) 21 \\u00b1 2 years, body weight 62 \\u00b1 9 kg), 15 caffeine consumers, non smokers (CNS) (age 24 \\u00b1 4 years, body weight 69 \\u00b1 12 kg), and 30 caffeine consumer, smokers (CS) (actual consumption 10 \\u00b1 4 cigarettes daily, age 23 \\u00b1 5 years, body weight 71 \\u00b1 19 kg).\",\n",
    "            \"characteristic_values\": [\n",
    "                {\n",
    "                    \"count\": 14,\n",
    "                    \"category\": \"sex\",\n",
    "                    \"choice\": \"M\"\n",
    "                },\n",
    "                {\n",
    "                    \"count\": 14,\n",
    "                    \"category\": \"species\",\n",
    "                    \"choice\": \"homo sapiens\"\n",
    "                },\n",
    "                {\n",
    "                    \"category\": \"body_weight\",\n",
    "                    \"count\": 14,\n",
    "                    \"mean\": 62.0,\n",
    "                    \"sd\": 9.0,\n",
    "                    \"unit\": \"kg\"\n",
    "                },\n",
    "                {\n",
    "                    \"count\": 14,\n",
    "                    \"category\": \"ethnicity\",\n",
    "                    \"choice\": \"Asian\"\n",
    "                },\n",
    "        \n",
    "            ]\n",
    "        },\n",
    "        {\n",
    "            \"count\": 15,\n",
    "            \"sid\": \"Seng2009-S_CNS\",\n",
    "            \"description\": \"59 healthy adult Asian volunteers were included. In what follows, a non-caffeine consumer (NCCS) refers to an individual who consumed beverages\\n(coffee or tea) containing <=200 mg of caffeine per day, and a regular caffeine consumer to one who consumed more >200 mg. A cup (150 mL) of coffee or tea is equivalent to approximately a caffeine dose of 70 and 25 mg respectively (9). Additionally, a non-smoker refers to an individual who did not smoke for at least 6 months prior to dosing. The study population consisted of 14 non-caffeine consumers, non-smokers (NCNS) [age (mean \\u00b1 SD) 21 \\u00b1 2 years, body weight 62 \\u00b1 9 kg), 15 caffeine consumers, non smokers (CNS) (age 24 \\u00b1 4 years, body weight 69 \\u00b1 12 kg), and 30 caffeine consumer, smokers (CS) (actual consumption 10 \\u00b1 4 cigarettes daily, age 23 \\u00b1 5 years, body weight 71 \\u00b1 19 kg).\",\n",
    "            \"characteristic_values\": [\n",
    "                {\n",
    "                    \"count\": 15,\n",
    "                    \"category\": \"sex\",\n",
    "                    \"choice\": \"M\"\n",
    "                },\n",
    "                {\n",
    "                    \"count\": 15,\n",
    "                    \"category\": \"species\",\n",
    "                    \"choice\": \"homo sapiens\"\n",
    "                },\n",
    "                {\n",
    "                    \"category\": \"body_weight\",\n",
    "                    \"count\": 15,\n",
    "                    \"mean\": 69.0,\n",
    "                    \"sd\": 12.0,\n",
    "\n",
    "                    \"unit\": \"kg\"\n",
    "                },\n",
    "            ]\n",
    "        },\n",
    "        {\n",
    "            \"count\": 30,\n",
    "            \"sid\": \"Seng2009-S_CS\",\n",
    "            \"description\": \"59 healthy adult Asian volunteers were included. In what follows, a non-caffeine consumer (NCCS) refers to an individual who consumed beverages\\n(coffee or tea) containing <=200 mg of caffeine per day, and a regular caffeine consumer to one who consumed more >200 mg. A cup (150 mL) of coffee or tea is equivalent to approximately a caffeine dose of 70 and 25 mg respectively (9). Additionally, a non-smoker refers to an individual who did not smoke for at least 6 months prior to dosing. The study population consisted of 14 non-caffeine consumers, non-smokers (NCNS) [age (mean \\u00b1 SD) 21 \\u00b1 2 years, body weight 62 \\u00b1 9 kg), 15 caffeine consumers, non smokers (CNS) (age 24 \\u00b1 4 years, body weight 69 \\u00b1 12 kg), and 30 caffeine consumer, smokers (CS) (actual consumption 10 \\u00b1 4 cigarettes daily, age 23 \\u00b1 5 years, body weight 71 \\u00b1 19 kg).\",\n",
    "            \"characteristic_values\": [\n",
    "                {\n",
    "                    \"count\": 30,\n",
    "                    \"category\": \"sex\",\n",
    "                    \"choice\": \"M\"\n",
    "                },\n",
    "                {\n",
    "                    \"count\": 30,\n",
    "                    \"category\": \"species\",\n",
    "                    \"choice\": \"homo sapiens\"\n",
    "                },\n",
    "                {\n",
    "                    \"category\": \"body_weight\",\n",
    "                    \"count\": 30,\n",
    "                    \"mean\": 71.0,\n",
    "                    \"unit\": \"kg\"\n",
    "                },\n",
    "                {\n",
    "                    \"count\": 30,\n",
    "                    \"category\": \"ethnicity\",\n",
    "                    \"choice\": \"Asian\"\n",
    "                },\n",
    "                {\n",
    "                    \"count\": 30,\n",
    "                    \"category\": \"alcohol_abstinence\",\n",
    "                    \"choice\": \"N\"\n",
    "                },\n",
    "\n",
    "            ]\n",
    "        }\n",
    "    ],\n",
    "        \n",
    "        }\n",
    "    \n"
   ]
  },
  {
   "cell_type": "code",
   "execution_count": 80,
   "metadata": {},
   "outputs": [
    {
     "ename": "ErrorMessage",
     "evalue": "<Error: 400 Bad Request>\n    sid: [\n        \"study with this sid already exists.\"\n    ]",
     "output_type": "error",
     "traceback": [
      "\u001b[0;31m---------------------------------------------------------------------------\u001b[0m",
      "\u001b[0;31mErrorMessage\u001b[0m                              Traceback (most recent call last)",
      "\u001b[0;32m<ipython-input-80-7dfee0ca3ab9>\u001b[0m in \u001b[0;36m<module>\u001b[0;34m()\u001b[0m\n\u001b[0;32m----> 1\u001b[0;31m \u001b[0mclient\u001b[0m\u001b[0;34m.\u001b[0m\u001b[0maction\u001b[0m\u001b[0;34m(\u001b[0m\u001b[0mdocument\u001b[0m\u001b[0;34m,\u001b[0m \u001b[0;34m[\u001b[0m\u001b[0;34m\"studies\"\u001b[0m\u001b[0;34m,\u001b[0m \u001b[0;34m\"create\"\u001b[0m\u001b[0;34m]\u001b[0m\u001b[0;34m,\u001b[0m \u001b[0mparams\u001b[0m\u001b[0;34m=\u001b[0m\u001b[0mstudy_dict\u001b[0m\u001b[0;34m)\u001b[0m\u001b[0;34m\u001b[0m\u001b[0m\n\u001b[0m",
      "\u001b[0;32m~/Envs/pkdb/lib/python3.6/site-packages/coreapi/client.py\u001b[0m in \u001b[0;36maction\u001b[0;34m(self, document, keys, params, validate, overrides, action, encoding, transform)\u001b[0m\n\u001b[1;32m    176\u001b[0m         \u001b[0;31m# Perform the action, and return a new document.\u001b[0m\u001b[0;34m\u001b[0m\u001b[0;34m\u001b[0m\u001b[0m\n\u001b[1;32m    177\u001b[0m         \u001b[0mtransport\u001b[0m \u001b[0;34m=\u001b[0m \u001b[0mdetermine_transport\u001b[0m\u001b[0;34m(\u001b[0m\u001b[0mself\u001b[0m\u001b[0;34m.\u001b[0m\u001b[0mtransports\u001b[0m\u001b[0;34m,\u001b[0m \u001b[0mlink\u001b[0m\u001b[0;34m.\u001b[0m\u001b[0murl\u001b[0m\u001b[0;34m)\u001b[0m\u001b[0;34m\u001b[0m\u001b[0m\n\u001b[0;32m--> 178\u001b[0;31m         \u001b[0;32mreturn\u001b[0m \u001b[0mtransport\u001b[0m\u001b[0;34m.\u001b[0m\u001b[0mtransition\u001b[0m\u001b[0;34m(\u001b[0m\u001b[0mlink\u001b[0m\u001b[0;34m,\u001b[0m \u001b[0mself\u001b[0m\u001b[0;34m.\u001b[0m\u001b[0mdecoders\u001b[0m\u001b[0;34m,\u001b[0m \u001b[0mparams\u001b[0m\u001b[0;34m=\u001b[0m\u001b[0mparams\u001b[0m\u001b[0;34m,\u001b[0m \u001b[0mlink_ancestors\u001b[0m\u001b[0;34m=\u001b[0m\u001b[0mlink_ancestors\u001b[0m\u001b[0;34m)\u001b[0m\u001b[0;34m\u001b[0m\u001b[0m\n\u001b[0m",
      "\u001b[0;32m~/Envs/pkdb/lib/python3.6/site-packages/coreapi/transports/http.py\u001b[0m in \u001b[0;36mtransition\u001b[0;34m(self, link, decoders, params, link_ancestors, force_codec)\u001b[0m\n\u001b[1;32m    384\u001b[0m \u001b[0;34m\u001b[0m\u001b[0m\n\u001b[1;32m    385\u001b[0m         \u001b[0;32mif\u001b[0m \u001b[0misinstance\u001b[0m\u001b[0;34m(\u001b[0m\u001b[0mresult\u001b[0m\u001b[0;34m,\u001b[0m \u001b[0mError\u001b[0m\u001b[0;34m)\u001b[0m\u001b[0;34m:\u001b[0m\u001b[0;34m\u001b[0m\u001b[0m\n\u001b[0;32m--> 386\u001b[0;31m             \u001b[0;32mraise\u001b[0m \u001b[0mexceptions\u001b[0m\u001b[0;34m.\u001b[0m\u001b[0mErrorMessage\u001b[0m\u001b[0;34m(\u001b[0m\u001b[0mresult\u001b[0m\u001b[0;34m)\u001b[0m\u001b[0;34m\u001b[0m\u001b[0m\n\u001b[0m\u001b[1;32m    387\u001b[0m \u001b[0;34m\u001b[0m\u001b[0m\n\u001b[1;32m    388\u001b[0m         \u001b[0;32mreturn\u001b[0m \u001b[0mresult\u001b[0m\u001b[0;34m\u001b[0m\u001b[0m\n",
      "\u001b[0;31mErrorMessage\u001b[0m: <Error: 400 Bad Request>\n    sid: [\n        \"study with this sid already exists.\"\n    ]"
     ]
    }
   ],
   "source": [
    "client.action(document, [\"studies\", \"create\"], params=study_dict)"
   ]
  },
  {
   "cell_type": "code",
   "execution_count": 116,
   "metadata": {
    "collapsed": true
   },
   "outputs": [],
   "source": [
    "import json\n",
    "with open('/home/janekg89/Develop/Pycharm_Projects/pkdb/pkdb_app/data/Master/Studies/Kaplan1997/data.json') as f:\n",
    "    data = json.load(f)\n"
   ]
  },
  {
   "cell_type": "code",
   "execution_count": 20,
   "metadata": {},
   "outputs": [
    {
     "data": {
      "text/plain": [
       "OrderedDict([('count', 2),\n",
       "             ('next', None),\n",
       "             ('previous', None),\n",
       "             ('results',\n",
       "              [OrderedDict([('pmid', '12087345'),\n",
       "                            ('sid', 'Haller2002'),\n",
       "                            ('doi', ''),\n",
       "                            ('title',\n",
       "                             'Pharmacology of ephedra alkaloids and caffeine after single-dose dietary supplement use.'),\n",
       "                            ('abstract', 'Botanical stimgle dose.'),\n",
       "                            ('journal',\n",
       "                             'Clinical pharmacology and therapeutics'),\n",
       "                            ('date', '2002-07-16'),\n",
       "                            ('authors', []),\n",
       "                            ('pdf', None)]),\n",
       "               OrderedDict([('pmid', '12087345'),\n",
       "                            ('sid', '12087345'),\n",
       "                            ('doi', ''),\n",
       "                            ('title',\n",
       "                             'Pharmacology of ephedra alkaloids and caffeine after single-dose dietary supplement use.'),\n",
       "                            ('abstract', 'Botanical stimgle dose.'),\n",
       "                            ('journal',\n",
       "                             'Clinical pharmacology and therapeutics'),\n",
       "                            ('date', '2002-07-16'),\n",
       "                            ('authors', []),\n",
       "                            ('pdf', None)])])])"
      ]
     },
     "execution_count": 20,
     "metadata": {},
     "output_type": "execute_result"
    }
   ],
   "source": [
    "client.action(document, [\"references\", \"list\"])"
   ]
  },
  {
   "cell_type": "code",
   "execution_count": 117,
   "metadata": {},
   "outputs": [
    {
     "ename": "ParameterError",
     "evalue": "{'groups': 'This parameter is required.'}",
     "output_type": "error",
     "traceback": [
      "\u001b[0;31m---------------------------------------------------------------------------\u001b[0m",
      "\u001b[0;31mParameterError\u001b[0m                            Traceback (most recent call last)",
      "\u001b[0;32m<ipython-input-117-a27fa3b9d236>\u001b[0m in \u001b[0;36m<module>\u001b[0;34m()\u001b[0m\n\u001b[0;32m----> 1\u001b[0;31m \u001b[0mclient\u001b[0m\u001b[0;34m.\u001b[0m\u001b[0maction\u001b[0m\u001b[0;34m(\u001b[0m\u001b[0mdocument\u001b[0m\u001b[0;34m,\u001b[0m\u001b[0;34m[\u001b[0m\u001b[0;34m\"references\"\u001b[0m\u001b[0;34m,\u001b[0m \u001b[0;34m\"create\"\u001b[0m\u001b[0;34m]\u001b[0m\u001b[0;34m,\u001b[0m \u001b[0mparams\u001b[0m\u001b[0;34m=\u001b[0m\u001b[0mdata\u001b[0m\u001b[0;34m)\u001b[0m\u001b[0;34m\u001b[0m\u001b[0m\n\u001b[0m",
      "\u001b[0;32m~/Envs/pkdb/lib/python3.6/site-packages/coreapi/client.py\u001b[0m in \u001b[0;36maction\u001b[0;34m(self, document, keys, params, validate, overrides, action, encoding, transform)\u001b[0m\n\u001b[1;32m    163\u001b[0m         \u001b[0mlink\u001b[0m\u001b[0;34m,\u001b[0m \u001b[0mlink_ancestors\u001b[0m \u001b[0;34m=\u001b[0m \u001b[0m_lookup_link\u001b[0m\u001b[0;34m(\u001b[0m\u001b[0mdocument\u001b[0m\u001b[0;34m,\u001b[0m \u001b[0mkeys\u001b[0m\u001b[0;34m)\u001b[0m\u001b[0;34m\u001b[0m\u001b[0m\n\u001b[1;32m    164\u001b[0m         \u001b[0;32mif\u001b[0m \u001b[0mvalidate\u001b[0m\u001b[0;34m:\u001b[0m\u001b[0;34m\u001b[0m\u001b[0m\n\u001b[0;32m--> 165\u001b[0;31m             \u001b[0m_validate_parameters\u001b[0m\u001b[0;34m(\u001b[0m\u001b[0mlink\u001b[0m\u001b[0;34m,\u001b[0m \u001b[0mparams\u001b[0m\u001b[0;34m)\u001b[0m\u001b[0;34m\u001b[0m\u001b[0m\n\u001b[0m\u001b[1;32m    166\u001b[0m \u001b[0;34m\u001b[0m\u001b[0m\n\u001b[1;32m    167\u001b[0m         \u001b[0;32mif\u001b[0m \u001b[0moverrides\u001b[0m\u001b[0;34m:\u001b[0m\u001b[0;34m\u001b[0m\u001b[0m\n",
      "\u001b[0;32m~/Envs/pkdb/lib/python3.6/site-packages/coreapi/client.py\u001b[0m in \u001b[0;36m_validate_parameters\u001b[0;34m(link, parameters)\u001b[0m\n\u001b[1;32m     78\u001b[0m \u001b[0;34m\u001b[0m\u001b[0m\n\u001b[1;32m     79\u001b[0m     \u001b[0;32mif\u001b[0m \u001b[0merrors\u001b[0m\u001b[0;34m:\u001b[0m\u001b[0;34m\u001b[0m\u001b[0m\n\u001b[0;32m---> 80\u001b[0;31m         \u001b[0;32mraise\u001b[0m \u001b[0mexceptions\u001b[0m\u001b[0;34m.\u001b[0m\u001b[0mParameterError\u001b[0m\u001b[0;34m(\u001b[0m\u001b[0merrors\u001b[0m\u001b[0;34m)\u001b[0m\u001b[0;34m\u001b[0m\u001b[0m\n\u001b[0m\u001b[1;32m     81\u001b[0m \u001b[0;34m\u001b[0m\u001b[0m\n\u001b[1;32m     82\u001b[0m \u001b[0;34m\u001b[0m\u001b[0m\n",
      "\u001b[0;31mParameterError\u001b[0m: {'groups': 'This parameter is required.'}"
     ]
    }
   ],
   "source": [
    "client.action(document,[\"references\", \"create\"], params=data)"
   ]
  },
  {
   "cell_type": "code",
   "execution_count": 62,
   "metadata": {},
   "outputs": [
    {
     "ename": "ErrorMessage",
     "evalue": "<Error: 400 Bad Request>\n    group: [\n        \"This field is required.\"\n    ]",
     "output_type": "error",
     "traceback": [
      "\u001b[0;31m---------------------------------------------------------------------------\u001b[0m",
      "\u001b[0;31mErrorMessage\u001b[0m                              Traceback (most recent call last)",
      "\u001b[0;32m<ipython-input-62-310c6359c707>\u001b[0m in \u001b[0;36m<module>\u001b[0;34m()\u001b[0m\n\u001b[1;32m     11\u001b[0m                     \u001b[0;34m\"unit\"\u001b[0m\u001b[0;34m:\u001b[0m \u001b[0;32mNone\u001b[0m\u001b[0;34m\u001b[0m\u001b[0m\n\u001b[1;32m     12\u001b[0m                 }\n\u001b[0;32m---> 13\u001b[0;31m \u001b[0mclient\u001b[0m\u001b[0;34m.\u001b[0m\u001b[0maction\u001b[0m\u001b[0;34m(\u001b[0m\u001b[0mdocument\u001b[0m\u001b[0;34m,\u001b[0m\u001b[0;34m[\u001b[0m\u001b[0;34m\"characteristic_values\"\u001b[0m\u001b[0;34m,\u001b[0m \u001b[0;34m\"create\"\u001b[0m\u001b[0;34m]\u001b[0m\u001b[0;34m,\u001b[0m \u001b[0mparams\u001b[0m\u001b[0;34m=\u001b[0m\u001b[0mcharaVal\u001b[0m\u001b[0;34m)\u001b[0m\u001b[0;34m\u001b[0m\u001b[0m\n\u001b[0m",
      "\u001b[0;32m~/Envs/pkdb/lib/python3.6/site-packages/coreapi/client.py\u001b[0m in \u001b[0;36maction\u001b[0;34m(self, document, keys, params, validate, overrides, action, encoding, transform)\u001b[0m\n\u001b[1;32m    176\u001b[0m         \u001b[0;31m# Perform the action, and return a new document.\u001b[0m\u001b[0;34m\u001b[0m\u001b[0;34m\u001b[0m\u001b[0m\n\u001b[1;32m    177\u001b[0m         \u001b[0mtransport\u001b[0m \u001b[0;34m=\u001b[0m \u001b[0mdetermine_transport\u001b[0m\u001b[0;34m(\u001b[0m\u001b[0mself\u001b[0m\u001b[0;34m.\u001b[0m\u001b[0mtransports\u001b[0m\u001b[0;34m,\u001b[0m \u001b[0mlink\u001b[0m\u001b[0;34m.\u001b[0m\u001b[0murl\u001b[0m\u001b[0;34m)\u001b[0m\u001b[0;34m\u001b[0m\u001b[0m\n\u001b[0;32m--> 178\u001b[0;31m         \u001b[0;32mreturn\u001b[0m \u001b[0mtransport\u001b[0m\u001b[0;34m.\u001b[0m\u001b[0mtransition\u001b[0m\u001b[0;34m(\u001b[0m\u001b[0mlink\u001b[0m\u001b[0;34m,\u001b[0m \u001b[0mself\u001b[0m\u001b[0;34m.\u001b[0m\u001b[0mdecoders\u001b[0m\u001b[0;34m,\u001b[0m \u001b[0mparams\u001b[0m\u001b[0;34m=\u001b[0m\u001b[0mparams\u001b[0m\u001b[0;34m,\u001b[0m \u001b[0mlink_ancestors\u001b[0m\u001b[0;34m=\u001b[0m\u001b[0mlink_ancestors\u001b[0m\u001b[0;34m)\u001b[0m\u001b[0;34m\u001b[0m\u001b[0m\n\u001b[0m",
      "\u001b[0;32m~/Envs/pkdb/lib/python3.6/site-packages/coreapi/transports/http.py\u001b[0m in \u001b[0;36mtransition\u001b[0;34m(self, link, decoders, params, link_ancestors, force_codec)\u001b[0m\n\u001b[1;32m    384\u001b[0m \u001b[0;34m\u001b[0m\u001b[0m\n\u001b[1;32m    385\u001b[0m         \u001b[0;32mif\u001b[0m \u001b[0misinstance\u001b[0m\u001b[0;34m(\u001b[0m\u001b[0mresult\u001b[0m\u001b[0;34m,\u001b[0m \u001b[0mError\u001b[0m\u001b[0;34m)\u001b[0m\u001b[0;34m:\u001b[0m\u001b[0;34m\u001b[0m\u001b[0m\n\u001b[0;32m--> 386\u001b[0;31m             \u001b[0;32mraise\u001b[0m \u001b[0mexceptions\u001b[0m\u001b[0;34m.\u001b[0m\u001b[0mErrorMessage\u001b[0m\u001b[0;34m(\u001b[0m\u001b[0mresult\u001b[0m\u001b[0;34m)\u001b[0m\u001b[0;34m\u001b[0m\u001b[0m\n\u001b[0m\u001b[1;32m    387\u001b[0m \u001b[0;34m\u001b[0m\u001b[0m\n\u001b[1;32m    388\u001b[0m         \u001b[0;32mreturn\u001b[0m \u001b[0mresult\u001b[0m\u001b[0;34m\u001b[0m\u001b[0m\n",
      "\u001b[0;31mErrorMessage\u001b[0m: <Error: 400 Bad Request>\n    group: [\n        \"This field is required.\"\n    ]"
     ]
    }
   ],
   "source": [
    "charaVal = {\n",
    "                    \"category\": \"caffeine_amount\",\n",
    "                    \"count\": 8,\n",
    "                    \"mean\": None,\n",
    "                    \"median\": None,\n",
    "                    \"min\": None,\n",
    "                    \"max\": None,\n",
    "                    \"sd\": None,\n",
    "                    \"se\": None,\n",
    "                    \"cv\": None,\n",
    "                    \"unit\": None\n",
    "                }\n",
    "client.action(document,[\"characteristic_values\", \"create\"], params=charaVal)"
   ]
  },
  {
   "cell_type": "code",
   "execution_count": 35,
   "metadata": {},
   "outputs": [
    {
     "data": {
      "text/plain": [
       "{'pmid': 12087345,\n",
       " 'sid': 'Haller2002',\n",
       " 'date': '2002-07-16',\n",
       " 'journal': 'Clinical pharmacology and therapeutics',\n",
       " 'title': 'Pharmacology of ephedra alkaloids and caffeine after single-dose dietary supplement use.',\n",
       " 'abstract': 'Botanical stimulants have disposition characteristics similar to their pharmaceutical counterparts, and they can produce significant cardiovascular responses after a single dose.',\n",
       " 'authors': [{'first_name': 'Christine A', 'last_name': 'Haller'},\n",
       "  {'first_name': 'Peyton', 'last_name': 'Jacob'},\n",
       "  {'first_name': 'Neal L', 'last_name': 'Benowitz'}],\n",
       " 'doi': '',\n",
       " 'groups': [{'count': 8,\n",
       "   'sid': 'Haller2002-S1',\n",
       "   'description': 'Eight healthy volunteers (5 women and 3 men) from 25 to 38 years old participated in the study. Eligibility for the study was determined on the basis of medical history, brief physical examination, and screening laboratory tests that included complete blood count, serum chemistry values to assess liver and renal function, urine toxicology testing for drugs of abuse, and a urine pregnancy test for women. Exclusion criteria included any person with obesity (body mass index 30), or a history of heart, thyroid, liver, kidney, or psychiatric disease, diabetes, central nervous system disorders, prostate hypertrophy, narrow angle glaucoma, or pregnancy or lactation. Any person with recent use (previous 1 month) of any product that contained ephedrine alkaloids or with a history of illicit substance use within the previous year was excluded. Smokers and heavy users of caffeine (4 cups of coffee per day) were excluded. Participants were not taking any medications that would cause changes in heart rate or blood pressure.',\n",
       "   'characteristic_values': [{'count': 8,\n",
       "     'category': 'medication',\n",
       "     'choice': ''},\n",
       "    {'count': 8, 'category': 'overnight_fast', 'choice': ''},\n",
       "    {'count': 8, 'category': 'healthy', 'choice': 'Y'},\n",
       "    {'count': 8, 'category': 'species', 'choice': 'homo sapiens'},\n",
       "    {'count': 8, 'category': 'ethnicity', 'choice': 'NANS'},\n",
       "    {'category': 'height',\n",
       "     'count': 8,\n",
       "     'mean': '',\n",
       "     'median': '',\n",
       "     'min': '',\n",
       "     'max': '',\n",
       "     'sd': '',\n",
       "     'se': '',\n",
       "     'cv': '',\n",
       "     'unit': ''},\n",
       "    {'category': 'waist_circumference',\n",
       "     'count': 8,\n",
       "     'mean': '',\n",
       "     'median': '',\n",
       "     'min': '',\n",
       "     'max': '',\n",
       "     'sd': '',\n",
       "     'se': '',\n",
       "     'cv': '',\n",
       "     'unit': ''},\n",
       "    {'category': 'age',\n",
       "     'count': 8,\n",
       "     'mean': 'NANS',\n",
       "     'median': '',\n",
       "     'min': '25',\n",
       "     'max': '38',\n",
       "     'sd': 'NANS',\n",
       "     'se': 'NANS',\n",
       "     'cv': '',\n",
       "     'unit': 'yr'},\n",
       "    {'category': 'bmi',\n",
       "     'count': 8,\n",
       "     'mean': '',\n",
       "     'median': '',\n",
       "     'min': '',\n",
       "     'max': '',\n",
       "     'sd': '',\n",
       "     'se': '',\n",
       "     'cv': '',\n",
       "     'unit': ''},\n",
       "    {'count': 8, 'category': 'smoking', 'choice': 'N'},\n",
       "    {'category': 'alcohol_amount',\n",
       "     'count': 8,\n",
       "     'mean': '',\n",
       "     'median': '',\n",
       "     'min': '',\n",
       "     'max': '',\n",
       "     'sd': '',\n",
       "     'se': '',\n",
       "     'cv': '',\n",
       "     'unit': ''},\n",
       "    {'count': 8, 'category': 'caffeine', 'choice': ''},\n",
       "    {'count': 8, 'category': 'alcohol_abstinence', 'choice': ''},\n",
       "    {'category': 'body_weight',\n",
       "     'count': 8,\n",
       "     'mean': '68.49',\n",
       "     'median': '',\n",
       "     'min': '',\n",
       "     'max': '88.9',\n",
       "     'sd': '',\n",
       "     'se': 'NANS',\n",
       "     'cv': '',\n",
       "     'unit': 'kg'},\n",
       "    {'category': 'smoking_amount',\n",
       "     'count': 8,\n",
       "     'mean': '',\n",
       "     'median': '',\n",
       "     'min': '',\n",
       "     'max': '',\n",
       "     'sd': '',\n",
       "     'se': '',\n",
       "     'cv': '',\n",
       "     'unit': ''},\n",
       "    {'count': '2', 'category': 'oral_contraceptives', 'choice': 'Y'},\n",
       "    {'count': '5', 'category': 'oral_contraceptives', 'choice': 'N'},\n",
       "    {'count': 8, 'category': 'disease', 'choice': ''},\n",
       "    {'count': 8, 'category': 'alcohol', 'choice': ''},\n",
       "    {'count': '3', 'category': 'sex', 'choice': 'M'},\n",
       "    {'count': '5', 'category': 'sex', 'choice': 'F'},\n",
       "    {'category': 'caffeine_amount',\n",
       "     'count': 8,\n",
       "     'mean': '',\n",
       "     'median': '',\n",
       "     'min': '',\n",
       "     'max': '',\n",
       "     'sd': '',\n",
       "     'se': '',\n",
       "     'cv': '',\n",
       "     'unit': ''}]}]}"
      ]
     },
     "execution_count": 35,
     "metadata": {},
     "output_type": "execute_result"
    }
   ],
   "source": [
    "reference_dict"
   ]
  },
  {
   "cell_type": "code",
   "execution_count": null,
   "metadata": {
    "collapsed": true
   },
   "outputs": [],
   "source": []
  },
  {
   "cell_type": "code",
   "execution_count": 48,
   "metadata": {
    "collapsed": true
   },
   "outputs": [],
   "source": [
    "path =\"/home/janekg89/Develop/Pycharm_Projects/pkdb/pkdb_app/data/caffeine/Subjects.tsv\""
   ]
  },
  {
   "cell_type": "code",
   "execution_count": 53,
   "metadata": {
    "collapsed": true
   },
   "outputs": [],
   "source": [
    "def subjects_load(json_reference):\n",
    "    data_pd = pd.read_csv(path,delimiter='\\t')\n",
    "    this_data = data_pd[data_pd[\"study\"] == json_reference[\"json\"][\"sid\"]]\n",
    "    json = {**json_reference[\"json\"]}\n",
    "    json[\"groups\"] = []\n",
    "    print(len(this_data))\n",
    "    for name, row in this_data.iterrows():\n",
    "        yield {\"json\": json, \"group\": row.to_dict()}# \"reference_path\": json_reference[\"reference_path\"]}"
   ]
  },
  {
   "cell_type": "code",
   "execution_count": 54,
   "metadata": {
    "collapsed": true
   },
   "outputs": [],
   "source": [
    "data = {\"json\" : study_dict }\n",
    "this = subjects_load(data)"
   ]
  },
  {
   "cell_type": "code",
   "execution_count": 55,
   "metadata": {},
   "outputs": [
    {
     "name": "stdout",
     "output_type": "stream",
     "text": [
      "2\n"
     ]
    },
    {
     "data": {
      "text/plain": [
       "{'json': {'pmid': 16198659,\n",
       "  'sid': 'Granfors2005',\n",
       "  'date': '2005-11-02',\n",
       "  'journal': 'Clinical pharmacology and therapeutics',\n",
       "  'title': 'Oral contraceptives containing ethinyl estradiol and gestodene markedly increase plasma concentrations and effects of tizanidine by inhibiting cytochrome P450 1A2.',\n",
       "  'abstract': 'OCs containing ethinyl estradiol and gestodene increase, to a clinically significant extent, the plasma concentrations and effects of tizanidine, probably mainly by inhibiting its CYP1A2-mediated presystemic metabolism. Care should be exercised when tizanidine is prescribed to OC users.',\n",
       "  'groups': [],\n",
       "  'authors': [{'first_name': 'Marika T', 'last_name': 'Granfors'},\n",
       "   {'first_name': 'Janne T', 'last_name': 'Backman'},\n",
       "   {'first_name': 'Jouko', 'last_name': 'Laitila'},\n",
       "   {'first_name': 'Pertti J', 'last_name': 'Neuvonen'}],\n",
       "  'doi': ''},\n",
       " 'group': {'study': 'Granfors2005',\n",
       "  'subjects': 'S1',\n",
       "  'keywords': 'control',\n",
       "  'species': 'homo sapiens',\n",
       "  'strain': '-',\n",
       "  'ethnicity': nan,\n",
       "  'count': 15,\n",
       "  'gender': 'female',\n",
       "  'healthy': 'yes',\n",
       "  'condition': 'healthy',\n",
       "  'alcohol': nan,\n",
       "  'caffeine ': nan,\n",
       "  'smoking': 'no',\n",
       "  'smoking_amount': nan,\n",
       "  'oc': 'no',\n",
       "  'age': 22.0,\n",
       "  'age_sd': 2.0,\n",
       "  'age_sem': nan,\n",
       "  'age_min': 19.0,\n",
       "  'age_max': 26.0,\n",
       "  'age_unit': 'yr',\n",
       "  'bw': 62.0,\n",
       "  'bw_sd': 10.0,\n",
       "  'bw_sem': nan,\n",
       "  'bw_min': 52.0,\n",
       "  'bw_max': 74.0,\n",
       "  'bw_unit': 'kg',\n",
       "  'height': nan,\n",
       "  'height_sd': nan,\n",
       "  'height_se': nan,\n",
       "  'height_min': nan,\n",
       "  'height_max': nan,\n",
       "  'height_unit': nan,\n",
       "  'subjects_details': 'This was an open, parallel-group study with 15 healthy female volunteers (mean age, 22+-2 years [range, 18-25 years]; mean weight, 57+-6 kg [range, 48-63 kg]) using Ocs and 15 healthy female volunteers (mean age, 22+-2 years [range, 19-26 years]; mean weight, 62+-10 kg [range, 52-74 kg]) without any concomitant medication.\\nThere were no statistically significant differences in age or weight between the groups. The combined OCs used by the women in this study contained 75 g gestodene and either 20 g ethinyl estradiol (Harmonet tablet [Wyeth, Newbridge, Ireland], 7 subjects; Meliane tablet [Schering, Berlin, Germany], 5 subjects) or 30 g ethinyl estradiol (Femoden tablet [Schering], 2 subjects; Minulet tablet [Wyeth], 1 subject). The OC users had been using these OC preparations for at least 1 menstrual cycle before the study. Before entering the study, all subjects provided written informed consent and were ascertained to be healthy by medical history, physical examination, and routine laboratory tests. For safety reasons, subjects with a systolic blood pressure lower than 110 mm Hg were excluded from the study. None of the subjects were tobacco smokers, and none used any continuous medication except OCs.'}}"
      ]
     },
     "execution_count": 55,
     "metadata": {},
     "output_type": "execute_result"
    }
   ],
   "source": [
    "next(this)"
   ]
  },
  {
   "cell_type": "code",
   "execution_count": 60,
   "metadata": {},
   "outputs": [
    {
     "data": {
      "text/plain": [
       "True"
      ]
     },
     "execution_count": 60,
     "metadata": {},
     "output_type": "execute_result"
    }
   ],
   "source": [
    "\"33.7\".replace('.','',1).isdigit()"
   ]
  },
  {
   "cell_type": "code",
   "execution_count": null,
   "metadata": {
    "collapsed": true
   },
   "outputs": [],
   "source": []
  }
 ],
 "metadata": {
  "kernelspec": {
   "display_name": "pkdb",
   "language": "python",
   "name": "pkdb"
  },
  "language_info": {
   "codemirror_mode": {
    "name": "ipython",
    "version": 3
   },
   "file_extension": ".py",
   "mimetype": "text/x-python",
   "name": "python",
   "nbconvert_exporter": "python",
   "pygments_lexer": "ipython3",
   "version": "3.6.5"
  }
 },
 "nbformat": 4,
 "nbformat_minor": 2
}
