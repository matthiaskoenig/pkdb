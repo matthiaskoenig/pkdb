{
 "cells": [
  {
   "cell_type": "code",
   "execution_count": 1,
   "metadata": {
    "collapsed": true
   },
   "outputs": [],
   "source": [
    "from itertools import repeat\n",
    "data = {\n",
    "            \"name\": \"D_ENX2\",\n",
    "            \"substance\": \"enoxacin\",\n",
    "            \"time\": \"0||24||48||72\",\n",
    "            \"time_unit\": \"h\",\n",
    "            \"route\": \"oral||bla||hs\",\n",
    "            \"value\": 200.0,\n",
    "            \"unit\": \"mg\"\n",
    "        }"
   ]
  },
  {
   "cell_type": "code",
   "execution_count": 40,
   "metadata": {},
   "outputs": [],
   "source": [
    "def number_characterististica(data):\n",
    "    for key, value in data.items():\n",
    "        values = value.split('||')\n",
    "        \n",
    "        if len(values) > 1:\n",
    "            return len(values)\n",
    "\n",
    "def list_chara(data):\n",
    "    n = number_characterististica(data)\n",
    "    datan = {}\n",
    "    for key, value in data.items():\n",
    "        #if type(value) == str: \n",
    "        try:\n",
    "            values = value.split('||')\n",
    "            values = list(map(str.strip, values))\n",
    "            \n",
    "        except AttributeError:\n",
    "            values = [value]\n",
    "        if len(values) == 1 :\n",
    "            values = values * n\n",
    "            \n",
    "        datan[key] = values\n",
    "    return datan\n",
    "\n"
   ]
  },
  {
   "cell_type": "code",
   "execution_count": 41,
   "metadata": {},
   "outputs": [
    {
     "name": "stdout",
     "output_type": "stream",
     "text": [
      "{'category': 'oral contraceptives', 'choice': '3 Y || 1 N'}\n"
     ]
    },
    {
     "data": {
      "text/plain": [
       "[{'category': 'oral contraceptives', 'choice': '3 Y'},\n",
       " {'category': 'oral contraceptives', 'choice': '1 N'}]"
      ]
     },
     "execution_count": 41,
     "metadata": {},
     "output_type": "execute_result"
    }
   ],
   "source": [
    "import pandas as pd\n",
    "print(data)\n",
    "pd.DataFrame(list_chara(data)).to_dict('records')\n"
   ]
  },
  {
   "cell_type": "code",
   "execution_count": 32,
   "metadata": {
    "collapsed": true
   },
   "outputs": [],
   "source": [
    "data = {\n",
    "                \"category\": \"oral contraceptives\",\n",
    "                \"choice\": \"3 Y || 1 N\"\n",
    "            }"
   ]
  },
  {
   "cell_type": "code",
   "execution_count": 33,
   "metadata": {},
   "outputs": [
    {
     "data": {
      "text/plain": [
       "[{'category': 'oral contraceptives'}, {'category': 'oral contraceptives'}]"
      ]
     },
     "execution_count": 33,
     "metadata": {},
     "output_type": "execute_result"
    }
   ],
   "source": [
    "pd.DataFrame(list_chara(data)).to_dict('records')\n"
   ]
  },
  {
   "cell_type": "code",
   "execution_count": 43,
   "metadata": {},
   "outputs": [
    {
     "data": {
      "text/plain": [
       "{'category': ['oral contraceptives'], 'choice': ['3 Y', '1 N']}"
      ]
     },
     "execution_count": 43,
     "metadata": {},
     "output_type": "execute_result"
    }
   ],
   "source": [
    "list_chara(data)"
   ]
  },
  {
   "cell_type": "code",
   "execution_count": 42,
   "metadata": {
    "collapsed": true
   },
   "outputs": [],
   "source": [
    "        def number_raw(data):\n",
    "            for key, value in data.items():\n",
    "                values = value.split('||')\n",
    "                return len(values)\n",
    "\n",
    "        def list_chara(data):\n",
    "            n = number_raw(data)\n",
    "            data_n = {}\n",
    "            for key, value in data.items():\n",
    "                # if type(value) == str:\n",
    "                try:\n",
    "                    values = value.split('||')\n",
    "                    values = list(map(str.strip, values))\n",
    "                except AttributeError:\n",
    "                    values = [value]\n",
    "                if len(values) == 1:\n",
    "                    values = values * n\n",
    "                data_n[key] = values\n",
    "            return data_n"
   ]
  },
  {
   "cell_type": "code",
   "execution_count": null,
   "metadata": {
    "collapsed": true
   },
   "outputs": [],
   "source": []
  }
 ],
 "metadata": {
  "kernelspec": {
   "display_name": "pkdb-test",
   "language": "python",
   "name": "pkdb-test"
  },
  "language_info": {
   "codemirror_mode": {
    "name": "ipython",
    "version": 3
   },
   "file_extension": ".py",
   "mimetype": "text/x-python",
   "name": "python",
   "nbconvert_exporter": "python",
   "pygments_lexer": "ipython3",
   "version": "3.6.5"
  }
 },
 "nbformat": 4,
 "nbformat_minor": 2
}
