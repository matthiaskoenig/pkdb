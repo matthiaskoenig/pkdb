{
 "cells": [
  {
   "cell_type": "code",
   "execution_count": 1,
   "metadata": {
    "collapsed": true
   },
   "outputs": [],
   "source": [
    "from itertools import repeat\n",
    "data = {\n",
    "            \"name\": \"D_ENX2\",\n",
    "            \"substance\": \"enoxacin\",\n",
    "            \"time\": \"0||24||48||72\",\n",
    "            \"time_unit\": \"h\",\n",
    "            \"route\": \"oral||bla||hs\",\n",
    "            \"value\": 200.0,\n",
    "            \"unit\": \"mg\"\n",
    "        }"
   ]
  },
  {
   "cell_type": "code",
   "execution_count": 40,
   "metadata": {
    "collapsed": true
   },
   "outputs": [],
   "source": [
    "def number_characterististica(data):\n",
    "    for key, value in data.items():\n",
    "        values = value.split('||')\n",
    "        \n",
    "        if len(values) > 1:\n",
    "            return len(values)\n",
    "\n",
    "def list_chara(data):\n",
    "    n = number_characterististica(data)\n",
    "    datan = {}\n",
    "    for key, value in data.items():\n",
    "        #if type(value) == str: \n",
    "        try:\n",
    "            values = value.split('||')\n",
    "            values = list(map(str.strip, values))\n",
    "            \n",
    "        except AttributeError:\n",
    "            values = [value]\n",
    "        if len(values) == 1 :\n",
    "            values = values * n\n",
    "            \n",
    "        datan[key] = values\n",
    "    return datan\n",
    "\n"
   ]
  },
  {
   "cell_type": "code",
   "execution_count": 41,
   "metadata": {},
   "outputs": [
    {
     "name": "stdout",
     "output_type": "stream",
     "text": [
      "{'category': 'oral contraceptives', 'choice': '3 Y || 1 N'}\n"
     ]
    },
    {
     "data": {
      "text/plain": [
       "[{'category': 'oral contraceptives', 'choice': '3 Y'},\n",
       " {'category': 'oral contraceptives', 'choice': '1 N'}]"
      ]
     },
     "execution_count": 41,
     "metadata": {},
     "output_type": "execute_result"
    }
   ],
   "source": [
    "import pandas as pd\n",
    "print(data)\n",
    "pd.DataFrame(list_chara(data)).to_dict('records')\n"
   ]
  },
  {
   "cell_type": "code",
   "execution_count": 32,
   "metadata": {
    "collapsed": true
   },
   "outputs": [],
   "source": [
    "data = {\n",
    "                \"category\": \"oral contraceptives\",\n",
    "                \"choice\": \"3 Y || 1 N\"\n",
    "            }"
   ]
  },
  {
   "cell_type": "code",
   "execution_count": 33,
   "metadata": {},
   "outputs": [
    {
     "data": {
      "text/plain": [
       "[{'category': 'oral contraceptives'}, {'category': 'oral contraceptives'}]"
      ]
     },
     "execution_count": 33,
     "metadata": {},
     "output_type": "execute_result"
    }
   ],
   "source": [
    "pd.DataFrame(list_chara(data)).to_dict('records')\n"
   ]
  },
  {
   "cell_type": "code",
   "execution_count": 43,
   "metadata": {},
   "outputs": [
    {
     "data": {
      "text/plain": [
       "{'category': ['oral contraceptives'], 'choice': ['3 Y', '1 N']}"
      ]
     },
     "execution_count": 43,
     "metadata": {},
     "output_type": "execute_result"
    }
   ],
   "source": [
    "list_chara(data)"
   ]
  },
  {
   "cell_type": "code",
   "execution_count": 42,
   "metadata": {
    "collapsed": true
   },
   "outputs": [],
   "source": [
    "        def number_raw(data):\n",
    "            for key, value in data.items():\n",
    "                values = value.split('||')\n",
    "                return len(values)\n",
    "\n",
    "        def list_chara(data):\n",
    "            n = number_raw(data)\n",
    "            data_n = {}\n",
    "            for key, value in data.items():\n",
    "                # if type(value) == str:\n",
    "                try:\n",
    "                    values = value.split('||')\n",
    "                    values = list(map(str.strip, values))\n",
    "                except AttributeError:\n",
    "                    values = [value]\n",
    "                if len(values) == 1:\n",
    "                    values = values * n\n",
    "                data_n[key] = values\n",
    "            return data_n"
   ]
  },
  {
   "cell_type": "code",
   "execution_count": 22,
   "metadata": {},
   "outputs": [],
   "source": [
    "\n",
    "individuals =  [\n",
    "            {\n",
    "                \"name\": \"col==subject\",\n",
    "                \"group\": \"col==group\",\n",
    "                \"source\": \"/home/janekg89/Develop/Pycharm_Projects/pkdb/data/Master/Studies/Akinyinka2000/Akinyinka2000_Tab1.csv\",\n",
    "                \"format\": \"TSV\",\n",
    "                \"figure\": \"/home/janekg89/Develop/Pycharm_Projects/pkdb/data/Master/Studies/Akinyinka2000/Akinyinka2000_Tab1.png\",\n",
    "                \"characteristica\": [\n",
    "                    {\n",
    "                        \"category\": \"weight\",\n",
    "                        \"value\": \"col==weight\",\n",
    "                        \"unit\": \"kg\"\n",
    "                    },\n",
    "                    {\n",
    "                        \"category\": \"age\",\n",
    "                        \"value\": \"col==age\",\n",
    "                        \"unit\": \"yr\"\n",
    "                    },\n",
    "                    {\n",
    "                        \"category\": \"sex\",\n",
    "                        \"choice\": \"col==sex\"\n",
    "                    }\n",
    "                ]}]"
   ]
  },
  {
   "cell_type": "code",
   "execution_count": 27,
   "metadata": {},
   "outputs": [],
   "source": [
    "import pandas as pd\n",
    "import copy\n",
    "def mapping_parser(mapping,table):\n",
    "\n",
    "    resulting_keys = []\n",
    "    mapping[]\n",
    "    for key, value in mapping.items():\n",
    "        if \"==\" in value:\n",
    "            values = value.split(\"==\")\n",
    "            if not values[0].strip() == \"col\":\n",
    "                raise Exception(f\"Value provided does not match pattern 'col==<file_mapping>', with key:{key} and  value:{values}\")\n",
    "            resulting_keys.append(values[1].strip())\n",
    "\n",
    "\n",
    "        else:\n",
    "            table[key] = value\n",
    "            resulting_keys.append(key)\n",
    "\n",
    "    #resulting_data = table[resulting_keys].to_dict(\"records\")\n",
    "    #return resulting_data\n",
    "    print(table)\n",
    "    return table[resulting_keys]\n",
    "\n"
   ]
  },
  {
   "cell_type": "code",
   "execution_count": null,
   "metadata": {
    "collapsed": true
   },
   "outputs": [],
   "source": []
  },
  {
   "cell_type": "code",
   "execution_count": null,
   "metadata": {
    "collapsed": true
   },
   "outputs": [],
   "source": [
    "def mapping_parser(mapping,table):\n",
    "    category = mapping[\"category\"]\n",
    "    value"
   ]
  },
  {
   "cell_type": "code",
   "execution_count": 28,
   "metadata": {},
   "outputs": [
    {
     "name": "stdout",
     "output_type": "stream",
     "text": [
      "            study subject   status  age gender  weight  t_half    AUC  px_caf  \\\n",
      "0   Akinyinka2000      1C  control   40      M      60     5.7   47.8    0.60   \n",
      "1   Akinyinka2000      2C  control   28      M      38     7.0   76.2    0.54   \n",
      "2   Akinyinka2000      3C  control   39      M      68     8.5   69.1    0.25   \n",
      "3   Akinyinka2000      4C  control   42      M      82     4.1   19.5    0.53   \n",
      "4   Akinyinka2000      5C  control   37      F      56    14.8   96.3    0.30   \n",
      "5   Akinyinka2000      6C  control   23      M      52    10.0   86.7    0.33   \n",
      "6   Akinyinka2000      7C  control   33      M      54     7.4   28.2    0.43   \n",
      "7   Akinyinka2000      8C  control   18      M      56     4.2   47.3    0.63   \n",
      "8   Akinyinka2000      9C  control   29      M      58     6.6   43.2    0.62   \n",
      "9   Akinyinka2000     10C  control   32      M      74     4.0   42.0    0.53   \n",
      "10  Akinyinka2000      1M  malaria   15      M      58     7.1   51.6    0.42   \n",
      "11  Akinyinka2000      2M  malaria   16      M      44     6.0   66.4    0.41   \n",
      "12  Akinyinka2000      3M  malaria   17      F      75    24.4  150.6    0.13   \n",
      "13  Akinyinka2000      4M  malaria   18      M      46     7.3   45.7    0.52   \n",
      "14  Akinyinka2000      5M  malaria   12      F      25     8.5   25.1    0.18   \n",
      "15  Akinyinka2000      6M  malaria   18      M      58     5.5   25.8    0.35   \n",
      "16  Akinyinka2000      7M  malaria   15      F      35     8.2   64.9    0.55   \n",
      "17  Akinyinka2000      8M  malaria   20      F      45     8.0   88.4    0.49   \n",
      "18  Akinyinka2000      9M  malaria   15      F      35     9.7  102.1    0.10   \n",
      "19  Akinyinka2000     10M  malaria   12      M      32    10.2  126.3    0.22   \n",
      "\n",
      "      Cl     T parasite_counts category unit  \n",
      "0   1.74    NA              NA   weight   kg  \n",
      "1   1.29    NA              NA   weight   kg  \n",
      "2   1.06    NA              NA   weight   kg  \n",
      "3   3.12    NA              NA   weight   kg  \n",
      "4   0.95    NA              NA   weight   kg  \n",
      "5   1.11    NA              NA   weight   kg  \n",
      "6   3.27    NA              NA   weight   kg  \n",
      "7   1.89    NA              NA   weight   kg  \n",
      "8   2.00    NA              NA   weight   kg  \n",
      "9   2.05    NA              NA   weight   kg  \n",
      "10  1.67  37.6             8.8   weight   kg  \n",
      "11  1.71  39.1           109.1   weight   kg  \n",
      "12  0.44  39.7            65.6   weight   kg  \n",
      "13  2.38  37.2            29.3   weight   kg  \n",
      "14  7.97  38.5           180.0   weight   kg  \n",
      "15  3.34  36.6          1382.7   weight   kg  \n",
      "16  2.20  38.4            95.6   weight   kg  \n",
      "17  1.26  37.8            33.4   weight   kg  \n",
      "18  1.40  38.4            65.1   weight   kg  \n",
      "19  1.24  38.0            56.5   weight   kg  \n",
      "            study subject   status  age gender  weight  t_half    AUC  px_caf  \\\n",
      "0   Akinyinka2000      1C  control   40      M      60     5.7   47.8    0.60   \n",
      "1   Akinyinka2000      2C  control   28      M      38     7.0   76.2    0.54   \n",
      "2   Akinyinka2000      3C  control   39      M      68     8.5   69.1    0.25   \n",
      "3   Akinyinka2000      4C  control   42      M      82     4.1   19.5    0.53   \n",
      "4   Akinyinka2000      5C  control   37      F      56    14.8   96.3    0.30   \n",
      "5   Akinyinka2000      6C  control   23      M      52    10.0   86.7    0.33   \n",
      "6   Akinyinka2000      7C  control   33      M      54     7.4   28.2    0.43   \n",
      "7   Akinyinka2000      8C  control   18      M      56     4.2   47.3    0.63   \n",
      "8   Akinyinka2000      9C  control   29      M      58     6.6   43.2    0.62   \n",
      "9   Akinyinka2000     10C  control   32      M      74     4.0   42.0    0.53   \n",
      "10  Akinyinka2000      1M  malaria   15      M      58     7.1   51.6    0.42   \n",
      "11  Akinyinka2000      2M  malaria   16      M      44     6.0   66.4    0.41   \n",
      "12  Akinyinka2000      3M  malaria   17      F      75    24.4  150.6    0.13   \n",
      "13  Akinyinka2000      4M  malaria   18      M      46     7.3   45.7    0.52   \n",
      "14  Akinyinka2000      5M  malaria   12      F      25     8.5   25.1    0.18   \n",
      "15  Akinyinka2000      6M  malaria   18      M      58     5.5   25.8    0.35   \n",
      "16  Akinyinka2000      7M  malaria   15      F      35     8.2   64.9    0.55   \n",
      "17  Akinyinka2000      8M  malaria   20      F      45     8.0   88.4    0.49   \n",
      "18  Akinyinka2000      9M  malaria   15      F      35     9.7  102.1    0.10   \n",
      "19  Akinyinka2000     10M  malaria   12      M      32    10.2  126.3    0.22   \n",
      "\n",
      "      Cl     T parasite_counts category unit  \n",
      "0   1.74    NA              NA      age   yr  \n",
      "1   1.29    NA              NA      age   yr  \n",
      "2   1.06    NA              NA      age   yr  \n",
      "3   3.12    NA              NA      age   yr  \n",
      "4   0.95    NA              NA      age   yr  \n",
      "5   1.11    NA              NA      age   yr  \n",
      "6   3.27    NA              NA      age   yr  \n",
      "7   1.89    NA              NA      age   yr  \n",
      "8   2.00    NA              NA      age   yr  \n",
      "9   2.05    NA              NA      age   yr  \n",
      "10  1.67  37.6             8.8      age   yr  \n",
      "11  1.71  39.1           109.1      age   yr  \n",
      "12  0.44  39.7            65.6      age   yr  \n",
      "13  2.38  37.2            29.3      age   yr  \n",
      "14  7.97  38.5           180.0      age   yr  \n",
      "15  3.34  36.6          1382.7      age   yr  \n",
      "16  2.20  38.4            95.6      age   yr  \n",
      "17  1.26  37.8            33.4      age   yr  \n",
      "18  1.40  38.4            65.1      age   yr  \n",
      "19  1.24  38.0            56.5      age   yr  \n",
      "            study subject   status  age gender  weight  t_half    AUC  px_caf  \\\n",
      "0   Akinyinka2000      1C  control   40      M      60     5.7   47.8    0.60   \n",
      "1   Akinyinka2000      2C  control   28      M      38     7.0   76.2    0.54   \n",
      "2   Akinyinka2000      3C  control   39      M      68     8.5   69.1    0.25   \n",
      "3   Akinyinka2000      4C  control   42      M      82     4.1   19.5    0.53   \n",
      "4   Akinyinka2000      5C  control   37      F      56    14.8   96.3    0.30   \n",
      "5   Akinyinka2000      6C  control   23      M      52    10.0   86.7    0.33   \n",
      "6   Akinyinka2000      7C  control   33      M      54     7.4   28.2    0.43   \n",
      "7   Akinyinka2000      8C  control   18      M      56     4.2   47.3    0.63   \n",
      "8   Akinyinka2000      9C  control   29      M      58     6.6   43.2    0.62   \n",
      "9   Akinyinka2000     10C  control   32      M      74     4.0   42.0    0.53   \n",
      "10  Akinyinka2000      1M  malaria   15      M      58     7.1   51.6    0.42   \n",
      "11  Akinyinka2000      2M  malaria   16      M      44     6.0   66.4    0.41   \n",
      "12  Akinyinka2000      3M  malaria   17      F      75    24.4  150.6    0.13   \n",
      "13  Akinyinka2000      4M  malaria   18      M      46     7.3   45.7    0.52   \n",
      "14  Akinyinka2000      5M  malaria   12      F      25     8.5   25.1    0.18   \n",
      "15  Akinyinka2000      6M  malaria   18      M      58     5.5   25.8    0.35   \n",
      "16  Akinyinka2000      7M  malaria   15      F      35     8.2   64.9    0.55   \n",
      "17  Akinyinka2000      8M  malaria   20      F      45     8.0   88.4    0.49   \n",
      "18  Akinyinka2000      9M  malaria   15      F      35     9.7  102.1    0.10   \n",
      "19  Akinyinka2000     10M  malaria   12      M      32    10.2  126.3    0.22   \n",
      "\n",
      "      Cl     T parasite_counts category unit  \n",
      "0   1.74    NA              NA      sex   yr  \n",
      "1   1.29    NA              NA      sex   yr  \n",
      "2   1.06    NA              NA      sex   yr  \n",
      "3   3.12    NA              NA      sex   yr  \n",
      "4   0.95    NA              NA      sex   yr  \n",
      "5   1.11    NA              NA      sex   yr  \n",
      "6   3.27    NA              NA      sex   yr  \n",
      "7   1.89    NA              NA      sex   yr  \n",
      "8   2.00    NA              NA      sex   yr  \n",
      "9   2.05    NA              NA      sex   yr  \n",
      "10  1.67  37.6             8.8      sex   yr  \n",
      "11  1.71  39.1           109.1      sex   yr  \n",
      "12  0.44  39.7            65.6      sex   yr  \n",
      "13  2.38  37.2            29.3      sex   yr  \n",
      "14  7.97  38.5           180.0      sex   yr  \n",
      "15  3.34  36.6          1382.7      sex   yr  \n",
      "16  2.20  38.4            95.6      sex   yr  \n",
      "17  1.26  37.8            33.4      sex   yr  \n",
      "18  1.40  38.4            65.1      sex   yr  \n",
      "19  1.24  38.0            56.5      sex   yr  \n"
     ]
    },
    {
     "ename": "KeyError",
     "evalue": "\"['sex'] not in index\"",
     "output_type": "error",
     "traceback": [
      "\u001b[0;31m---------------------------------------------------------------------------\u001b[0m",
      "\u001b[0;31mKeyError\u001b[0m                                  Traceback (most recent call last)",
      "\u001b[0;32m<ipython-input-28-a61cee130098>\u001b[0m in \u001b[0;36m<module>\u001b[0;34m()\u001b[0m\n\u001b[1;32m      8\u001b[0m     \u001b[0mtable\u001b[0m \u001b[0;34m=\u001b[0m \u001b[0mpd\u001b[0m\u001b[0;34m.\u001b[0m\u001b[0mread_csv\u001b[0m\u001b[0;34m(\u001b[0m\u001b[0msrc\u001b[0m\u001b[0;34m,\u001b[0m \u001b[0mdelimiter\u001b[0m\u001b[0;34m=\u001b[0m\u001b[0mdelimiter\u001b[0m\u001b[0;34m,\u001b[0m \u001b[0mkeep_default_na\u001b[0m\u001b[0;34m=\u001b[0m\u001b[0;32mFalse\u001b[0m\u001b[0;34m)\u001b[0m\u001b[0;34m\u001b[0m\u001b[0m\n\u001b[1;32m      9\u001b[0m     \u001b[0;32mfor\u001b[0m \u001b[0mcharacteristica_single_mapping\u001b[0m \u001b[0;32min\u001b[0m \u001b[0mcharacteristica_mapping\u001b[0m\u001b[0;34m:\u001b[0m\u001b[0;34m\u001b[0m\u001b[0m\n\u001b[0;32m---> 10\u001b[0;31m         \u001b[0mcharacteristica_table\u001b[0m \u001b[0;34m=\u001b[0m \u001b[0mmapping_parser\u001b[0m\u001b[0;34m(\u001b[0m\u001b[0mcharacteristica_single_mapping\u001b[0m\u001b[0;34m,\u001b[0m\u001b[0mtable\u001b[0m\u001b[0;34m)\u001b[0m\u001b[0;34m\u001b[0m\u001b[0m\n\u001b[0m\u001b[1;32m     11\u001b[0m     \u001b[0;31m#individuals_table = mapping_parser(individual_mapping,table)\u001b[0m\u001b[0;34m\u001b[0m\u001b[0;34m\u001b[0m\u001b[0m\n\u001b[1;32m     12\u001b[0m     \u001b[0;31m#individuals_table[\"characteristica\"] = characteristica_table.to_dict('records')\u001b[0m\u001b[0;34m\u001b[0m\u001b[0;34m\u001b[0m\u001b[0m\n",
      "\u001b[0;32m<ipython-input-27-a0db80671978>\u001b[0m in \u001b[0;36mmapping_parser\u001b[0;34m(mapping, table)\u001b[0m\n\u001b[1;32m     19\u001b[0m     \u001b[0;31m#return resulting_data\u001b[0m\u001b[0;34m\u001b[0m\u001b[0;34m\u001b[0m\u001b[0m\n\u001b[1;32m     20\u001b[0m     \u001b[0mprint\u001b[0m\u001b[0;34m(\u001b[0m\u001b[0mtable\u001b[0m\u001b[0;34m)\u001b[0m\u001b[0;34m\u001b[0m\u001b[0m\n\u001b[0;32m---> 21\u001b[0;31m     \u001b[0;32mreturn\u001b[0m \u001b[0mtable\u001b[0m\u001b[0;34m[\u001b[0m\u001b[0mresulting_keys\u001b[0m\u001b[0;34m]\u001b[0m\u001b[0;34m\u001b[0m\u001b[0m\n\u001b[0m",
      "\u001b[0;32m~/Envs/pkdb/lib/python3.6/site-packages/pandas/core/frame.py\u001b[0m in \u001b[0;36m__getitem__\u001b[0;34m(self, key)\u001b[0m\n\u001b[1;32m   2680\u001b[0m         \u001b[0;32mif\u001b[0m \u001b[0misinstance\u001b[0m\u001b[0;34m(\u001b[0m\u001b[0mkey\u001b[0m\u001b[0;34m,\u001b[0m \u001b[0;34m(\u001b[0m\u001b[0mSeries\u001b[0m\u001b[0;34m,\u001b[0m \u001b[0mnp\u001b[0m\u001b[0;34m.\u001b[0m\u001b[0mndarray\u001b[0m\u001b[0;34m,\u001b[0m \u001b[0mIndex\u001b[0m\u001b[0;34m,\u001b[0m \u001b[0mlist\u001b[0m\u001b[0;34m)\u001b[0m\u001b[0;34m)\u001b[0m\u001b[0;34m:\u001b[0m\u001b[0;34m\u001b[0m\u001b[0m\n\u001b[1;32m   2681\u001b[0m             \u001b[0;31m# either boolean or fancy integer index\u001b[0m\u001b[0;34m\u001b[0m\u001b[0;34m\u001b[0m\u001b[0m\n\u001b[0;32m-> 2682\u001b[0;31m             \u001b[0;32mreturn\u001b[0m \u001b[0mself\u001b[0m\u001b[0;34m.\u001b[0m\u001b[0m_getitem_array\u001b[0m\u001b[0;34m(\u001b[0m\u001b[0mkey\u001b[0m\u001b[0;34m)\u001b[0m\u001b[0;34m\u001b[0m\u001b[0m\n\u001b[0m\u001b[1;32m   2683\u001b[0m         \u001b[0;32melif\u001b[0m \u001b[0misinstance\u001b[0m\u001b[0;34m(\u001b[0m\u001b[0mkey\u001b[0m\u001b[0;34m,\u001b[0m \u001b[0mDataFrame\u001b[0m\u001b[0;34m)\u001b[0m\u001b[0;34m:\u001b[0m\u001b[0;34m\u001b[0m\u001b[0m\n\u001b[1;32m   2684\u001b[0m             \u001b[0;32mreturn\u001b[0m \u001b[0mself\u001b[0m\u001b[0;34m.\u001b[0m\u001b[0m_getitem_frame\u001b[0m\u001b[0;34m(\u001b[0m\u001b[0mkey\u001b[0m\u001b[0;34m)\u001b[0m\u001b[0;34m\u001b[0m\u001b[0m\n",
      "\u001b[0;32m~/Envs/pkdb/lib/python3.6/site-packages/pandas/core/frame.py\u001b[0m in \u001b[0;36m_getitem_array\u001b[0;34m(self, key)\u001b[0m\n\u001b[1;32m   2724\u001b[0m             \u001b[0;32mreturn\u001b[0m \u001b[0mself\u001b[0m\u001b[0;34m.\u001b[0m\u001b[0m_take\u001b[0m\u001b[0;34m(\u001b[0m\u001b[0mindexer\u001b[0m\u001b[0;34m,\u001b[0m \u001b[0maxis\u001b[0m\u001b[0;34m=\u001b[0m\u001b[0;36m0\u001b[0m\u001b[0;34m)\u001b[0m\u001b[0;34m\u001b[0m\u001b[0m\n\u001b[1;32m   2725\u001b[0m         \u001b[0;32melse\u001b[0m\u001b[0;34m:\u001b[0m\u001b[0;34m\u001b[0m\u001b[0m\n\u001b[0;32m-> 2726\u001b[0;31m             \u001b[0mindexer\u001b[0m \u001b[0;34m=\u001b[0m \u001b[0mself\u001b[0m\u001b[0;34m.\u001b[0m\u001b[0mloc\u001b[0m\u001b[0;34m.\u001b[0m\u001b[0m_convert_to_indexer\u001b[0m\u001b[0;34m(\u001b[0m\u001b[0mkey\u001b[0m\u001b[0;34m,\u001b[0m \u001b[0maxis\u001b[0m\u001b[0;34m=\u001b[0m\u001b[0;36m1\u001b[0m\u001b[0;34m)\u001b[0m\u001b[0;34m\u001b[0m\u001b[0m\n\u001b[0m\u001b[1;32m   2727\u001b[0m             \u001b[0;32mreturn\u001b[0m \u001b[0mself\u001b[0m\u001b[0;34m.\u001b[0m\u001b[0m_take\u001b[0m\u001b[0;34m(\u001b[0m\u001b[0mindexer\u001b[0m\u001b[0;34m,\u001b[0m \u001b[0maxis\u001b[0m\u001b[0;34m=\u001b[0m\u001b[0;36m1\u001b[0m\u001b[0;34m)\u001b[0m\u001b[0;34m\u001b[0m\u001b[0m\n\u001b[1;32m   2728\u001b[0m \u001b[0;34m\u001b[0m\u001b[0m\n",
      "\u001b[0;32m~/Envs/pkdb/lib/python3.6/site-packages/pandas/core/indexing.py\u001b[0m in \u001b[0;36m_convert_to_indexer\u001b[0;34m(self, obj, axis, is_setter)\u001b[0m\n\u001b[1;32m   1325\u001b[0m                 \u001b[0;32mif\u001b[0m \u001b[0mmask\u001b[0m\u001b[0;34m.\u001b[0m\u001b[0many\u001b[0m\u001b[0;34m(\u001b[0m\u001b[0;34m)\u001b[0m\u001b[0;34m:\u001b[0m\u001b[0;34m\u001b[0m\u001b[0m\n\u001b[1;32m   1326\u001b[0m                     raise KeyError('{mask} not in index'\n\u001b[0;32m-> 1327\u001b[0;31m                                    .format(mask=objarr[mask]))\n\u001b[0m\u001b[1;32m   1328\u001b[0m \u001b[0;34m\u001b[0m\u001b[0m\n\u001b[1;32m   1329\u001b[0m                 \u001b[0;32mreturn\u001b[0m \u001b[0mcom\u001b[0m\u001b[0;34m.\u001b[0m\u001b[0m_values_from_object\u001b[0m\u001b[0;34m(\u001b[0m\u001b[0mindexer\u001b[0m\u001b[0;34m)\u001b[0m\u001b[0;34m\u001b[0m\u001b[0m\n",
      "\u001b[0;31mKeyError\u001b[0m: \"['sex'] not in index\""
     ]
    }
   ],
   "source": [
    "unpacked_individuals = []\n",
    "ind =copy.deepcopy(individuals)\n",
    "for individual in ind:\n",
    "    src =  individual.pop(\"source\")  # todo: upload data first and then have the data saved here not the path.\n",
    "    characteristica_mapping =  individual.pop(\"characteristica\")\n",
    "    delimiter = \"\\t\"\n",
    "    individual_mapping =  individual\n",
    "    table = pd.read_csv(src, delimiter=delimiter, keep_default_na=False)\n",
    "    for characteristica_single_mapping in characteristica_mapping:\n",
    "        characteristica_table = mapping_parser(characteristica_single_mapping,table)\n",
    "    #individuals_table = mapping_parser(individual_mapping,table)\n",
    "    #individuals_table[\"characteristica\"] = characteristica_table.to_dict('records')\n",
    "    #unpacked_individuals += individuals_table.to_dict('recods')"
   ]
  },
  {
   "cell_type": "code",
   "execution_count": null,
   "metadata": {
    "collapsed": true
   },
   "outputs": [],
   "source": []
  }
 ],
 "metadata": {
  "kernelspec": {
   "display_name": "pkdb",
   "language": "python",
   "name": "pkdb"
  },
  "language_info": {
   "codemirror_mode": {
    "name": "ipython",
    "version": 3
   },
   "file_extension": ".py",
   "mimetype": "text/x-python",
   "name": "python",
   "nbconvert_exporter": "python",
   "pygments_lexer": "ipython3",
   "version": "3.6.5"
  }
 },
 "nbformat": 4,
 "nbformat_minor": 2
}
