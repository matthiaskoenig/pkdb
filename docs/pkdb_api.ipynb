{
 "cells": [
  {
   "cell_type": "markdown",
   "metadata": {
    "jupyter": {
     "outputs_hidden": true
    },
    "pycharm": {
     "name": "#%% md\n"
    }
   },
   "source": [
    "# PKDB-REST API\n",
    "This notebook provides simple examples querying data from PK-DB.\n",
    "The API documentation is available from https://pk-db.com/api/v1/swagger/.\n",
    "For running the examples set the `base_url` to the rese"
   ]
  },
  {
   "cell_type": "code",
   "execution_count": 13,
   "metadata": {
    "collapsed": false,
    "jupyter": {
     "outputs_hidden": false
    },
    "pycharm": {
     "name": "#%%\n"
    }
   },
   "outputs": [],
   "source": [
    "import requests\n",
    "from requests import Response\n",
    "from pprint import pprint\n",
    "import pandas as pd\n",
    "\n",
    "base_url = \"http://0.0.0.0:8000/api/v1\"  # https://pk-db.com/api/v1\n",
    "\n",
    "def json_print(r: Response):\n",
    "    json = r.json()\n",
    "    pprint(json, sort_dicts=False)"
   ]
  },
  {
   "cell_type": "markdown",
   "metadata": {},
   "source": [
    "## Statistics\n",
    "To get a basic overview of the content of PK-DB and the version use the `/statistics/` endpoint."
   ]
  },
  {
   "cell_type": "code",
   "execution_count": 14,
   "metadata": {
    "collapsed": false,
    "jupyter": {
     "outputs_hidden": false
    },
    "pycharm": {
     "name": "#%%\n"
    }
   },
   "outputs": [
    {
     "name": "stdout",
     "output_type": "stream",
     "text": [
      "{'version': '0.9.2a3',\n",
      " 'study_count': 507,\n",
      " 'reference_count': 507,\n",
      " 'group_count': 1447,\n",
      " 'individual_count': 6212,\n",
      " 'intervention_count': 1391,\n",
      " 'output_count': 72068,\n",
      " 'output_calculated_count': 11651,\n",
      " 'timecourse_count': 3036,\n",
      " 'scatter_count': 37}\n"
     ]
    }
   ],
   "source": [
    "r = requests.get(base_url + '/statistics/')\n",
    "json_print(r)"
   ]
  },
  {
   "cell_type": "markdown",
   "metadata": {},
   "source": [
    "## Info nodes\n",
    "Information in PK-DB is organized as info nodes. Meta-information is encoded in the form of the info nodes which for a given field encodes meta-data such as description, synonyms, annotations and database cross-references.\n",
    "\n",
    "### Retrieve single info node\n",
    "Information on info nodes can be retrieved using the `sid` with the `info_nodes` endpoint. An overview of the available info nodes is available from the info nodes tab https://pk-db/curation. For instance to query the information on the substance `caffeine` with `sid=caf` use"
   ]
  },
  {
   "cell_type": "code",
   "execution_count": 15,
   "metadata": {},
   "outputs": [
    {
     "name": "stdout",
     "output_type": "stream",
     "text": [
      "{'sid': 'caf',\n",
      " 'name': 'caffeine',\n",
      " 'label': 'caffeine',\n",
      " 'deprecated': False,\n",
      " 'ntype': 'substance',\n",
      " 'dtype': 'undefined',\n",
      " 'description': 'A methylxanthine alkaloid found in the seeds, nuts, or leaves '\n",
      "                'of a number of plants native to South America and East Asia '\n",
      "                'that is structurally related to adenosine and acts primarily '\n",
      "                'as an adenosine receptor antagonist with psychotropic and '\n",
      "                'anti-inflammatory activities.',\n",
      " 'synonyms': ['1,3,7-TMX',\n",
      "              '1,3,7-Trimethylxanthine',\n",
      "              '1,3,7-trimethyl-3,7-dihydro-1H-purine-2,6-dione',\n",
      "              '1,3,7-trimethylpurine-2,6-dione',\n",
      "              '1,3,7-trimethylxanthine',\n",
      "              '1-methyltheobromine',\n",
      "              '137MX',\n",
      "              '3,7-Dihydro-1,3,7-trimethyl-1H-purin-2,6-dion',\n",
      "              '3,7-Dihydro-1,3,7-trimethyl-1H-purine-2,6-dione',\n",
      "              '7-methyltheophylline',\n",
      "              'CAF',\n",
      "              'CAFFEINE',\n",
      "              'Caffeine',\n",
      "              'Coffein',\n",
      "              'Koffein',\n",
      "              'Methyltheobromine',\n",
      "              'Thein',\n",
      "              'Theine',\n",
      "              'anhydrous caffeine',\n",
      "              'cafeina',\n",
      "              'cafeine',\n",
      "              'caffeine',\n",
      "              'guaranine',\n",
      "              'mateina',\n",
      "              'methyltheobromine',\n",
      "              'teina',\n",
      "              'theine',\n",
      "              '1,3,7-trimethyl-2,6-dioxopurine',\n",
      "              'Trimethylxanthine'],\n",
      " 'parents': [],\n",
      " 'annotations': [{'label': 'caffeine',\n",
      "                  'relation': 'BQB_IS',\n",
      "                  'term': 'CHEBI:27732',\n",
      "                  'collection': 'chebi',\n",
      "                  'description': 'A trimethylxanthine in which the three '\n",
      "                                 'methyl groups are located at positions 1, 3, '\n",
      "                                 'and 7. A purine alkaloid that occurs '\n",
      "                                 'naturally in tea and coffee.',\n",
      "                  'url': 'https://www.ebi.ac.uk/chebi/searchId.do?chebiId=CHEBI:27732'},\n",
      "                 {'label': 'Caffeine',\n",
      "                  'relation': 'BQB_IS',\n",
      "                  'term': 'C328',\n",
      "                  'collection': 'ncit',\n",
      "                  'description': 'A methylxanthine alkaloid found in the '\n",
      "                                 'seeds, nuts, or leaves of a number of plants '\n",
      "                                 'native to South America and East Asia that '\n",
      "                                 'is structurally related to adenosine and '\n",
      "                                 'acts primarily as an adenosine receptor '\n",
      "                                 'antagonist with psychotropic and '\n",
      "                                 'anti-inflammatory activities. Upon '\n",
      "                                 'ingestion, caffeine binds to adenosine '\n",
      "                                 'receptors in the central nervous system '\n",
      "                                 '(CNS), which inhibits adenosine binding. '\n",
      "                                 'This inhibits the adenosine-mediated '\n",
      "                                 'downregulation of CNS activity; thus, '\n",
      "                                 'stimulating the activity of the medullary, '\n",
      "                                 'vagal, vasomotor, and respiratory centers in '\n",
      "                                 'the brain. This agent also promotes '\n",
      "                                 'neurotransmitter release that further '\n",
      "                                 'stimulates the CNS. The anti-inflammatory '\n",
      "                                 'effects of caffeine are due the nonselective '\n",
      "                                 'competitive inhibition of phosphodiesterases '\n",
      "                                 '(PDEs). Inhibition of PDEs raises the '\n",
      "                                 'intracellular concentration of cyclic AMP '\n",
      "                                 '(cAMP), activates protein kinase A, and '\n",
      "                                 'inhibits leukotriene synthesis, which leads '\n",
      "                                 'to reduced inflammation and innate immunity.',\n",
      "                  'url': 'http://ncit.nci.nih.gov/ncitbrowser/ConceptReport.jsp?dictionary=NCI%20Thesaurus&code=C328'},\n",
      "                 {'label': None,\n",
      "                  'relation': 'BQB_IS',\n",
      "                  'term': 'RYYVLZVUVIJVGH-UHFFFAOYSA-N',\n",
      "                  'collection': 'inchikey',\n",
      "                  'description': None,\n",
      "                  'url': 'http://www.chemspider.com/inchikey=RYYVLZVUVIJVGH-UHFFFAOYSA-N'}],\n",
      " 'xrefs': [{'name': 'chembl',\n",
      "            'accession': 'CHEMBL113',\n",
      "            'url': 'https://www.ebi.ac.uk/chembldb/compound/inspect/CHEMBL113'},\n",
      "           {'name': 'drugbank',\n",
      "            'accession': 'DB00201',\n",
      "            'url': 'http://www.drugbank.ca/drugs/DB00201'},\n",
      "           {'name': 'pdb',\n",
      "            'accession': 'CFF',\n",
      "            'url': 'http://www.ebi.ac.uk/pdbe-srv/pdbechem/chemicalCompound/show/CFF'},\n",
      "           {'name': 'gtopdb',\n",
      "            'accession': '407',\n",
      "            'url': 'http://www.guidetopharmacology.org/GRAC/LigandDisplayForward?ligandId=407'},\n",
      "           {'name': 'kegg_ligand',\n",
      "            'accession': 'C07481',\n",
      "            'url': 'http://www.genome.jp/dbget-bin/www_bget?C07481'},\n",
      "           {'name': 'chebi',\n",
      "            'accession': '27732',\n",
      "            'url': 'http://www.ebi.ac.uk/chebi/searchId.do?chebiId=CHEBI%3A27732'},\n",
      "           {'name': 'zinc',\n",
      "            'accession': 'ZINC000000001084',\n",
      "            'url': 'http://zinc15.docking.org/substances/ZINC000000001084'},\n",
      "           {'name': 'emolecules',\n",
      "            'accession': '27517656',\n",
      "            'url': 'https://www.emolecules.com/cgi-bin/more?vid=27517656'},\n",
      "           {'name': 'emolecules',\n",
      "            'accession': '493944',\n",
      "            'url': 'https://www.emolecules.com/cgi-bin/more?vid=493944'},\n",
      "           {'name': 'atlas',\n",
      "            'accession': 'caffeine',\n",
      "            'url': 'http://www.ebi.ac.uk/gxa/query?conditionQuery=caffeine'},\n",
      "           {'name': 'fdasrs',\n",
      "            'accession': '3G6A5W338E',\n",
      "            'url': 'http://fdasis.nlm.nih.gov/srs/ProxyServlet?mergeData=true&objectHandle=DBMaint&APPLICATION_NAME=fdasrs&actionHandle=default&nextPage=jsp/srs/ResultScreen.jsp&TXTSUPERLISTID=3G6A5W338E'},\n",
      "           {'name': 'surechembl',\n",
      "            'accession': 'SCHEMBL5671',\n",
      "            'url': 'https://www.surechembl.org/chemical/SCHEMBL5671'},\n",
      "           {'name': 'pharmgkb',\n",
      "            'accession': 'PA448710',\n",
      "            'url': 'https://www.pharmgkb.org/drug/PA448710'},\n",
      "           {'name': 'hmdb',\n",
      "            'accession': 'HMDB0001847',\n",
      "            'url': 'http://www.hmdb.ca/metabolites/HMDB0001847'},\n",
      "           {'name': 'pubchem_tpharma',\n",
      "            'accession': '14772978',\n",
      "            'url': 'http://pubchem.ncbi.nlm.nih.gov/substance/14772978'},\n",
      "           {'name': 'pubchem',\n",
      "            'accession': '2519',\n",
      "            'url': 'http://pubchem.ncbi.nlm.nih.gov/compound/2519'},\n",
      "           {'name': 'mcule',\n",
      "            'accession': 'MCULE-3362813910',\n",
      "            'url': 'https://mcule.com/MCULE-3362813910'},\n",
      "           {'name': 'nmrshiftdb2',\n",
      "            'accession': '10016316',\n",
      "            'url': 'http://nmrshiftdb.org/molecule/10016316'},\n",
      "           {'name': 'lincs',\n",
      "            'accession': 'LSM-2026',\n",
      "            'url': 'http://identifiers.org/lincs.smallmolecule/LSM-2026'},\n",
      "           {'name': 'actor',\n",
      "            'accession': '58-08-2',\n",
      "            'url': 'http://actor.epa.gov/actor/chemical.xhtml?casrn=58-08-2'},\n",
      "           {'name': 'nikkaji',\n",
      "            'accession': 'J2.330B',\n",
      "            'url': 'http://jglobal.jst.go.jp/en/redirect?Nikkaji_No=J2.330B'},\n",
      "           {'name': 'bindingdb',\n",
      "            'accession': '10849',\n",
      "            'url': 'http://www.bindingdb.org/bind/chemsearch/marvin/MolStructure.jsp?monomerid=10849'},\n",
      "           {'name': 'comptox',\n",
      "            'accession': 'DTXSID0020232',\n",
      "            'url': 'https://comptox.epa.gov/dashboard/DTXSID0020232'},\n",
      "           {'name': 'drugcentral',\n",
      "            'accession': '463',\n",
      "            'url': 'http://drugcentral.org/drugcard/463'},\n",
      "           {'name': 'metabolights',\n",
      "            'accession': 'MTBLC27732',\n",
      "            'url': 'http://www.ebi.ac.uk/metabolights/MTBLC27732'},\n",
      "           {'name': 'brenda',\n",
      "            'accession': '207634',\n",
      "            'url': 'https://www.brenda-enzymes.org/ligand.php?brenda_ligand_id=207634'},\n",
      "           {'name': 'brenda',\n",
      "            'accession': '207635',\n",
      "            'url': 'https://www.brenda-enzymes.org/ligand.php?brenda_ligand_id=207635'},\n",
      "           {'name': 'brenda',\n",
      "            'accession': '51266',\n",
      "            'url': 'https://www.brenda-enzymes.org/ligand.php?brenda_ligand_id=51266'},\n",
      "           {'name': 'brenda',\n",
      "            'accession': '7965',\n",
      "            'url': 'https://www.brenda-enzymes.org/ligand.php?brenda_ligand_id=7965'},\n",
      "           {'name': 'brenda',\n",
      "            'accession': '882',\n",
      "            'url': 'https://www.brenda-enzymes.org/ligand.php?brenda_ligand_id=882'},\n",
      "           {'name': 'rhea',\n",
      "            'accession': '27732',\n",
      "            'url': 'http://www.rhea-db.org/searchresults?q=CHEBI:27732'},\n",
      "           {'name': 'dailymed',\n",
      "            'accession': 'CAFFEINE',\n",
      "            'url': 'https://dailymed.nlm.nih.gov/dailymed/search.cfm?adv=1&labeltype=human&query=ACTIVEMOIETY:(CAFFEINE'},\n",
      "           {'name': 'clinicaltrials',\n",
      "            'accession': 'ANHYDROUS CAFFEINE',\n",
      "            'url': 'https://www.clinicaltrials.gov/ct2/results?&type=Intr&intr=%22ANHYDROUS%20CAFFEINE%22'},\n",
      "           {'name': 'clinicaltrials',\n",
      "            'accession': 'CAFCIT',\n",
      "            'url': 'https://www.clinicaltrials.gov/ct2/results?&type=Intr&intr=%22CAFCIT%22'},\n",
      "           {'name': 'clinicaltrials',\n",
      "            'accession': 'CAFFEINE',\n",
      "            'url': 'https://www.clinicaltrials.gov/ct2/results?&type=Intr&intr=%22CAFFEINE%22'},\n",
      "           {'name': 'clinicaltrials',\n",
      "            'accession': 'CAFFEINE CITRATE',\n",
      "            'url': 'https://www.clinicaltrials.gov/ct2/results?&type=Intr&intr=%22CAFFEINE%20CITRATE%22'},\n",
      "           {'name': 'clinicaltrials',\n",
      "            'accession': 'PEYONA',\n",
      "            'url': 'https://www.clinicaltrials.gov/ct2/results?&type=Intr&intr=%22PEYONA%22'},\n",
      "           {'name': 'InChIKey through ChemSpider',\n",
      "            'accession': 'RYYVLZVUVIJVGH-UHFFFAOYSA-N',\n",
      "            'url': 'http://www.chemspider.com/inchikey=RYYVLZVUVIJVGH-UHFFFAOYSA-N'},\n",
      "           {'name': 'InChiKey resolver at NCI',\n",
      "            'accession': 'RYYVLZVUVIJVGH-UHFFFAOYSA-N',\n",
      "            'url': 'http://cactus.nci.nih.gov/chemical/structure/RYYVLZVUVIJVGH-UHFFFAOYSA-N/names'},\n",
      "           {'name': 'ibm',\n",
      "            'accession': 'F5DC77C5C625DA4D47FA47B7105235AE',\n",
      "            'url': 'http://www-935.ibm.com/services/us/gbs/bao/siip/nih/?sid=F5DC77C5C625DA4D47FA47B7105235AE'}],\n",
      " 'measurement_type': None,\n",
      " 'substance': {'mass': 194.19076, 'charge': 0.0, 'formula': 'C8H10N4O2'}}\n"
     ]
    }
   ],
   "source": [
    "r = requests.get(base_url + '/info_nodes/caf/')\n",
    "json_print(r)"
   ]
  },
  {
   "cell_type": "markdown",
   "metadata": {},
   "source": [
    "### Search info nodes\n",
    "Info nodes can be search via the search argument. In the following we are searching for `caffeine` and return the paginated results with a page size of 100. We parse the JSON response in a pandas DataFrame and display `sid`, `name`, `label` and `description` for the top 10 results."
   ]
  },
  {
   "cell_type": "code",
   "execution_count": 27,
   "metadata": {},
   "outputs": [
    {
     "data": {
      "text/html": [
       "<div>\n",
       "<style scoped>\n",
       "    .dataframe tbody tr th:only-of-type {\n",
       "        vertical-align: middle;\n",
       "    }\n",
       "\n",
       "    .dataframe tbody tr th {\n",
       "        vertical-align: top;\n",
       "    }\n",
       "\n",
       "    .dataframe thead th {\n",
       "        text-align: right;\n",
       "    }\n",
       "</style>\n",
       "<table border=\"1\" class=\"dataframe\">\n",
       "  <thead>\n",
       "    <tr style=\"text-align: right;\">\n",
       "      <th></th>\n",
       "      <th>sid</th>\n",
       "      <th>name</th>\n",
       "      <th>label</th>\n",
       "      <th>description</th>\n",
       "    </tr>\n",
       "  </thead>\n",
       "  <tbody>\n",
       "    <tr>\n",
       "      <th>0</th>\n",
       "      <td>caf</td>\n",
       "      <td>caffeine</td>\n",
       "      <td>caffeine</td>\n",
       "      <td>A methylxanthine alkaloid found in the seeds, ...</td>\n",
       "    </tr>\n",
       "    <tr>\n",
       "      <th>1</th>\n",
       "      <td>caffeine-citrate</td>\n",
       "      <td>caffeine citrate</td>\n",
       "      <td>caffeine citrate</td>\n",
       "      <td>Commercial citrate of caffeine, though not a d...</td>\n",
       "    </tr>\n",
       "    <tr>\n",
       "      <th>2</th>\n",
       "      <td>caffeine-monohydrate</td>\n",
       "      <td>caffeine monohydrate</td>\n",
       "      <td>caffeine monohydrate</td>\n",
       "      <td>Caffeine monohydrate.</td>\n",
       "    </tr>\n",
       "    <tr>\n",
       "      <th>3</th>\n",
       "      <td>17u</td>\n",
       "      <td>17U</td>\n",
       "      <td>17U</td>\n",
       "      <td>Metabolite of caffeine.</td>\n",
       "    </tr>\n",
       "    <tr>\n",
       "      <th>4</th>\n",
       "      <td>px</td>\n",
       "      <td>paraxanthine</td>\n",
       "      <td>paraxanthine</td>\n",
       "      <td>A dimethylxanthine having the two methyl group...</td>\n",
       "    </tr>\n",
       "    <tr>\n",
       "      <th>5</th>\n",
       "      <td>tp</td>\n",
       "      <td>theophylline</td>\n",
       "      <td>theophylline</td>\n",
       "      <td>A natural alkaloid derivative of xanthine isol...</td>\n",
       "    </tr>\n",
       "    <tr>\n",
       "      <th>6</th>\n",
       "      <td>137mu</td>\n",
       "      <td>137MU</td>\n",
       "      <td>137MU</td>\n",
       "      <td>Metabolite of caffeine.</td>\n",
       "    </tr>\n",
       "    <tr>\n",
       "      <th>7</th>\n",
       "      <td>137tmu</td>\n",
       "      <td>137TMU</td>\n",
       "      <td>137TMU</td>\n",
       "      <td>Metabolite of caffeine.</td>\n",
       "    </tr>\n",
       "    <tr>\n",
       "      <th>8</th>\n",
       "      <td>13dmu</td>\n",
       "      <td>13DMU</td>\n",
       "      <td>13DMU</td>\n",
       "      <td>Metabolite of caffeine.</td>\n",
       "    </tr>\n",
       "    <tr>\n",
       "      <th>9</th>\n",
       "      <td>13mu</td>\n",
       "      <td>13MU</td>\n",
       "      <td>13MU</td>\n",
       "      <td>Metabolite of caffeine.</td>\n",
       "    </tr>\n",
       "  </tbody>\n",
       "</table>\n",
       "</div>"
      ],
      "text/plain": [
       "                    sid                  name                 label  \\\n",
       "0                   caf              caffeine              caffeine   \n",
       "1      caffeine-citrate      caffeine citrate      caffeine citrate   \n",
       "2  caffeine-monohydrate  caffeine monohydrate  caffeine monohydrate   \n",
       "3                   17u                   17U                   17U   \n",
       "4                    px          paraxanthine          paraxanthine   \n",
       "5                    tp          theophylline          theophylline   \n",
       "6                 137mu                 137MU                 137MU   \n",
       "7                137tmu                137TMU                137TMU   \n",
       "8                 13dmu                 13DMU                 13DMU   \n",
       "9                  13mu                  13MU                  13MU   \n",
       "\n",
       "                                         description  \n",
       "0  A methylxanthine alkaloid found in the seeds, ...  \n",
       "1  Commercial citrate of caffeine, though not a d...  \n",
       "2                              Caffeine monohydrate.  \n",
       "3                            Metabolite of caffeine.  \n",
       "4  A dimethylxanthine having the two methyl group...  \n",
       "5  A natural alkaloid derivative of xanthine isol...  \n",
       "6                            Metabolite of caffeine.  \n",
       "7                            Metabolite of caffeine.  \n",
       "8                            Metabolite of caffeine.  \n",
       "9                            Metabolite of caffeine.  "
      ]
     },
     "execution_count": 27,
     "metadata": {},
     "output_type": "execute_result"
    }
   ],
   "source": [
    "r = requests.get(base_url + '/info_nodes/?search=caffeine&page_size=100')\n",
    "data = r.json()[\"data\"][\"data\"]\n",
    "df = pd.DataFrame.from_dict(data)\n",
    "df[[\"sid\", \"name\", \"label\", \"description\"]].head(10)"
   ]
  },
  {
   "cell_type": "markdown",
   "metadata": {},
   "source": [
    "### Retrieve all available info nodes\n",
    "To retrieve all available info nodes use the `/info_nodes/` endpoint. The results are paginated so to retrieve all entries one must iterate over the available pages."
   ]
  },
  {
   "cell_type": "code",
   "execution_count": 34,
   "metadata": {
    "collapsed": false,
    "jupyter": {
     "outputs_hidden": false
    },
    "pycharm": {
     "name": "#%%\n"
    }
   },
   "outputs": [
    {
     "name": "stdout",
     "output_type": "stream",
     "text": [
      "Number of info nodes: 1030\n"
     ]
    }
   ],
   "source": [
    "r = requests.get(base_url + '/info_nodes/')\n",
    "json = r.json()\n",
    "print(f\"Number of info nodes: {json['data']['count']}\")"
   ]
  },
  {
   "cell_type": "markdown",
   "metadata": {},
   "source": [
    "## Filter and search data\n",
    "\n",
    "### Accessing the `groups`, `individuals`, `interventions`, `outputs`, `timecourses` and `scatters`\n",
    "\n",
    "\n",
    "### Download data"
   ]
  },
  {
   "cell_type": "code",
   "execution_count": null,
   "metadata": {
    "collapsed": false,
    "jupyter": {
     "outputs_hidden": false
    },
    "pycharm": {
     "name": "#%%\n"
    }
   },
   "outputs": [],
   "source": [
    "r = requests.get(base_r)"
   ]
  },
  {
   "cell_type": "code",
   "execution_count": 13,
   "metadata": {},
   "outputs": [
    {
     "ename": "TypeError",
     "evalue": "__init__() got an unexpected keyword argument 'sort_dicts'",
     "output_type": "error",
     "traceback": [
      "\u001b[0;31m------------------------------------------------------------------------\u001b[0m",
      "\u001b[0;31mTypeError\u001b[0m                              Traceback (most recent call last)",
      "\u001b[0;32m<ipython-input-13-d38e82bdcfdf>\u001b[0m in \u001b[0;36m<module>\u001b[0;34m\u001b[0m\n\u001b[1;32m      1\u001b[0m \u001b[0;32mimport\u001b[0m \u001b[0mrequests\u001b[0m\u001b[0;34m\u001b[0m\u001b[0;34m\u001b[0m\u001b[0m\n\u001b[1;32m      2\u001b[0m \u001b[0;32mimport\u001b[0m \u001b[0mpprint\u001b[0m\u001b[0;34m\u001b[0m\u001b[0;34m\u001b[0m\u001b[0m\n\u001b[0;32m----> 3\u001b[0;31m \u001b[0mpp\u001b[0m \u001b[0;34m=\u001b[0m \u001b[0mpprint\u001b[0m\u001b[0;34m.\u001b[0m\u001b[0mPrettyPrinter\u001b[0m\u001b[0;34m(\u001b[0m\u001b[0mindent\u001b[0m\u001b[0;34m=\u001b[0m\u001b[0;36m2\u001b[0m\u001b[0;34m,\u001b[0m \u001b[0mcompact\u001b[0m\u001b[0;34m=\u001b[0m\u001b[0;32mTrue\u001b[0m\u001b[0;34m,\u001b[0m \u001b[0msort_dicts\u001b[0m\u001b[0;34m=\u001b[0m\u001b[0;32mFalse\u001b[0m\u001b[0;34m)\u001b[0m\u001b[0;34m\u001b[0m\u001b[0;34m\u001b[0m\u001b[0m\n\u001b[0m\u001b[1;32m      4\u001b[0m \u001b[0mbase_url\u001b[0m \u001b[0;34m=\u001b[0m \u001b[0;34m\"http://0.0.0.0:8000/api/v1\"\u001b[0m\u001b[0;34m\u001b[0m\u001b[0;34m\u001b[0m\u001b[0m\n",
      "\u001b[0;31mTypeError\u001b[0m: __init__() got an unexpected keyword argument 'sort_dicts'"
     ]
    }
   ],
   "source": [
    "r = requests.get(base_r)"
   ]
  },
  {
   "cell_type": "markdown",
   "metadata": {},
   "source": [
    "## Statistics\n",
    "To get a basic overview of the content of PK-DB and the version use the `/statistics/` endpoint."
   ]
  },
  {
   "cell_type": "code",
   "execution_count": 10,
   "metadata": {},
   "outputs": [
    {
     "name": "stdout",
     "output_type": "stream",
     "text": [
      "{'version': '0.9.2a3', 'study_count': 507, 'reference_count': 507, 'group_count': 1447, 'individual_count': 6212, 'intervention_count': 1391, 'output_count': 72068, 'output_calculated_count': 11651, 'timecourse_count': 3036, 'scatter_count': 37}\n"
     ]
    }
   ],
   "source": [
    "r = requests.get(base_url + '/statistics/')\n",
    "print(r.json())"
   ]
  },
  {
   "cell_type": "markdown",
   "metadata": {},
   "source": [
    "## Info nodes\n",
    "Information in PK-DB is organized as info nodes. Meta-information is encoded in the form of the info nodes which for a given field encodes meta-data such as description, synonyms, annotations and database cross-references.\n",
    "\n",
    "### Query single info node\n",
    "To retrieve the available info nodes use the `/info_nodes/` endpoint."
   ]
  },
  {
   "cell_type": "code",
   "execution_count": 11,
   "metadata": {},
   "outputs": [
    {
     "name": "stdout",
     "output_type": "stream",
     "text": [
      "{'current_page': 1, 'last_page': 52, 'next_page_url': 'http://0.0.0.0:8000/api/v1/info_nodes/?page=2', 'prev_page_url': None, 'data': {'count': 1030, 'data': [{'sid': '137mu', 'name': '137MU', 'label': '137MU', 'deprecated': False, 'ntype': 'substance', 'dtype': 'undefined', 'description': 'Metabolite of caffeine.', 'synonyms': ['1,3,7-MU'], 'parents': [], 'annotations': [], 'xrefs': [], 'measurement_type': None, 'substance': {'mass': None, 'charge': None, 'formula': None}}, {'sid': '137tmu', 'name': '137TMU', 'label': '137TMU', 'deprecated': False, 'ntype': 'substance', 'dtype': 'undefined', 'description': 'Metabolite of caffeine.', 'synonyms': [], 'parents': [], 'annotations': [], 'xrefs': [], 'measurement_type': None, 'substance': {'mass': None, 'charge': None, 'formula': None}}, {'sid': '13cco2', 'name': '13C-co2', 'label': '13C-carbon dioxide', 'deprecated': False, 'ntype': 'substance', 'dtype': 'undefined', 'description': '13C carbon dioxide is a (13)C-modified compound that is carbon dioxide in which the carbon is present as its (13)C isotope. It has a role as a diagnostic agent.', 'synonyms': ['((13)C)carbon dioxide', '((13)C)methanedione', '(13)CO2', '13C-hydrogencarbonate', 'carbon-(13)C dioxide', 'carbon dioxide((13)C)'], 'parents': [], 'annotations': [{'label': '((13)C)carbon dioxide', 'relation': 'BQB_IS', 'term': 'CHEBI:139538', 'collection': 'chebi', 'description': 'A (13)C-modified compound that is carbon dioxide in which the carbon is present as its (13)C isotope.', 'url': 'https://www.ebi.ac.uk/chebi/searchId.do?chebiId=CHEBI:139538'}, {'label': None, 'relation': 'BQB_IS', 'term': 'CURLTUGMZLYLDI-OUBTZVSYSA-N', 'collection': 'inchikey', 'description': None, 'url': 'http://www.chemspider.com/inchikey=CURLTUGMZLYLDI-OUBTZVSYSA-N'}], 'xrefs': [{'name': 'chebi', 'accession': '139538', 'url': 'http://www.ebi.ac.uk/chebi/searchId.do?chebiId=CHEBI%3A139538'}, {'name': 'emolecules', 'accession': '26752222', 'url': 'https://www.emolecules.com/cgi-bin/more?vid=26752222'}, {'name': 'ibm', 'accession': '4D0BF1A95ED75195CFAAB8050EEE8817', 'url': 'http://www-935.ibm.com/services/us/gbs/bao/siip/nih/?sid=4D0BF1A95ED75195CFAAB8050EEE8817'}, {'name': 'surechembl', 'accession': 'SCHEMBL71642', 'url': 'https://www.surechembl.org/chemical/SCHEMBL71642'}, {'name': 'pubchem_tpharma', 'accession': '15119567', 'url': 'http://pubchem.ncbi.nlm.nih.gov/substance/15119567'}, {'name': 'pubchem', 'accession': '10129882', 'url': 'http://pubchem.ncbi.nlm.nih.gov/compound/10129882'}, {'name': 'nikkaji', 'accession': 'J298.922K', 'url': 'http://jglobal.jst.go.jp/en/redirect?Nikkaji_No=J298.922K'}, {'name': 'comptox', 'accession': 'DTXSID90435908', 'url': 'https://comptox.epa.gov/dashboard/DTXSID90435908'}, {'name': 'InChIKey through ChemSpider', 'accession': 'CURLTUGMZLYLDI-OUBTZVSYSA-N', 'url': 'http://www.chemspider.com/inchikey=CURLTUGMZLYLDI-OUBTZVSYSA-N'}, {'name': 'InChiKey resolver at NCI', 'accession': 'CURLTUGMZLYLDI-OUBTZVSYSA-N', 'url': 'http://cactus.nci.nih.gov/chemical/structure/CURLTUGMZLYLDI-OUBTZVSYSA-N/names'}], 'measurement_type': None, 'substance': {'mass': 45.001, 'charge': 0.0, 'formula': '[13C]O2'}}, {'sid': '13cmet', 'name': '13C-methacetin', 'label': '13C-methacetin', 'deprecated': False, 'ntype': 'substance', 'dtype': 'undefined', 'description': 'A (13)C-modified compound that is methacetin which has (13)C as the predominant isotope of the methoxy carbon. In normal subjects, methacetin is rapidly metabolised in the liver, being dealkylated by hepatic CYP1A2 to give paracetamol (acetaminophen); the methyl of the methoxy group is eliminated as CO2.', 'synonyms': ['(13)C-MBT', '(13)C-methacetin', '[(13)C]methacetin', 'methacetin C-13', 'methacetin methoxy-C-13', 'methacetin-(methoxy-(13)C)', 'p-acetanisidine C-13', 'N-{4-[((13)C)methyloxy]phenyl}acetamide'], 'parents': [], 'annotations': [{'label': 'methacetin-(methoxy-(13)C)', 'relation': 'BQB_IS', 'term': 'CHEBI:139355', 'collection': 'chebi', 'description': 'A (13)C-modified compound that is methacetin which has (13)C as the predominant isotope of the methoxy carbon. In normal subjects, methacetin is rapidly metabolised in the liver, being dealkylated by hepatic CYP1A2 to give paracetamol (acetaminophen); the methyl of the methoxy group is eliminated as CO2. Administering methacetin-(methoxy-(13)C) to a patient enables the liver (cytochrome P-450 1A2) function to be determined quickly and precisely by measuring the (13)CO2 in the breath (e.g. by isotope-selective non-dispersive infrared spectrometry (NDIRS)).', 'url': 'https://www.ebi.ac.uk/chebi/searchId.do?chebiId=CHEBI:139355'}, {'label': None, 'relation': 'BQB_IS', 'term': 'XVAIDCNLVLTVFM-VQEHIDDOSA-N', 'collection': 'inchikey', 'description': None, 'url': 'http://www.chemspider.com/inchikey=XVAIDCNLVLTVFM-VQEHIDDOSA-N'}], 'xrefs': [{'name': 'chebi', 'accession': '139355', 'url': 'http://www.ebi.ac.uk/chebi/searchId.do?chebiId=CHEBI%3A139355'}, {'name': 'emolecules', 'accession': '25690988', 'url': 'https://www.emolecules.com/cgi-bin/more?vid=25690988'}, {'name': 'fdasrs', 'accession': '6RR3G0X81D', 'url': 'http://fdasis.nlm.nih.gov/srs/ProxyServlet?mergeData=true&objectHandle=DBMaint&APPLICATION_NAME=fdasrs&actionHandle=default&nextPage=jsp/srs/ResultScreen.jsp&TXTSUPERLISTID=6RR3G0X81D'}, {'name': 'pubchem_tpharma', 'accession': '14748105', 'url': 'http://pubchem.ncbi.nlm.nih.gov/substance/14748105'}, {'name': 'pubchem', 'accession': '9793926', 'url': 'http://pubchem.ncbi.nlm.nih.gov/compound/9793926'}, {'name': 'InChIKey through ChemSpider', 'accession': 'XVAIDCNLVLTVFM-VQEHIDDOSA-N', 'url': 'http://www.chemspider.com/inchikey=XVAIDCNLVLTVFM-VQEHIDDOSA-N'}, {'name': 'InChiKey resolver at NCI', 'accession': 'XVAIDCNLVLTVFM-VQEHIDDOSA-N', 'url': 'http://cactus.nci.nih.gov/chemical/structure/XVAIDCNLVLTVFM-VQEHIDDOSA-N/names'}], 'measurement_type': None, 'substance': {'mass': 166.184, 'charge': 0.0, 'formula': 'C8[13C]H11NO2'}}, {'sid': '13dmu', 'name': '13DMU', 'label': '13DMU', 'deprecated': False, 'ntype': 'substance', 'dtype': 'undefined', 'description': 'Metabolite of caffeine.', 'synonyms': [], 'parents': [], 'annotations': [], 'xrefs': [], 'measurement_type': None, 'substance': {'mass': None, 'charge': None, 'formula': None}}, {'sid': '13mu', 'name': '13MU', 'label': '13MU', 'deprecated': False, 'ntype': 'substance', 'dtype': 'undefined', 'description': 'Metabolite of caffeine.', 'synonyms': [], 'parents': [], 'annotations': [], 'xrefs': [], 'measurement_type': None, 'substance': {'mass': None, 'charge': None, 'formula': None}}, {'sid': '14cco2', 'name': '14C-co2', 'label': '14C carbon dioxide', 'deprecated': False, 'ntype': 'substance', 'dtype': 'undefined', 'description': '14C carbon dioxide is a (14)C-modified compound that is carbon dioxide in which the carbon is present as its (14)C isotope. It has a role as a diagnostic agent.', 'synonyms': ['14C-hydrogencarbonate'], 'parents': [], 'annotations': [], 'xrefs': [], 'measurement_type': None, 'substance': {'mass': None, 'charge': None, 'formula': None}}, {'sid': '14c-glycocholic-acid', 'name': '[14C]glycocholic acid', 'label': '[14C]glycocholic acid', 'deprecated': False, 'ntype': 'substance', 'dtype': 'undefined', 'description': 'A bile acid glycine conjugate having cholic acid as the bile acid component.', 'synonyms': [], 'parents': [], 'annotations': [{'label': 'glycocholic acid', 'relation': 'BQB_IS_VERSION_OF', 'term': 'CHEBI:17687', 'collection': 'chebi', 'description': 'A bile acid glycine conjugate having cholic acid as the bile acid component.', 'url': 'https://www.ebi.ac.uk/chebi/searchId.do?chebiId=CHEBI:17687'}], 'xrefs': [], 'measurement_type': None, 'substance': {'mass': None, 'charge': None, 'formula': None}}, {'sid': '14c-n-methyl-erythromycin', 'name': '[14C N-methyl] erythromycin', 'label': '[14C N-methyl] erythromycin', 'deprecated': False, 'ntype': 'substance', 'dtype': 'undefined', 'description': '14C modified erythromycin.', 'synonyms': [], 'parents': [], 'annotations': [{'label': 'erythromycin', 'relation': 'BQB_IS_VERSION_OF', 'term': 'CHEBI:48923', 'collection': 'chebi', 'description': 'Any of several wide-spectrum macrolide antibiotics obtained from actinomycete Saccharopolyspora erythraea (formerly known as Streptomyces erythraeus).', 'url': 'https://www.ebi.ac.uk/chebi/searchId.do?chebiId=CHEBI:48923'}], 'xrefs': [], 'measurement_type': None, 'substance': {'mass': None, 'charge': None, 'formula': None}}, {'sid': '14-dihydroxymidazolam', 'name': '1,4-dihydroxymidazolam', 'label': '1,4-dihydroxymidazolam', 'deprecated': False, 'ntype': 'substance', 'dtype': 'undefined', 'description': 'Metabolite of midazolam.', 'synonyms': [\"1',4'-dihydroxymidazolam\", \"1',4-dihydroxy midazolam\", \"1',4-dihydroxymidazolam\", '1,4-dihydroxy midazolam', '1,4-dihydroxymidazolam', '8-chloro-6-(2-fluorophenyl)-1-(hydroxymethyl)-4H-imidazo[1,5-a][1,4]benzodiazepin-4-ol', '8-chloro-6-(2-fluorophenyl)-4-hydroxy-4H-imidazo[1,5-a][1,4]benzodiazepine-1-methanol', 'Ro 21-0284', 'alpha,4-dihydroxymidazolam'], 'parents': [], 'annotations': [{'label': \"1',4-dihydroxymidazolam\", 'relation': 'BQB_IS', 'term': 'CHEBI:145332', 'collection': 'chebi', 'description': 'An imidazobenzodiazepine that is midazolam which is substituted by a hydroxy group at positions 2 and 4. It is the minor metabolite of the anesthetic, midazolam.', 'url': 'https://www.ebi.ac.uk/chebi/searchId.do?chebiId=CHEBI:145332'}, {'label': None, 'relation': 'BQB_IS', 'term': 'OJDUJEPGFILARE-UHFFFAOYSA-N', 'collection': 'inchikey', 'description': None, 'url': 'http://www.chemspider.com/inchikey=OJDUJEPGFILARE-UHFFFAOYSA-N'}], 'xrefs': [{'name': 'chebi', 'accession': '145332', 'url': 'http://www.ebi.ac.uk/chebi/searchId.do?chebiId=CHEBI%3A145332'}, {'name': 'emolecules', 'accession': '29935801', 'url': 'https://www.emolecules.com/cgi-bin/more?vid=29935801'}, {'name': 'pubchem_tpharma', 'accession': '15325436', 'url': 'http://pubchem.ncbi.nlm.nih.gov/substance/15325436'}, {'name': 'pubchem', 'accession': '10316307', 'url': 'http://pubchem.ncbi.nlm.nih.gov/compound/10316307'}, {'name': 'nikkaji', 'accession': 'J344.585B', 'url': 'http://jglobal.jst.go.jp/en/redirect?Nikkaji_No=J344.585B'}, {'name': 'comptox', 'accession': 'DTXSID60438047', 'url': 'https://comptox.epa.gov/dashboard/DTXSID60438047'}, {'name': 'metabolights', 'accession': 'MTBLC145332', 'url': 'http://www.ebi.ac.uk/metabolights/MTBLC145332'}, {'name': 'InChIKey through ChemSpider', 'accession': 'OJDUJEPGFILARE-UHFFFAOYSA-N', 'url': 'http://www.chemspider.com/inchikey=OJDUJEPGFILARE-UHFFFAOYSA-N'}, {'name': 'InChiKey resolver at NCI', 'accession': 'OJDUJEPGFILARE-UHFFFAOYSA-N', 'url': 'http://cactus.nci.nih.gov/chemical/structure/OJDUJEPGFILARE-UHFFFAOYSA-N/names'}], 'measurement_type': None, 'substance': {'mass': 357.77, 'charge': 0.0, 'formula': 'C18H13ClFN3O2'}}, {'sid': '14-hydroxyclarithromycin', 'name': '14-hydroxyclarithromycin', 'label': '14-hydroxyclarithromycin', 'deprecated': False, 'ntype': 'substance', 'dtype': 'undefined', 'description': 'Metabolite of clarithromycin.', 'synonyms': ['14-Hydroxy-6-O-methylerythromycin', '14-OH-Clarithromycin', '14-ahydroxy-a6-aO-amethyl-Erythromycin'], 'parents': [], 'annotations': [{'label': None, 'relation': 'BQB_IS', 'term': '84020', 'collection': 'pubchem.substance', 'description': None, 'url': 'https://pubchem.ncbi.nlm.nih.gov/substance/84020'}, {'label': None, 'relation': 'BQB_IS', 'term': 'BLPFDXNVUDZBII-KNPZYKNQSA-N', 'collection': 'inchikey', 'description': None, 'url': 'http://www.chemspider.com/inchikey=BLPFDXNVUDZBII-KNPZYKNQSA-N'}], 'xrefs': [{'name': 'NCBI PubChem Substance', 'accession': '84020', 'url': 'https://pubchem.ncbi.nlm.nih.gov/substance/84020'}, {'name': 'InChIKey through ChemSpider', 'accession': 'BLPFDXNVUDZBII-KNPZYKNQSA-N', 'url': 'http://www.chemspider.com/inchikey=BLPFDXNVUDZBII-KNPZYKNQSA-N'}, {'name': 'InChiKey resolver at NCI', 'accession': 'BLPFDXNVUDZBII-KNPZYKNQSA-N', 'url': 'http://cactus.nci.nih.gov/chemical/structure/BLPFDXNVUDZBII-KNPZYKNQSA-N/names'}], 'measurement_type': None, 'substance': {'mass': 764.0, 'charge': None, 'formula': 'C38H69NO14'}}, {'sid': '15n3-midazolam', 'name': '15N3-midazolam', 'label': '15N3-midazolam', 'deprecated': False, 'ntype': 'substance', 'dtype': 'undefined', 'description': '15N3 labeled midazolam.', 'synonyms': [], 'parents': [], 'annotations': [], 'xrefs': [], 'measurement_type': None, 'substance': {'mass': None, 'charge': None, 'formula': None}}, {'sid': '17mu', 'name': '17MU', 'label': '17MU', 'deprecated': False, 'ntype': 'substance', 'dtype': 'undefined', 'description': 'Metabolite of caffeine.', 'synonyms': [], 'parents': [], 'annotations': [], 'xrefs': [], 'measurement_type': None, 'substance': {'mass': None, 'charge': None, 'formula': None}}, {'sid': '17u', 'name': '17U', 'label': '17U', 'deprecated': False, 'ntype': 'substance', 'dtype': 'undefined', 'description': 'Metabolite of caffeine.', 'synonyms': ['1,7 DMU', '1,7-DMU', '1,7-dimethyl-7,9-dihydro-1H-purine-2,6,8(3H)-trione', '1,7-dimethyluric acid'], 'parents': [], 'annotations': [{'label': '1,7-dimethyluric acid', 'relation': 'BQB_IS', 'term': 'CHEBI:68449', 'collection': 'chebi', 'description': 'An oxopurine that is 7,9-dihydro-1H-purine-2,6,8(3H)-trione substituted by methyl groups at N-1 and N-7. It is a metabolite of caffeine and is often found in human urine samples.', 'url': 'https://www.ebi.ac.uk/chebi/searchId.do?chebiId=CHEBI:68449'}, {'label': None, 'relation': 'BQB_IS', 'term': 'NOFNCLGCUJJPKU-UHFFFAOYSA-N', 'collection': 'inchikey', 'description': None, 'url': 'http://www.chemspider.com/inchikey=NOFNCLGCUJJPKU-UHFFFAOYSA-N'}], 'xrefs': [{'name': 'chembl', 'accession': 'CHEMBL794', 'url': 'https://www.ebi.ac.uk/chembldb/compound/inspect/CHEMBL794'}, {'name': 'kegg_ligand', 'accession': 'C16356', 'url': 'http://www.genome.jp/dbget-bin/www_bget?C16356'}, {'name': 'chebi', 'accession': '68449', 'url': 'http://www.ebi.ac.uk/chebi/searchId.do?chebiId=CHEBI%3A68449'}, {'name': 'zinc', 'accession': 'ZINC000100034396', 'url': 'http://zinc15.docking.org/substances/ZINC000100034396'}, {'name': 'emolecules', 'accession': '505028', 'url': 'https://www.emolecules.com/cgi-bin/more?vid=505028'}, {'name': 'ibm', 'accession': '36690F3E75EFC805B2806E86464A36B9', 'url': 'http://www-935.ibm.com/services/us/gbs/bao/siip/nih/?sid=36690F3E75EFC805B2806E86464A36B9'}, {'name': 'fdasrs', 'accession': 'Z633Z7KAJU', 'url': 'http://fdasis.nlm.nih.gov/srs/ProxyServlet?mergeData=true&objectHandle=DBMaint&APPLICATION_NAME=fdasrs&actionHandle=default&nextPage=jsp/srs/ResultScreen.jsp&TXTSUPERLISTID=Z633Z7KAJU'}, {'name': 'surechembl', 'accession': 'SCHEMBL232390', 'url': 'https://www.surechembl.org/chemical/SCHEMBL232390'}, {'name': 'hmdb', 'accession': 'HMDB0011103', 'url': 'http://www.hmdb.ca/metabolites/HMDB0011103'}, {'name': 'pubchem_tpharma', 'accession': '15042507', 'url': 'http://pubchem.ncbi.nlm.nih.gov/substance/15042507'}, {'name': 'pubchem', 'accession': '91611', 'url': 'http://pubchem.ncbi.nlm.nih.gov/compound/91611'}, {'name': 'actor', 'accession': '33868-03-0', 'url': 'http://actor.epa.gov/actor/chemical.xhtml?casrn=33868-03-0'}, {'name': 'molport', 'accession': 'MolPort-003-931-996', 'url': 'https://www.molport.com/shop/molecule-link/MolPort-003-931-996'}, {'name': 'nikkaji', 'accession': 'J308.550C', 'url': 'http://jglobal.jst.go.jp/en/redirect?Nikkaji_No=J308.550C'}, {'name': 'comptox', 'accession': 'DTXSID30187499', 'url': 'https://comptox.epa.gov/dashboard/DTXSID30187499'}, {'name': 'metabolights', 'accession': 'MTBLC68449', 'url': 'http://www.ebi.ac.uk/metabolights/MTBLC68449'}, {'name': 'brenda', 'accession': '126012', 'url': 'https://www.brenda-enzymes.org/ligand.php?brenda_ligand_id=126012'}, {'name': 'brenda', 'accession': '39968', 'url': 'https://www.brenda-enzymes.org/ligand.php?brenda_ligand_id=39968'}, {'name': 'InChIKey through ChemSpider', 'accession': 'NOFNCLGCUJJPKU-UHFFFAOYSA-N', 'url': 'http://www.chemspider.com/inchikey=NOFNCLGCUJJPKU-UHFFFAOYSA-N'}, {'name': 'InChiKey resolver at NCI', 'accession': 'NOFNCLGCUJJPKU-UHFFFAOYSA-N', 'url': 'http://cactus.nci.nih.gov/chemical/structure/NOFNCLGCUJJPKU-UHFFFAOYSA-N/names'}], 'measurement_type': None, 'substance': {'mass': 196.1634, 'charge': 0.0, 'formula': 'C7H8N4O3'}}, {'sid': '17u-over-px', 'name': '17U/px', 'label': '17U/px', 'deprecated': False, 'ntype': 'substance', 'dtype': 'undefined', 'description': 'Caffeine metabolic ratio.', 'synonyms': [], 'parents': [{'sid': '17u', 'name': '17U', 'label': '17U'}, {'sid': 'px', 'name': 'paraxanthine', 'label': 'paraxanthine'}], 'annotations': [], 'xrefs': [], 'measurement_type': None, 'substance': {'mass': None, 'charge': None, 'formula': None}}, {'sid': '17u-plus-px-over-caf', 'name': '(17U+px)/caf', 'label': '(17U+px)/caf', 'deprecated': False, 'ntype': 'substance', 'dtype': 'undefined', 'description': 'Caffeine metabolic ratio.', 'synonyms': ['(17U+17X)/137X'], 'parents': [{'sid': '17u', 'name': '17U', 'label': '17U'}, {'sid': 'caf', 'name': 'caffeine', 'label': 'caffeine'}, {'sid': 'px', 'name': 'paraxanthine', 'label': 'paraxanthine'}], 'annotations': [], 'xrefs': [], 'measurement_type': None, 'substance': {'mass': None, 'charge': None, 'formula': None}}, {'sid': '1-hydroxymidazolam', 'name': '1-hydroxymidazolam', 'label': '1-hydroxymidazolam', 'deprecated': False, 'ntype': 'substance', 'dtype': 'undefined', 'description': '1-hydroxymidazolam. Metabolite of midazolam.', 'synonyms': [\"1'-hydroxymidazolam\", '1-OH-MDZ', '1-hydroxymethylmidazolam', '1-hydroxymidazolam', '8-chloro-6-(2-fluorophenyl)-1-hydroxymethyl-4H-imidazo[1,5-a][1,4]benzodiazepine', '8-chloro-6-(2-fluorophenyl)-4H-imidazo[1,5-a][1,4]benzodiazepine-1-methanol', 'Ro 21-6347', '[8-chloro-6-(2-fluorophenyl)-4H-imidazo[1,5-a][1,4]benzodiazepin-1-yl]methanol', 'alpha-hydroxymidazolam'], 'parents': [], 'annotations': [{'label': '1-hydroxymidazolam', 'relation': 'BQB_IS', 'term': 'CHEBI:145330', 'collection': 'chebi', 'description': 'An imidazobenzodiazepine that is midazolam in which one of the hydrogens of the methyl group is substituted by a hydroxy group. It is the major metabolite of the anesthetic, midazolam.', 'url': 'https://www.ebi.ac.uk/chebi/searchId.do?chebiId=CHEBI:145330'}, {'label': None, 'relation': 'BQB_IS', 'term': '107917', 'collection': 'pubchem.compound', 'description': None, 'url': 'https://pubchem.ncbi.nlm.nih.gov/compound/107917'}, {'label': None, 'relation': 'BQB_IS', 'term': 'QHSMEGADRFZVNE-UHFFFAOYSA-N', 'collection': 'inchikey', 'description': None, 'url': 'http://www.chemspider.com/inchikey=QHSMEGADRFZVNE-UHFFFAOYSA-N'}], 'xrefs': [{'name': 'chembl', 'accession': 'CHEMBL1188', 'url': 'https://www.ebi.ac.uk/chembldb/compound/inspect/CHEMBL1188'}, {'name': 'chebi', 'accession': '145330', 'url': 'http://www.ebi.ac.uk/chebi/searchId.do?chebiId=CHEBI%3A145330'}, {'name': 'zinc', 'accession': 'ZINC000002570878', 'url': 'http://zinc15.docking.org/substances/ZINC000002570878'}, {'name': 'emolecules', 'accession': '595097', 'url': 'https://www.emolecules.com/cgi-bin/more?vid=595097'}, {'name': 'ibm', 'accession': '0FA479CF964E41448A02904D4E1FA95F', 'url': 'http://www-935.ibm.com/services/us/gbs/bao/siip/nih/?sid=0FA479CF964E41448A02904D4E1FA95F'}, {'name': 'fdasrs', 'accession': 'E5142BN92Z', 'url': 'http://fdasis.nlm.nih.gov/srs/ProxyServlet?mergeData=true&objectHandle=DBMaint&APPLICATION_NAME=fdasrs&actionHandle=default&nextPage=jsp/srs/ResultScreen.jsp&TXTSUPERLISTID=E5142BN92Z'}, {'name': 'surechembl', 'accession': 'SCHEMBL7310758', 'url': 'https://www.surechembl.org/chemical/SCHEMBL7310758'}, {'name': 'hmdb', 'accession': 'HMDB0061089', 'url': 'http://www.hmdb.ca/metabolites/HMDB0061089'}, {'name': 'pubchem_tpharma', 'accession': '14851557', 'url': 'http://pubchem.ncbi.nlm.nih.gov/substance/14851557'}, {'name': 'pubchem', 'accession': '107917', 'url': 'http://pubchem.ncbi.nlm.nih.gov/compound/107917'}, {'name': 'actor', 'accession': '59468-90-5', 'url': 'http://actor.epa.gov/actor/chemical.xhtml?casrn=59468-90-5'}, {'name': 'molport', 'accession': 'MolPort-003-847-951', 'url': 'https://www.molport.com/shop/molecule-link/MolPort-003-847-951'}, {'name': 'nikkaji', 'accession': 'J344.583F', 'url': 'http://jglobal.jst.go.jp/en/redirect?Nikkaji_No=J344.583F'}, {'name': 'bindingdb', 'accession': '50134248', 'url': 'http://www.bindingdb.org/bind/chemsearch/marvin/MolStructure.jsp?monomerid=50134248'}, {'name': 'comptox', 'accession': 'DTXSID50208175', 'url': 'https://comptox.epa.gov/dashboard/DTXSID50208175'}, {'name': 'metabolights', 'accession': 'MTBLC145330', 'url': 'http://www.ebi.ac.uk/metabolights/MTBLC145330'}, {'name': 'chemicalbook', 'accession': 'CB3147586', 'url': 'https://www.chemicalbook.com/ChemicalProductProperty_EN_CB3147586'}, {'name': 'NCBI PubChem Compound', 'accession': '107917', 'url': 'https://pubchem.ncbi.nlm.nih.gov/compound/107917'}, {'name': 'InChIKey through ChemSpider', 'accession': 'QHSMEGADRFZVNE-UHFFFAOYSA-N', 'url': 'http://www.chemspider.com/inchikey=QHSMEGADRFZVNE-UHFFFAOYSA-N'}, {'name': 'InChiKey resolver at NCI', 'accession': 'QHSMEGADRFZVNE-UHFFFAOYSA-N', 'url': 'http://cactus.nci.nih.gov/chemical/structure/QHSMEGADRFZVNE-UHFFFAOYSA-N/names'}], 'measurement_type': None, 'substance': {'mass': 341.77, 'charge': 0.0, 'formula': 'C18H13ClFN3O'}}, {'sid': '1-hydroxymidazolam-glucuronide', 'name': '1-hydroxymidazolam glucuronide', 'label': '1-hydroxymidazolam glucuronide', 'deprecated': False, 'ntype': 'substance', 'dtype': 'undefined', 'description': 'Metabolite of midazolam.', 'synonyms': [\"1'-OH MDZ glucuronide\", \"1'-hydroxymidazolam beta-D-glucuronide\", \"1'-hydroxymidazolam-glucuronide\", '1-hydroxymethylmidazolam glucuronide', '1-hydroxymidazolam beta-D-glucuronide', '1-hydroxymidazolam glucuronide', 'MDZ-glucuronide', 'Midazolam-N-glucuronide', '[8-chloro-6-(2-fluorophenyl)-4H-imidazo[1,5-a][1,4]benzodiazepin-1-yl]methyl beta-D-glucopyranosiduronic acid'], 'parents': [], 'annotations': [{'label': '1-hydroxymidazolam beta-D-glucuronide', 'relation': 'BQB_IS', 'term': 'CHEBI:145334', 'collection': 'chebi', 'description': 'A beta-D-glucosiduronic acid that is beta-D-glucuronic acid in which the anomeric hydroxyl hydrogen has been replaced by a 8-chloro-6-(2-fluorophenyl)-1-methyl-4H-imidazo[1,5-a][1,4]benzodiazepin-4-yl group. It is the glucuronidated conjugate of the midazolam metabolite, 1-hydroxymidazolam.', 'url': 'https://www.ebi.ac.uk/chebi/searchId.do?chebiId=CHEBI:145334'}, {'label': None, 'relation': 'BQB_IS', 'term': '133640', 'collection': 'pubchem.compound', 'description': None, 'url': 'https://pubchem.ncbi.nlm.nih.gov/compound/133640'}, {'label': None, 'relation': 'BQB_IS', 'term': 'ICIUMXQTLQXWGL-QMDPOKHVSA-N', 'collection': 'inchikey', 'description': None, 'url': 'http://www.chemspider.com/inchikey=ICIUMXQTLQXWGL-QMDPOKHVSA-N'}], 'xrefs': [{'name': 'chebi', 'accession': '145334', 'url': 'http://www.ebi.ac.uk/chebi/searchId.do?chebiId=CHEBI%3A145334'}, {'name': 'zinc', 'accession': 'ZINC000064857638', 'url': 'http://zinc15.docking.org/substances/ZINC000064857638'}, {'name': 'emolecules', 'accession': '31215263', 'url': 'https://www.emolecules.com/cgi-bin/more?vid=31215263'}, {'name': 'pubchem', 'accession': '133640', 'url': 'http://pubchem.ncbi.nlm.nih.gov/compound/133640'}, {'name': 'actor', 'accession': '81256-81-7', 'url': 'http://actor.epa.gov/actor/chemical.xhtml?casrn=81256-81-7'}, {'name': 'actor', 'accession': '85770-95-2', 'url': 'http://actor.epa.gov/actor/chemical.xhtml?casrn=85770-95-2'}, {'name': 'metabolights', 'accession': 'MTBLC145334', 'url': 'http://www.ebi.ac.uk/metabolights/MTBLC145334'}, {'name': 'NCBI PubChem Compound', 'accession': '133640', 'url': 'https://pubchem.ncbi.nlm.nih.gov/compound/133640'}, {'name': 'InChIKey through ChemSpider', 'accession': 'ICIUMXQTLQXWGL-QMDPOKHVSA-N', 'url': 'http://www.chemspider.com/inchikey=ICIUMXQTLQXWGL-QMDPOKHVSA-N'}, {'name': 'InChiKey resolver at NCI', 'accession': 'ICIUMXQTLQXWGL-QMDPOKHVSA-N', 'url': 'http://cactus.nci.nih.gov/chemical/structure/ICIUMXQTLQXWGL-QMDPOKHVSA-N/names'}], 'measurement_type': None, 'substance': {'mass': 517.89, 'charge': 0.0, 'formula': 'C24H21ClFN3O7'}}, {'sid': '1-hydroxymidazolam-over-midazolam', 'name': '1-hydroxymidazolam/midazolam', 'label': '1-hydroxymidazolam/midazolam', 'deprecated': False, 'ntype': 'substance', 'dtype': 'undefined', 'description': 'Midazolam metabolic ratio.', 'synonyms': [], 'parents': [{'sid': '1-hydroxymidazolam', 'name': '1-hydroxymidazolam', 'label': '1-hydroxymidazolam'}, {'sid': 'midazolam', 'name': 'midazolam', 'label': 'midazolam'}], 'annotations': [], 'xrefs': [], 'measurement_type': None, 'substance': {'mass': None, 'charge': None, 'formula': None}}, {'sid': '1mu', 'name': '1MU', 'label': '1MU', 'deprecated': False, 'ntype': 'substance', 'dtype': 'undefined', 'description': 'Metabolite of caffeine.', 'synonyms': ['1-MU'], 'parents': [], 'annotations': [], 'xrefs': [], 'measurement_type': None, 'substance': {'mass': None, 'charge': None, 'formula': None}}]}}\n"
     ]
    }
   ],
   "source": [
    "r = requests.get(base_url + '/info_nodes/')\n",
    "print(r.json())"
   ]
  },
  {
   "cell_type": "markdown",
   "metadata": {},
   "source": [
    "## Query data for single study"
   ]
  },
  {
   "cell_type": "code",
   "execution_count": null,
   "metadata": {},
   "outputs": [],
   "source": [
    "r = requests.get(base_r)"
   ]
  }
 ],
 "metadata": {
  "kernelspec": {
   "display_name": "pkdb_api",
   "language": "python",
   "name": "pkdb_api"
  },
  "language_info": {
   "codemirror_mode": {
    "name": "ipython",
    "version": 3
   },
   "file_extension": ".py",
   "mimetype": "text/x-python",
   "name": "python",
   "nbconvert_exporter": "python",
   "pygments_lexer": "ipython3",
   "version": "3.8.2"
  }
 },
 "nbformat": 4,
 "nbformat_minor": 4
}
