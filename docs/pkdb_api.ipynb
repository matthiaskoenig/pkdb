{
 "cells": [
  {
   "cell_type": "markdown",
   "metadata": {
    "jupyter": {
     "outputs_hidden": true
    },
    "pycharm": {
     "name": "#%% md\n"
    }
   },
   "source": [
    "# PKDB-REST API\n",
    "This document provides examples querying data from PK-DB via the REST API. In the following the python `requests` package is used to make the web service requests.\n",
    "\n",
    "The complete API documentation is available from https://pk-db.com/api/v1/swagger/.\n",
    "\n",
    "For questions and information please contact konigmatt@googlemail.com"
   ]
  },
  {
   "cell_type": "code",
   "execution_count": 60,
   "metadata": {},
   "outputs": [],
   "source": [
    "# definition of the base url of the API\n",
    "base_url = \"http://0.0.0.0:8000/api/v1\"  # https://pk-db.com/api/v1"
   ]
  },
  {
   "cell_type": "code",
   "execution_count": 61,
   "metadata": {
    "collapsed": false,
    "jupyter": {
     "outputs_hidden": false
    },
    "pycharm": {
     "name": "#%%\n"
    }
   },
   "outputs": [],
   "source": [
    "import requests\n",
    "from requests import Response\n",
    "from pprint import pprint\n",
    "import pandas as pd\n",
    "\n",
    "\n",
    "def json_print(r: Response):\n",
    "    \"\"\"Simple print for JSON content of response.\"\"\"\n",
    "    json = r.json()\n",
    "    pprint(json, sort_dicts=False)"
   ]
  },
  {
   "cell_type": "markdown",
   "metadata": {},
   "source": [
    "## Statistics\n",
    "The `/statistics/` endpoint allows to retrieve a basic overview of the content of PK-DB, consisting of the counts and version information.\n",
    "\n",
    "To try the query in your browser use  \n",
    "<a href=\"https://pk-db.com/api/v1/statistics/?format=json\" target=\"_blank\">https://pk-db.com/api/v1/statistics/?format=json</a>"
   ]
  },
  {
   "cell_type": "code",
   "execution_count": 72,
   "metadata": {
    "collapsed": false,
    "jupyter": {
     "outputs_hidden": false
    },
    "pycharm": {
     "name": "#%%\n"
    }
   },
   "outputs": [
    {
     "name": "stdout",
     "output_type": "stream",
     "text": [
      "{'version': '0.9.2a3',\n",
      " 'study_count': 507,\n",
      " 'reference_count': 507,\n",
      " 'group_count': 1447,\n",
      " 'individual_count': 6212,\n",
      " 'intervention_count': 1391,\n",
      " 'output_count': 72068,\n",
      " 'output_calculated_count': 11651,\n",
      " 'timecourse_count': 3036,\n",
      " 'scatter_count': 37}\n"
     ]
    }
   ],
   "source": [
    "# query endpoint and print results\n",
    "r = requests.get(f'{base_url}/statistics/')\n",
    "json_print(r)"
   ]
  },
  {
   "cell_type": "markdown",
   "metadata": {},
   "source": [
    "## Info nodes\n",
    "Information in PK-DB is organized as info nodes. Meta-information is encoded in the form of the info nodes which for a given field encodes meta-data such as description, synonyms, annotations and database cross-references. The information in the info nodes can be used to map data to other databases.\n",
    "\n",
    "### Get info node information\n",
    "Information on info nodes can be retrieved using the `sid` with the `info_nodes` endpoint. An overview of the existing info nodes is available from the info nodes tab https://pk-db/curation. \n",
    "\n",
    "In the following example we query the information for the substance `caffeine` with the`sid=caf`\n",
    "\n",
    "To try the query in your browser use  \n",
    "<a href=\"https://pk-db.com/api/v1/info_nodes/caf/?format=json\" target=\"_blank\">https://pk-db.com/api/v1/info_nodes/caf/?format=json</a>"
   ]
  },
  {
   "cell_type": "code",
   "execution_count": 62,
   "metadata": {},
   "outputs": [
    {
     "name": "stdout",
     "output_type": "stream",
     "text": [
      "{'sid': 'caf',\n",
      " 'name': 'caffeine',\n",
      " 'label': 'caffeine',\n",
      " 'deprecated': False,\n",
      " 'ntype': 'substance',\n",
      " 'dtype': 'undefined',\n",
      " 'description': 'A methylxanthine alkaloid found in the seeds, nuts, or leaves '\n",
      "                'of a number of plants native to South America and East Asia '\n",
      "                'that is structurally related to adenosine and acts primarily '\n",
      "                'as an adenosine receptor antagonist with psychotropic and '\n",
      "                'anti-inflammatory activities.',\n",
      " 'synonyms': ['1,3,7-TMX',\n",
      "              '1,3,7-Trimethylxanthine',\n",
      "              '1,3,7-trimethyl-3,7-dihydro-1H-purine-2,6-dione',\n",
      "              '1,3,7-trimethylpurine-2,6-dione',\n",
      "              '1,3,7-trimethylxanthine',\n",
      "              '1-methyltheobromine',\n",
      "              '137MX',\n",
      "              '3,7-Dihydro-1,3,7-trimethyl-1H-purin-2,6-dion',\n",
      "              '3,7-Dihydro-1,3,7-trimethyl-1H-purine-2,6-dione',\n",
      "              '7-methyltheophylline',\n",
      "              'CAF',\n",
      "              'CAFFEINE',\n",
      "              'Caffeine',\n",
      "              'Coffein',\n",
      "              'Koffein',\n",
      "              'Methyltheobromine',\n",
      "              'Thein',\n",
      "              'Theine',\n",
      "              'anhydrous caffeine',\n",
      "              'cafeina',\n",
      "              'cafeine',\n",
      "              'caffeine',\n",
      "              'guaranine',\n",
      "              'mateina',\n",
      "              'methyltheobromine',\n",
      "              'teina',\n",
      "              'theine',\n",
      "              '1,3,7-trimethyl-2,6-dioxopurine',\n",
      "              'Trimethylxanthine'],\n",
      " 'parents': [],\n",
      " 'annotations': [{'label': 'caffeine',\n",
      "                  'relation': 'BQB_IS',\n",
      "                  'term': 'CHEBI:27732',\n",
      "                  'collection': 'chebi',\n",
      "                  'description': 'A trimethylxanthine in which the three '\n",
      "                                 'methyl groups are located at positions 1, 3, '\n",
      "                                 'and 7. A purine alkaloid that occurs '\n",
      "                                 'naturally in tea and coffee.',\n",
      "                  'url': 'https://www.ebi.ac.uk/chebi/searchId.do?chebiId=CHEBI:27732'},\n",
      "                 {'label': 'Caffeine',\n",
      "                  'relation': 'BQB_IS',\n",
      "                  'term': 'C328',\n",
      "                  'collection': 'ncit',\n",
      "                  'description': 'A methylxanthine alkaloid found in the '\n",
      "                                 'seeds, nuts, or leaves of a number of plants '\n",
      "                                 'native to South America and East Asia that '\n",
      "                                 'is structurally related to adenosine and '\n",
      "                                 'acts primarily as an adenosine receptor '\n",
      "                                 'antagonist with psychotropic and '\n",
      "                                 'anti-inflammatory activities. Upon '\n",
      "                                 'ingestion, caffeine binds to adenosine '\n",
      "                                 'receptors in the central nervous system '\n",
      "                                 '(CNS), which inhibits adenosine binding. '\n",
      "                                 'This inhibits the adenosine-mediated '\n",
      "                                 'downregulation of CNS activity; thus, '\n",
      "                                 'stimulating the activity of the medullary, '\n",
      "                                 'vagal, vasomotor, and respiratory centers in '\n",
      "                                 'the brain. This agent also promotes '\n",
      "                                 'neurotransmitter release that further '\n",
      "                                 'stimulates the CNS. The anti-inflammatory '\n",
      "                                 'effects of caffeine are due the nonselective '\n",
      "                                 'competitive inhibition of phosphodiesterases '\n",
      "                                 '(PDEs). Inhibition of PDEs raises the '\n",
      "                                 'intracellular concentration of cyclic AMP '\n",
      "                                 '(cAMP), activates protein kinase A, and '\n",
      "                                 'inhibits leukotriene synthesis, which leads '\n",
      "                                 'to reduced inflammation and innate immunity.',\n",
      "                  'url': 'http://ncit.nci.nih.gov/ncitbrowser/ConceptReport.jsp?dictionary=NCI%20Thesaurus&code=C328'},\n",
      "                 {'label': None,\n",
      "                  'relation': 'BQB_IS',\n",
      "                  'term': 'RYYVLZVUVIJVGH-UHFFFAOYSA-N',\n",
      "                  'collection': 'inchikey',\n",
      "                  'description': None,\n",
      "                  'url': 'http://www.chemspider.com/inchikey=RYYVLZVUVIJVGH-UHFFFAOYSA-N'}],\n",
      " 'xrefs': [{'name': 'chembl',\n",
      "            'accession': 'CHEMBL113',\n",
      "            'url': 'https://www.ebi.ac.uk/chembldb/compound/inspect/CHEMBL113'},\n",
      "           {'name': 'drugbank',\n",
      "            'accession': 'DB00201',\n",
      "            'url': 'http://www.drugbank.ca/drugs/DB00201'},\n",
      "           {'name': 'pdb',\n",
      "            'accession': 'CFF',\n",
      "            'url': 'http://www.ebi.ac.uk/pdbe-srv/pdbechem/chemicalCompound/show/CFF'},\n",
      "           {'name': 'gtopdb',\n",
      "            'accession': '407',\n",
      "            'url': 'http://www.guidetopharmacology.org/GRAC/LigandDisplayForward?ligandId=407'},\n",
      "           {'name': 'kegg_ligand',\n",
      "            'accession': 'C07481',\n",
      "            'url': 'http://www.genome.jp/dbget-bin/www_bget?C07481'},\n",
      "           {'name': 'chebi',\n",
      "            'accession': '27732',\n",
      "            'url': 'http://www.ebi.ac.uk/chebi/searchId.do?chebiId=CHEBI%3A27732'},\n",
      "           {'name': 'zinc',\n",
      "            'accession': 'ZINC000000001084',\n",
      "            'url': 'http://zinc15.docking.org/substances/ZINC000000001084'},\n",
      "           {'name': 'emolecules',\n",
      "            'accession': '27517656',\n",
      "            'url': 'https://www.emolecules.com/cgi-bin/more?vid=27517656'},\n",
      "           {'name': 'emolecules',\n",
      "            'accession': '493944',\n",
      "            'url': 'https://www.emolecules.com/cgi-bin/more?vid=493944'},\n",
      "           {'name': 'atlas',\n",
      "            'accession': 'caffeine',\n",
      "            'url': 'http://www.ebi.ac.uk/gxa/query?conditionQuery=caffeine'},\n",
      "           {'name': 'fdasrs',\n",
      "            'accession': '3G6A5W338E',\n",
      "            'url': 'http://fdasis.nlm.nih.gov/srs/ProxyServlet?mergeData=true&objectHandle=DBMaint&APPLICATION_NAME=fdasrs&actionHandle=default&nextPage=jsp/srs/ResultScreen.jsp&TXTSUPERLISTID=3G6A5W338E'},\n",
      "           {'name': 'surechembl',\n",
      "            'accession': 'SCHEMBL5671',\n",
      "            'url': 'https://www.surechembl.org/chemical/SCHEMBL5671'},\n",
      "           {'name': 'pharmgkb',\n",
      "            'accession': 'PA448710',\n",
      "            'url': 'https://www.pharmgkb.org/drug/PA448710'},\n",
      "           {'name': 'hmdb',\n",
      "            'accession': 'HMDB0001847',\n",
      "            'url': 'http://www.hmdb.ca/metabolites/HMDB0001847'},\n",
      "           {'name': 'pubchem_tpharma',\n",
      "            'accession': '14772978',\n",
      "            'url': 'http://pubchem.ncbi.nlm.nih.gov/substance/14772978'},\n",
      "           {'name': 'pubchem',\n",
      "            'accession': '2519',\n",
      "            'url': 'http://pubchem.ncbi.nlm.nih.gov/compound/2519'},\n",
      "           {'name': 'mcule',\n",
      "            'accession': 'MCULE-3362813910',\n",
      "            'url': 'https://mcule.com/MCULE-3362813910'},\n",
      "           {'name': 'nmrshiftdb2',\n",
      "            'accession': '10016316',\n",
      "            'url': 'http://nmrshiftdb.org/molecule/10016316'},\n",
      "           {'name': 'lincs',\n",
      "            'accession': 'LSM-2026',\n",
      "            'url': 'http://identifiers.org/lincs.smallmolecule/LSM-2026'},\n",
      "           {'name': 'actor',\n",
      "            'accession': '58-08-2',\n",
      "            'url': 'http://actor.epa.gov/actor/chemical.xhtml?casrn=58-08-2'},\n",
      "           {'name': 'nikkaji',\n",
      "            'accession': 'J2.330B',\n",
      "            'url': 'http://jglobal.jst.go.jp/en/redirect?Nikkaji_No=J2.330B'},\n",
      "           {'name': 'bindingdb',\n",
      "            'accession': '10849',\n",
      "            'url': 'http://www.bindingdb.org/bind/chemsearch/marvin/MolStructure.jsp?monomerid=10849'},\n",
      "           {'name': 'comptox',\n",
      "            'accession': 'DTXSID0020232',\n",
      "            'url': 'https://comptox.epa.gov/dashboard/DTXSID0020232'},\n",
      "           {'name': 'drugcentral',\n",
      "            'accession': '463',\n",
      "            'url': 'http://drugcentral.org/drugcard/463'},\n",
      "           {'name': 'metabolights',\n",
      "            'accession': 'MTBLC27732',\n",
      "            'url': 'http://www.ebi.ac.uk/metabolights/MTBLC27732'},\n",
      "           {'name': 'brenda',\n",
      "            'accession': '207634',\n",
      "            'url': 'https://www.brenda-enzymes.org/ligand.php?brenda_ligand_id=207634'},\n",
      "           {'name': 'brenda',\n",
      "            'accession': '207635',\n",
      "            'url': 'https://www.brenda-enzymes.org/ligand.php?brenda_ligand_id=207635'},\n",
      "           {'name': 'brenda',\n",
      "            'accession': '51266',\n",
      "            'url': 'https://www.brenda-enzymes.org/ligand.php?brenda_ligand_id=51266'},\n",
      "           {'name': 'brenda',\n",
      "            'accession': '7965',\n",
      "            'url': 'https://www.brenda-enzymes.org/ligand.php?brenda_ligand_id=7965'},\n",
      "           {'name': 'brenda',\n",
      "            'accession': '882',\n",
      "            'url': 'https://www.brenda-enzymes.org/ligand.php?brenda_ligand_id=882'},\n",
      "           {'name': 'rhea',\n",
      "            'accession': '27732',\n",
      "            'url': 'http://www.rhea-db.org/searchresults?q=CHEBI:27732'},\n",
      "           {'name': 'dailymed',\n",
      "            'accession': 'CAFFEINE',\n",
      "            'url': 'https://dailymed.nlm.nih.gov/dailymed/search.cfm?adv=1&labeltype=human&query=ACTIVEMOIETY:(CAFFEINE'},\n",
      "           {'name': 'clinicaltrials',\n",
      "            'accession': 'ANHYDROUS CAFFEINE',\n",
      "            'url': 'https://www.clinicaltrials.gov/ct2/results?&type=Intr&intr=%22ANHYDROUS%20CAFFEINE%22'},\n",
      "           {'name': 'clinicaltrials',\n",
      "            'accession': 'CAFCIT',\n",
      "            'url': 'https://www.clinicaltrials.gov/ct2/results?&type=Intr&intr=%22CAFCIT%22'},\n",
      "           {'name': 'clinicaltrials',\n",
      "            'accession': 'CAFFEINE',\n",
      "            'url': 'https://www.clinicaltrials.gov/ct2/results?&type=Intr&intr=%22CAFFEINE%22'},\n",
      "           {'name': 'clinicaltrials',\n",
      "            'accession': 'CAFFEINE CITRATE',\n",
      "            'url': 'https://www.clinicaltrials.gov/ct2/results?&type=Intr&intr=%22CAFFEINE%20CITRATE%22'},\n",
      "           {'name': 'clinicaltrials',\n",
      "            'accession': 'PEYONA',\n",
      "            'url': 'https://www.clinicaltrials.gov/ct2/results?&type=Intr&intr=%22PEYONA%22'},\n",
      "           {'name': 'InChIKey through ChemSpider',\n",
      "            'accession': 'RYYVLZVUVIJVGH-UHFFFAOYSA-N',\n",
      "            'url': 'http://www.chemspider.com/inchikey=RYYVLZVUVIJVGH-UHFFFAOYSA-N'},\n",
      "           {'name': 'InChiKey resolver at NCI',\n",
      "            'accession': 'RYYVLZVUVIJVGH-UHFFFAOYSA-N',\n",
      "            'url': 'http://cactus.nci.nih.gov/chemical/structure/RYYVLZVUVIJVGH-UHFFFAOYSA-N/names'},\n",
      "           {'name': 'ibm',\n",
      "            'accession': 'F5DC77C5C625DA4D47FA47B7105235AE',\n",
      "            'url': 'http://www-935.ibm.com/services/us/gbs/bao/siip/nih/?sid=F5DC77C5C625DA4D47FA47B7105235AE'}],\n",
      " 'measurement_type': None,\n",
      " 'substance': {'mass': 194.19076, 'charge': 0.0, 'formula': 'C8H10N4O2'}}\n"
     ]
    }
   ],
   "source": [
    "# query caffeine info_node\n",
    "r = requests.get(f'{base_url}/info_nodes/caf/')\n",
    "json_print(r)"
   ]
  },
  {
   "cell_type": "markdown",
   "metadata": {},
   "source": [
    "### Search info node\n",
    "Info nodes can be search via the `search` argument to the `/info_nodes/` endpoint. \n",
    "\n",
    "In the following example info nodes containing `caffeine` are searched. The results are paginated and if more then a single page of results exists the results from multiple pages have to be combined. \n",
    "The We parse the JSON response in a pandas DataFrame and display `sid`, `name`, `label` and `description` for the top 10 results.\n",
    "\n",
    "To try the query in your browser use  \n",
    "<a href=\"https://pk-db.com/api/v1/info_nodes/?search=caffeine&format=json\" target=\"_blank\">https://pk-db.com/api/v1/info_nodes/?search=caffeine&format=json</a>"
   ]
  },
  {
   "cell_type": "code",
   "execution_count": 64,
   "metadata": {},
   "outputs": [
    {
     "name": "stdout",
     "output_type": "stream",
     "text": [
      "Number of info nodes on page: 41\n"
     ]
    },
    {
     "data": {
      "text/html": [
       "<div>\n",
       "<style scoped>\n",
       "    .dataframe tbody tr th:only-of-type {\n",
       "        vertical-align: middle;\n",
       "    }\n",
       "\n",
       "    .dataframe tbody tr th {\n",
       "        vertical-align: top;\n",
       "    }\n",
       "\n",
       "    .dataframe thead th {\n",
       "        text-align: right;\n",
       "    }\n",
       "</style>\n",
       "<table border=\"1\" class=\"dataframe\">\n",
       "  <thead>\n",
       "    <tr style=\"text-align: right;\">\n",
       "      <th></th>\n",
       "      <th>sid</th>\n",
       "      <th>name</th>\n",
       "      <th>label</th>\n",
       "      <th>description</th>\n",
       "    </tr>\n",
       "  </thead>\n",
       "  <tbody>\n",
       "    <tr>\n",
       "      <th>0</th>\n",
       "      <td>caf</td>\n",
       "      <td>caffeine</td>\n",
       "      <td>caffeine</td>\n",
       "      <td>A methylxanthine alkaloid found in the seeds, ...</td>\n",
       "    </tr>\n",
       "    <tr>\n",
       "      <th>1</th>\n",
       "      <td>caffeine-citrate</td>\n",
       "      <td>caffeine citrate</td>\n",
       "      <td>caffeine citrate</td>\n",
       "      <td>Commercial citrate of caffeine, though not a d...</td>\n",
       "    </tr>\n",
       "    <tr>\n",
       "      <th>2</th>\n",
       "      <td>caffeine-monohydrate</td>\n",
       "      <td>caffeine monohydrate</td>\n",
       "      <td>caffeine monohydrate</td>\n",
       "      <td>Caffeine monohydrate.</td>\n",
       "    </tr>\n",
       "    <tr>\n",
       "      <th>3</th>\n",
       "      <td>17u</td>\n",
       "      <td>17U</td>\n",
       "      <td>17U</td>\n",
       "      <td>Metabolite of caffeine.</td>\n",
       "    </tr>\n",
       "    <tr>\n",
       "      <th>4</th>\n",
       "      <td>px</td>\n",
       "      <td>paraxanthine</td>\n",
       "      <td>paraxanthine</td>\n",
       "      <td>A dimethylxanthine having the two methyl group...</td>\n",
       "    </tr>\n",
       "    <tr>\n",
       "      <th>5</th>\n",
       "      <td>tp</td>\n",
       "      <td>theophylline</td>\n",
       "      <td>theophylline</td>\n",
       "      <td>A natural alkaloid derivative of xanthine isol...</td>\n",
       "    </tr>\n",
       "    <tr>\n",
       "      <th>6</th>\n",
       "      <td>137mu</td>\n",
       "      <td>137MU</td>\n",
       "      <td>137MU</td>\n",
       "      <td>Metabolite of caffeine.</td>\n",
       "    </tr>\n",
       "    <tr>\n",
       "      <th>7</th>\n",
       "      <td>137tmu</td>\n",
       "      <td>137TMU</td>\n",
       "      <td>137TMU</td>\n",
       "      <td>Metabolite of caffeine.</td>\n",
       "    </tr>\n",
       "    <tr>\n",
       "      <th>8</th>\n",
       "      <td>13dmu</td>\n",
       "      <td>13DMU</td>\n",
       "      <td>13DMU</td>\n",
       "      <td>Metabolite of caffeine.</td>\n",
       "    </tr>\n",
       "    <tr>\n",
       "      <th>9</th>\n",
       "      <td>13mu</td>\n",
       "      <td>13MU</td>\n",
       "      <td>13MU</td>\n",
       "      <td>Metabolite of caffeine.</td>\n",
       "    </tr>\n",
       "  </tbody>\n",
       "</table>\n",
       "</div>"
      ],
      "text/plain": [
       "                    sid                  name                 label  \\\n",
       "0                   caf              caffeine              caffeine   \n",
       "1      caffeine-citrate      caffeine citrate      caffeine citrate   \n",
       "2  caffeine-monohydrate  caffeine monohydrate  caffeine monohydrate   \n",
       "3                   17u                   17U                   17U   \n",
       "4                    px          paraxanthine          paraxanthine   \n",
       "5                    tp          theophylline          theophylline   \n",
       "6                 137mu                 137MU                 137MU   \n",
       "7                137tmu                137TMU                137TMU   \n",
       "8                 13dmu                 13DMU                 13DMU   \n",
       "9                  13mu                  13MU                  13MU   \n",
       "\n",
       "                                         description  \n",
       "0  A methylxanthine alkaloid found in the seeds, ...  \n",
       "1  Commercial citrate of caffeine, though not a d...  \n",
       "2                              Caffeine monohydrate.  \n",
       "3                            Metabolite of caffeine.  \n",
       "4  A dimethylxanthine having the two methyl group...  \n",
       "5  A natural alkaloid derivative of xanthine isol...  \n",
       "6                            Metabolite of caffeine.  \n",
       "7                            Metabolite of caffeine.  \n",
       "8                            Metabolite of caffeine.  \n",
       "9                            Metabolite of caffeine.  "
      ]
     },
     "execution_count": 64,
     "metadata": {},
     "output_type": "execute_result"
    }
   ],
   "source": [
    "# query info nodes about caffeine\n",
    "r = requests.get(f'{base_url}/info_nodes/?search=caffeine')\n",
    "json = r.json()\n",
    "\n",
    "# The 'data' key contains all the response data consisting of count and actual data\n",
    "count = json[\"data\"][\"count\"]\n",
    "print(f\"Number of info nodes on page: {count}\")\n",
    "\n",
    "# conversion of result data to a pandas DataFrame\n",
    "data = json[\"data\"][\"data\"]\n",
    "df = pd.DataFrame.from_dict(data)\n",
    "\n",
    "# printing selected columns\n",
    "df[[\"sid\", \"name\", \"label\", \"description\"]].head(10)"
   ]
  },
  {
   "cell_type": "markdown",
   "metadata": {},
   "source": [
    "### Get all info nodes\n",
    "To retrieve all available info nodes use the `/info_nodes/` endpoint.\n",
    "\n",
    "To try the query in your browser use  \n",
    "<a href=\"https://pk-db.com/api/v1/info_nodes/?format=json\" target=\"_blank\">https://pk-db.com/api/v1/info_nodes/?format=json</a>"
   ]
  },
  {
   "cell_type": "code",
   "execution_count": 65,
   "metadata": {
    "collapsed": false,
    "jupyter": {
     "outputs_hidden": false
    },
    "pycharm": {
     "name": "#%%\n"
    }
   },
   "outputs": [
    {
     "name": "stdout",
     "output_type": "stream",
     "text": [
      "Number of info nodes: 1030\n"
     ]
    }
   ],
   "source": [
    "r = requests.get(f'{base_url}/info_nodes/')\n",
    "json = r.json()\n",
    "print(f\"Number of info nodes: {json['data']['count']}\")"
   ]
  },
  {
   "cell_type": "markdown",
   "metadata": {},
   "source": [
    "To access the next page of a paginated page use the `page` argument.\n",
    "\n",
    "For instance to access the page 2 use\n",
    "<a href=\"https://pk-db.com/api/v1/info_nodes/?page=2&format=json\" target=\"_blank\">https://pk-db.com/api/v1/info_nodes/?page=2&format=json</a>"
   ]
  },
  {
   "cell_type": "markdown",
   "metadata": {},
   "source": [
    "## Search and filter data\n",
    "The `/filter/` endpoint is the main endpoint to search and filter data. The endpoint returns a `uuid` to access the information of the results and and overview of the counts. The `studies__*`, `groups__*`, `individuals_*`, ... arguments allow to search and filter on the respective information of the studies. These arguments correspond to the search flags in web search.\n",
    "\n",
    "In the following example we filter the information for the study with the name `Abernethy1982`. Importantly, the `uuid` is not permanent. To run the following queries\n",
    "\n",
    "To try the query in your browser use  \n",
    "<a href=\"https://pk-db.com/api/v1/info_nodes/filter/?studies__name=Abernethy1982&format=json\" target=\"_blank\">https://pk-db.com/api/v1/info_nodes/filter/?studies__name=Abernethy1982&format=json</a>"
   ]
  },
  {
   "cell_type": "code",
   "execution_count": 69,
   "metadata": {
    "collapsed": false,
    "jupyter": {
     "outputs_hidden": false
    },
    "pycharm": {
     "name": "#%%\n"
    }
   },
   "outputs": [
    {
     "name": "stdout",
     "output_type": "stream",
     "text": [
      "{'uuid': '5873b5e3-7a48-4288-80b4-553f721e3a51',\n",
      " 'studies': 1,\n",
      " 'groups': 4,\n",
      " 'individuals': 46,\n",
      " 'interventions': 1,\n",
      " 'outputs': 147,\n",
      " 'timecourses': 4,\n",
      " 'scatter': 0}\n",
      "\n",
      "uuid: 5873b5e3-7a48-4288-80b4-553f721e3a51\n"
     ]
    }
   ],
   "source": [
    "r = requests.get(f'{base_url}/filter/?studies__name=Abernethy1982')\n",
    "json_print(r)\n",
    "uuid = r.json()['uuid']\n",
    "print(f\"\\nuuid: {uuid}\")"
   ]
  },
  {
   "cell_type": "markdown",
   "metadata": {},
   "source": [
    "### Accessing data for search query \n",
    "The `groups`, `individuals`, `interventions`, `outputs`, `timecourses` and `scatters` can now be loaded using the `uuid`"
   ]
  },
  {
   "cell_type": "code",
   "execution_count": 75,
   "metadata": {},
   "outputs": [
    {
     "name": "stdout",
     "output_type": "stream",
     "text": [
      "http://0.0.0.0:8000/api/v1/groups/?uuid=5873b5e3-7a48-4288-80b4-553f721e3a51&format=json\n",
      "groups: 4\n",
      "http://0.0.0.0:8000/api/v1/individuals/?uuid=5873b5e3-7a48-4288-80b4-553f721e3a51&format=json\n",
      "individuals: 46\n",
      "http://0.0.0.0:8000/api/v1/interventions/?uuid=5873b5e3-7a48-4288-80b4-553f721e3a51&format=json\n",
      "interventions: 1\n",
      "http://0.0.0.0:8000/api/v1/outputs/?uuid=5873b5e3-7a48-4288-80b4-553f721e3a51&format=json\n",
      "outputs: 147\n",
      "http://0.0.0.0:8000/api/v1/subsets/?data_type=timecourse&uuid=5873b5e3-7a48-4288-80b4-553f721e3a51&format=json\n",
      "timecourses: 4\n",
      "http://0.0.0.0:8000/api/v1/subsets/?data_type=scatter&uuid=5873b5e3-7a48-4288-80b4-553f721e3a51&format=json\n",
      "scatters: 0\n"
     ]
    }
   ],
   "source": [
    "# query information via uuid\n",
    "for endpoint in [\"groups\", \"individuals\", \"interventions\", \"outputs\"]:\n",
    "    url = f\"{base_url}/{endpoint}/?uuid={uuid}&format=json\"\n",
    "    print(url)\n",
    "    r = requests.get(url)\n",
    "    count = r.json()[\"data\"][\"count\"]\n",
    "    print(f\"{endpoint}: {count}\")\n",
    "    \n",
    "# query timecourses and scatters\n",
    "for data_type in [\"timecourse\", \"scatter\"]:\n",
    "    url = f\"{base_url}/subsets/?data_type={data_type}&uuid={uuid}&format=json\"\n",
    "    print(url)\n",
    "    r = requests.get(url)\n",
    "    count = r.json()[\"data\"][\"count\"]\n",
    "    print(f\"{data_type}s: {count}\")\n"
   ]
  },
  {
   "cell_type": "markdown",
   "metadata": {},
   "source": [
    "### Download data\n",
    "Data can be downloaded using the `download` argument returning the information as zip archive."
   ]
  },
  {
   "cell_type": "code",
   "execution_count": 86,
   "metadata": {},
   "outputs": [
    {
     "name": "stdout",
     "output_type": "stream",
     "text": [
      "http://0.0.0.0:8000/api/v1/filter/?studies__name=Abernethy1982&download=true\n",
      "created temporary directory /tmp/tmpj0_b0owr\n",
      "['studies.csv', 'scatter.csv', 'timecourses.csv', 'groups.csv', 'outputs.csv', 'interventions.csv', 'individuals.csv']\n",
      "     study_sid     study_name  output_pk  intervention_pk  group_pk  \\\n",
      "0    PKDB00198  Abernethy1982         29                2       6.0   \n",
      "1    PKDB00198  Abernethy1982         31                2       4.0   \n",
      "2    PKDB00198  Abernethy1982         23                2       3.0   \n",
      "3    PKDB00198  Abernethy1982         32                2       4.0   \n",
      "4    PKDB00198  Abernethy1982         30                2       6.0   \n",
      "..         ...            ...        ...              ...       ...   \n",
      "142  PKDB00198  Abernethy1982        288                2       NaN   \n",
      "143  PKDB00198  Abernethy1982        289                2       NaN   \n",
      "144  PKDB00198  Abernethy1982        290                2       NaN   \n",
      "145  PKDB00198  Abernethy1982        293                2       NaN   \n",
      "146  PKDB00198  Abernethy1982        294                2       NaN   \n",
      "\n",
      "     individual_pk  normed  calculated  tissue  method  ...    substance  \\\n",
      "0              NaN    True       False  plasma     NaN  ...  paracetamol   \n",
      "1              NaN    True       False  plasma     NaN  ...  paracetamol   \n",
      "2              NaN    True       False  plasma     NaN  ...  paracetamol   \n",
      "3              NaN    True       False  plasma     NaN  ...  paracetamol   \n",
      "4              NaN    True       False  plasma     NaN  ...  paracetamol   \n",
      "..             ...     ...         ...     ...     ...  ...          ...   \n",
      "142            4.0    True        True  plasma     NaN  ...  paracetamol   \n",
      "143            4.0    True        True  plasma     NaN  ...  paracetamol   \n",
      "144            4.0    True        True  plasma     NaN  ...  paracetamol   \n",
      "145            4.0    True        True  plasma     NaN  ...  paracetamol   \n",
      "146            4.0    True        True  plasma     NaN  ...  paracetamol   \n",
      "\n",
      "          value    mean median      min      max  sd  se  cv  \\\n",
      "0           NaN  19.380    NaN  11.9400  29.3400 NaN NaN NaN   \n",
      "1           NaN   2.320    NaN   1.7300   3.1700 NaN NaN NaN   \n",
      "2           NaN   0.810    NaN   0.5300   1.3100 NaN NaN NaN   \n",
      "3           NaN  61.400    NaN  47.0000  82.1000 NaN NaN NaN   \n",
      "4           NaN   0.273    NaN   0.2286   0.4164 NaN NaN NaN   \n",
      "..          ...     ...    ...      ...      ...  ..  ..  ..   \n",
      "142    0.017373     NaN    NaN      NaN      NaN NaN NaN NaN   \n",
      "143   37.415283     NaN    NaN      NaN      NaN NaN NaN NaN   \n",
      "144    0.012036     NaN    NaN      NaN      NaN NaN NaN NaN   \n",
      "145  122.530075     NaN    NaN      NaN      NaN NaN NaN NaN   \n",
      "146  123.189330     NaN    NaN      NaN      NaN NaN NaN NaN   \n",
      "\n",
      "                        unit  \n",
      "0               liter / hour  \n",
      "1                       hour  \n",
      "2           liter / kilogram  \n",
      "3                      liter  \n",
      "4    liter / hour / kilogram  \n",
      "..                       ...  \n",
      "142      gram * hour / liter  \n",
      "143             liter / hour  \n",
      "144             gram / liter  \n",
      "145                    liter  \n",
      "146                    liter  \n",
      "\n",
      "[147 rows x 26 columns]\n"
     ]
    }
   ],
   "source": [
    "import os\n",
    "import requests, zipfile, io\n",
    "import tempfile\n",
    "\n",
    "url = f\"{base_url}/filter/?studies__name=Abernethy1982&download=true\"\n",
    "print(url)\n",
    "\n",
    "r = requests.get(url)\n",
    "z = zipfile.ZipFile(io.BytesIO(r.content))\n",
    "\n",
    "with tempfile.TemporaryDirectory() as tmpdir:\n",
    "    print('created temporary directory', tmpdir)\n",
    "    z.extractall(tmpdir)\n",
    "    \n",
    "    # zip contains information on studies, groups, individuals, interventions, outputs, timecourses, scatters\n",
    "    print(os.listdir(tmpdir))\n",
    "    \n",
    "    # loading the outputs as DataFrame\n",
    "    df = pd.read_csv(os.path.join(tmpdir, \"outputs.csv\"), index_col=0)\n",
    "    print(df)\n",
    "    "
   ]
  }
 ],
 "metadata": {
  "kernelspec": {
   "display_name": "pkdb_api",
   "language": "python",
   "name": "pkdb_api"
  },
  "language_info": {
   "codemirror_mode": {
    "name": "ipython",
    "version": 3
   },
   "file_extension": ".py",
   "mimetype": "text/x-python",
   "name": "python",
   "nbconvert_exporter": "python",
   "pygments_lexer": "ipython3",
   "version": "3.8.2"
  }
 },
 "nbformat": 4,
 "nbformat_minor": 4
}
